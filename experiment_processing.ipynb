{
 "cells": [
  {
   "cell_type": "markdown",
   "metadata": {},
   "source": [
    "# HT-MEK Data Processing Workbook\n",
    "Author: Micah Olivas"
   ]
  },
  {
   "cell_type": "code",
   "execution_count": 35,
   "metadata": {},
   "outputs": [
    {
     "name": "stdout",
     "output_type": "stream",
     "text": [
      "The autoreload extension is already loaded. To reload it, use:\n",
      "  %reload_ext autoreload\n",
      "INFO: Pandarallel will run on 8 workers.\n",
      "INFO: Pandarallel will use standard multiprocessing data transfer (pipe) to transfer data between the main process and workers.\n"
     ]
    }
   ],
   "source": [
    "# This will autoreload imported modules\n",
    "%load_ext autoreload\n",
    "%autoreload 2\n",
    "\n",
    "# Import modules\n",
    "from experiment_processing import processing\n",
    "\n",
    "# Set up parallel processing\n",
    "processing.pandarallel.initialize(progress_bar=True)"
   ]
  },
  {
   "cell_type": "markdown",
   "metadata": {},
   "source": [
    "# Import kinetic and standard series data"
   ]
  },
  {
   "cell_type": "markdown",
   "metadata": {},
   "source": [
    "Read raw kinetic and standards data with Pandas"
   ]
  },
  {
   "cell_type": "code",
   "execution_count": 155,
   "metadata": {},
   "outputs": [],
   "source": [
    "kinetic_data_path = '/Users/micaholivas/Desktop/Stanford/Research/Projects/Salesforce_Progen_Predictions/Small_ACYP_Library/4_Experiments/230207/230207_SFL_nanobody/Assays/AcP_titration/d2_TitrationSeries_Analysis.csv.bz2'\n",
    "standard_data_path = '/Users/micaholivas/Desktop/Stanford/Research/Projects/Salesforce_Progen_Predictions/Small_ACYP_Library/4_Experiments/230207/230207_SFL_nanobody/Standards/Analysis/d2_pbp_StandardSeries_Analysis.csv.bz2'\n",
    "egfp_data_path = '/Users/micaholivas/Desktop/Stanford/Research/Projects/Salesforce_Progen_Predictions/Small_ACYP_Library/4_Experiments/230207/230207_SFL_nanobody/eGFP/20230208_173620_d2_quant_PBS_pH7_4_egfp/egfp/StitchedImagesGFP_Summary.csv.bz2'\n",
    "egfp_button_summary_image_path = '/Users/micaholivas/Desktop/Stanford/Research/Projects/Salesforce_Progen_Predictions/Small_ACYP_Library/4_Experiments/230207/230207_SFL_nanobody/eGFP/20230208_173620_d2_quant_PBS_pH7_4_egfp/egfp/StitchedImages/SummaryImages_true/Summary_BGSubtracted_StitchedImg_500_egfp_0.tif'\n",
    "\n",
    "# experiment information\n",
    "experimental_day = '230207'\n",
    "experiment_name = 'Acyp_SFL'\n",
    "setup = 'S7'\n",
    "device = 'd2'\n",
    "egfp_slope = 188847\n",
    "substrate = 'AcP'\n",
    "all_substrate_concs = [100, 75, 50, 25, 10]\n",
    "device_columns = 32\n",
    "device_rows = 56\n",
    "\n",
    "# export information\n",
    "export_path_root = \"/Users/micaholivas/Desktop/Stanford/Research/Projects/Salesforce_Progen_Predictions/Small_ACYP_Library/4_Experiments/230207/Interpretation\"\n",
    "\n",
    "# Create dataframes for kinetic and standard series\n",
    "kinetic_data = processing.pd.read_csv(kinetic_data_path)\n",
    "standard_data = processing.pd.read_csv(standard_data_path)\n",
    "egfp_data = processing.pd.read_csv(egfp_data_path)\n",
    "standard_data = standard_data.dropna()\n",
    "\n",
    "# Format all dataframes\n",
    "standard_data, kinetic_data = processing.format_data(standard_data, kinetic_data, substrate, egfp_data)"
   ]
  },
  {
   "cell_type": "markdown",
   "metadata": {},
   "source": [
    "## Format library member name text"
   ]
  },
  {
   "cell_type": "code",
   "execution_count": 19,
   "metadata": {},
   "outputs": [],
   "source": [
    "kinetic_data['MutantID'] = kinetic_data['id'].str.replace('human_ACYP2', 'hsapiens2')\n",
    "standard_data['MutantID'] = standard_data['id'].str.replace('human_ACYP2', 'hsapiens2')"
   ]
  },
  {
   "cell_type": "markdown",
   "metadata": {},
   "source": [
    "## \"Squeeze\" DataFrames"
   ]
  },
  {
   "cell_type": "markdown",
   "metadata": {},
   "source": [
    "At this point, our DataFrames are in a long format: each row of kinetic_data corresponds to an individual timepoint in the kinetic assays, while each row of standard_data corresponds to an individual standard concentration. To support vectorized curve fitting operations later, we want to flatten or \"squeeze\" rows of each DataFrame into series (e.g. time, intensity, standard concentration) by chamber."
   ]
  },
  {
   "cell_type": "code",
   "execution_count": 36,
   "metadata": {},
   "outputs": [
    {
     "data": {
      "text/html": [
       "<div>\n",
       "<style scoped>\n",
       "    .dataframe tbody tr th:only-of-type {\n",
       "        vertical-align: middle;\n",
       "    }\n",
       "\n",
       "    .dataframe tbody tr th {\n",
       "        vertical-align: top;\n",
       "    }\n",
       "\n",
       "    .dataframe thead th {\n",
       "        text-align: right;\n",
       "    }\n",
       "</style>\n",
       "<table border=\"1\" class=\"dataframe\">\n",
       "  <thead>\n",
       "    <tr style=\"text-align: right;\">\n",
       "      <th></th>\n",
       "      <th>x</th>\n",
       "      <th>y</th>\n",
       "      <th>Indices</th>\n",
       "      <th>MutantID</th>\n",
       "      <th>substrate</th>\n",
       "      <th>substrate_conc_uM</th>\n",
       "      <th>summed_button_BGsub_Button_Quant</th>\n",
       "      <th>time_s</th>\n",
       "      <th>kinetic_median_intensities</th>\n",
       "    </tr>\n",
       "  </thead>\n",
       "  <tbody>\n",
       "    <tr>\n",
       "      <th>0</th>\n",
       "      <td>1</td>\n",
       "      <td>1</td>\n",
       "      <td>01,01</td>\n",
       "      <td>1C8_phorikoshii_pross_2</td>\n",
       "      <td>AcP</td>\n",
       "      <td>10</td>\n",
       "      <td>131388</td>\n",
       "      <td>[0, 75, 150, 225, 301, 377, 456, 533, 609, 687...</td>\n",
       "      <td>[5780, 5814, 5840, 5874, 5885, 5943, 5950, 597...</td>\n",
       "    </tr>\n",
       "    <tr>\n",
       "      <th>1</th>\n",
       "      <td>1</td>\n",
       "      <td>1</td>\n",
       "      <td>01,01</td>\n",
       "      <td>1C8_phorikoshii_pross_2</td>\n",
       "      <td>AcP</td>\n",
       "      <td>25</td>\n",
       "      <td>131388</td>\n",
       "      <td>[0, 75, 150, 227, 304, 381, 458, 536, 613, 690...</td>\n",
       "      <td>[8159, 8244, 8335, 8398, 8468, 8546, 8627, 868...</td>\n",
       "    </tr>\n",
       "  </tbody>\n",
       "</table>\n",
       "</div>"
      ],
      "text/plain": [
       "   x  y Indices                 MutantID substrate  substrate_conc_uM  \\\n",
       "0  1  1   01,01  1C8_phorikoshii_pross_2       AcP                 10   \n",
       "1  1  1   01,01  1C8_phorikoshii_pross_2       AcP                 25   \n",
       "\n",
       "   summed_button_BGsub_Button_Quant  \\\n",
       "0                            131388   \n",
       "1                            131388   \n",
       "\n",
       "                                              time_s  \\\n",
       "0  [0, 75, 150, 225, 301, 377, 456, 533, 609, 687...   \n",
       "1  [0, 75, 150, 227, 304, 381, 458, 536, 613, 690...   \n",
       "\n",
       "                          kinetic_median_intensities  \n",
       "0  [5780, 5814, 5840, 5874, 5885, 5943, 5950, 597...  \n",
       "1  [8159, 8244, 8335, 8398, 8468, 8546, 8627, 868...  "
      ]
     },
     "metadata": {},
     "output_type": "display_data"
    }
   ],
   "source": [
    "squeeze_kinetics = processing.squeeze_kinetics(kinetic_data)"
   ]
  },
  {
   "attachments": {},
   "cell_type": "markdown",
   "metadata": {},
   "source": [
    "\"Squeeze\" standard data to serialize standard concetrations. Plot representative standard curves"
   ]
  },
  {
   "cell_type": "code",
   "execution_count": 37,
   "metadata": {},
   "outputs": [
    {
     "data": {
      "text/html": [
       "<div>\n",
       "<style scoped>\n",
       "    .dataframe tbody tr th:only-of-type {\n",
       "        vertical-align: middle;\n",
       "    }\n",
       "\n",
       "    .dataframe tbody tr th {\n",
       "        vertical-align: top;\n",
       "    }\n",
       "\n",
       "    .dataframe thead th {\n",
       "        text-align: right;\n",
       "    }\n",
       "</style>\n",
       "<table border=\"1\" class=\"dataframe\">\n",
       "  <thead>\n",
       "    <tr style=\"text-align: right;\">\n",
       "      <th></th>\n",
       "      <th>x</th>\n",
       "      <th>y</th>\n",
       "      <th>Indices</th>\n",
       "      <th>substrate</th>\n",
       "      <th>standard_concentration_uM</th>\n",
       "      <th>standard_median_intensities</th>\n",
       "    </tr>\n",
       "  </thead>\n",
       "  <tbody>\n",
       "    <tr>\n",
       "      <th>0</th>\n",
       "      <td>1</td>\n",
       "      <td>1</td>\n",
       "      <td>01,01</td>\n",
       "      <td>AcP</td>\n",
       "      <td>[0, 1, 3, 6, 15, 30, 75, 150]</td>\n",
       "      <td>[4475, 5019, 8899, 8235, 12948, 16133, 16120, ...</td>\n",
       "    </tr>\n",
       "    <tr>\n",
       "      <th>1</th>\n",
       "      <td>1</td>\n",
       "      <td>2</td>\n",
       "      <td>01,02</td>\n",
       "      <td>AcP</td>\n",
       "      <td>[0, 1, 3, 6, 15, 30, 75, 150]</td>\n",
       "      <td>[4318, 4855, 8611, 7973, 12537, 15646, 15634, ...</td>\n",
       "    </tr>\n",
       "    <tr>\n",
       "      <th>2</th>\n",
       "      <td>1</td>\n",
       "      <td>3</td>\n",
       "      <td>01,03</td>\n",
       "      <td>AcP</td>\n",
       "      <td>[0, 1, 3, 6, 15, 30, 75, 150]</td>\n",
       "      <td>[4367, 4898, 8688, 8037, 12666, 15777, 15749, ...</td>\n",
       "    </tr>\n",
       "    <tr>\n",
       "      <th>3</th>\n",
       "      <td>1</td>\n",
       "      <td>4</td>\n",
       "      <td>01,04</td>\n",
       "      <td>AcP</td>\n",
       "      <td>[0, 1, 3, 6, 15, 30, 75, 150]</td>\n",
       "      <td>[4214, 4728, 8370, 7761, 12225, 15217, 15182, ...</td>\n",
       "    </tr>\n",
       "  </tbody>\n",
       "</table>\n",
       "</div>"
      ],
      "text/plain": [
       "   x  y Indices substrate      standard_concentration_uM  \\\n",
       "0  1  1   01,01       AcP  [0, 1, 3, 6, 15, 30, 75, 150]   \n",
       "1  1  2   01,02       AcP  [0, 1, 3, 6, 15, 30, 75, 150]   \n",
       "2  1  3   01,03       AcP  [0, 1, 3, 6, 15, 30, 75, 150]   \n",
       "3  1  4   01,04       AcP  [0, 1, 3, 6, 15, 30, 75, 150]   \n",
       "\n",
       "                         standard_median_intensities  \n",
       "0  [4475, 5019, 8899, 8235, 12948, 16133, 16120, ...  \n",
       "1  [4318, 4855, 8611, 7973, 12537, 15646, 15634, ...  \n",
       "2  [4367, 4898, 8688, 8037, 12666, 15777, 15749, ...  \n",
       "3  [4214, 4728, 8370, 7761, 12225, 15217, 15182, ...  "
      ]
     },
     "metadata": {},
     "output_type": "display_data"
    },
    {
     "data": {
      "image/png": "[encoded data removed]",
      "text/plain": [
       "<Figure size 432x288 with 1 Axes>"
      ]
     },
     "metadata": {
      "needs_background": "light"
     },
     "output_type": "display_data"
    }
   ],
   "source": [
    "squeeze_standards = processing.squeeze_standard(standard_data)"
   ]
  },
  {
   "cell_type": "markdown",
   "metadata": {},
   "source": [
    "## Calculate enzyme concentration from eGFP fluorescence"
   ]
  },
  {
   "cell_type": "code",
   "execution_count": 38,
   "metadata": {},
   "outputs": [],
   "source": [
    "squeeze_kinetics['EnzymeConc'] = squeeze_kinetics['summed_button_BGsub_Button_Quant']/egfp_slope"
   ]
  },
  {
   "cell_type": "markdown",
   "metadata": {},
   "source": [
    "## Fit PBP Standard Curves"
   ]
  },
  {
   "cell_type": "markdown",
   "metadata": {},
   "source": [
    "To fit the PBP standard curve, we need to optimize a nonlinear least squares fit based on the following single-site binding isotherm for the phosphate sensor:\n",
    "\n",
    "$I([Pi]) = 0.5A(KD +[Pi]+[PS]-\\sqrt{(KD +[PS]+[Pi])^2 - 4[PS][Pi]}) + I(0μM)$\n",
    "\n",
    "where $I([Pi])$ is the median fluorescence at a given $[Pi]$, $[PS]$ is the concentration of PBP, $K_D$ is the dissociation constant of Pi from PBP, $A$ is the scaling factor necessary to relate fraction PBP bound to observed fluorescence, and $I(0μM[Pi])$ is the median fluorescence intensity of PBP in the absence of added Pi."
   ]
  },
  {
   "cell_type": "markdown",
   "metadata": {},
   "source": [
    "To find product concentrations from measured intensities, we need to invert this isotherm. For this, we use the package `sympy`, which has a nice suite of tools for symbolic math."
   ]
  },
  {
   "cell_type": "code",
   "execution_count": 8,
   "metadata": {},
   "outputs": [
    {
     "name": "stdout",
     "output_type": "stream",
     "text": [
      "Inverse of isotherm: [(-A*I_0uMP_i*KD - A*I_0uMP_i*PS + A*I_P_i*KD + A*I_P_i*PS - I_0uMP_i**2 + 2.0*I_0uMP_i*I_P_i - I_P_i**2)/(A*(A*PS + I_0uMP_i - I_P_i))]\n"
     ]
    }
   ],
   "source": [
    "A, KD, P_i, PS, I_0uMP_i, I_P_i = symbols('A KD P_i PS I_0uMP_i I_P_i')\n",
    "\n",
    "isotherm_inverse = solve(0.5 * A * (KD + P_i + PS - ((KD + PS + P_i)**2 - 4*PS*P_i)**(1/2)) + I_0uMP_i - I_P_i, P_i)\n",
    "print('Inverse of isotherm:', isotherm_inverse)"
   ]
  },
  {
   "cell_type": "markdown",
   "metadata": {},
   "source": [
    "If we would like to fit the inverse, we can simply copy this function into the following cell to perform the nonlinear least squares fit. Instead, we will densely interpolate the curve fits for each chamber and use the interpolations to approximate `[Pi]` concentration. The following function optimizes a least squares fit for each standard curve in each chamber and stores the optimum paramters as a list [`A, KD, PS, I_0uMP_i`] in the column `standard_popt`."
   ]
  },
  {
   "cell_type": "markdown",
   "metadata": {},
   "source": [
    "Now, let's check a few of the curve fits to make sure they look appropriate"
   ]
  },
  {
   "cell_type": "code",
   "execution_count": 41,
   "metadata": {},
   "outputs": [
    {
     "name": "stdout",
     "output_type": "stream",
     "text": [
      "Performing curve fits...\n"
     ]
    },
    {
     "data": {
      "application/vnd.jupyter.widget-view+json": {
       "model_id": "ff2e31ef7da84b25bd97bbacc0425599",
       "version_major": 2,
       "version_minor": 0
      },
      "text/plain": [
       "VBox(children=(HBox(children=(IntProgress(value=0, description='0.00%', max=224), Label(value='0 / 224'))), HB…"
      ]
     },
     "metadata": {},
     "output_type": "display_data"
    },
    {
     "data": {
      "image/png": "[encoded data removed]",
      "text/plain": [
       "<Figure size 864x216 with 4 Axes>"
      ]
     },
     "metadata": {
      "needs_background": "light"
     },
     "output_type": "display_data"
    }
   ],
   "source": [
    "squeeze_standards = processing.standard_curve_fit(squeeze_standards)"
   ]
  },
  {
   "cell_type": "markdown",
   "metadata": {},
   "source": [
    "## Merge dataframes"
   ]
  },
  {
   "cell_type": "markdown",
   "metadata": {},
   "source": [
    "Next we merge the standard and kinetic data on the chamber Indices and substrate columns and convert the kinetic median intensities to product concentrations using the standard curve slope. To convert median assay intensities to product concentrations, we interpolate the curve fit and generate a lookup dictionary. This method should be replaced with a rigorous interpolation, but it will do for now."
   ]
  },
  {
   "cell_type": "code",
   "execution_count": 47,
   "metadata": {},
   "outputs": [
    {
     "name": "stdout",
     "output_type": "stream",
     "text": [
      "Calculating product concentrations...\n",
      "If interpolating, this may take longer than the curve fitting...\n"
     ]
    },
    {
     "data": {
      "application/vnd.jupyter.widget-view+json": {
       "model_id": "2ebbe525b2ac45b1820f9a6feac33822",
       "version_major": 2,
       "version_minor": 0
      },
      "text/plain": [
       "VBox(children=(HBox(children=(IntProgress(value=0, description='0.00%', max=1120), Label(value='0 / 1120'))), …"
      ]
     },
     "metadata": {},
     "output_type": "display_data"
    },
    {
     "data": {
      "text/html": [
       "<div>\n",
       "<style scoped>\n",
       "    .dataframe tbody tr th:only-of-type {\n",
       "        vertical-align: middle;\n",
       "    }\n",
       "\n",
       "    .dataframe tbody tr th {\n",
       "        vertical-align: top;\n",
       "    }\n",
       "\n",
       "    .dataframe thead th {\n",
       "        text-align: right;\n",
       "    }\n",
       "</style>\n",
       "<table border=\"1\" class=\"dataframe\">\n",
       "  <thead>\n",
       "    <tr style=\"text-align: right;\">\n",
       "      <th></th>\n",
       "      <th>x</th>\n",
       "      <th>y</th>\n",
       "      <th>Indices</th>\n",
       "      <th>MutantID</th>\n",
       "      <th>substrate</th>\n",
       "      <th>substrate_conc_uM</th>\n",
       "      <th>summed_button_BGsub_Button_Quant</th>\n",
       "      <th>time_s</th>\n",
       "      <th>kinetic_median_intensities</th>\n",
       "      <th>EnzymeConc</th>\n",
       "      <th>standard_concentration_uM</th>\n",
       "      <th>standard_median_intensities</th>\n",
       "      <th>standard_popt</th>\n",
       "      <th>kinetic_product_concentration_uM</th>\n",
       "    </tr>\n",
       "  </thead>\n",
       "  <tbody>\n",
       "    <tr>\n",
       "      <th>0</th>\n",
       "      <td>1</td>\n",
       "      <td>1</td>\n",
       "      <td>01,01</td>\n",
       "      <td>1C8_phorikoshii_pross_2</td>\n",
       "      <td>AcP</td>\n",
       "      <td>10</td>\n",
       "      <td>131388</td>\n",
       "      <td>[0, 75, 150, 225, 301, 377, 456, 533, 609, 687...</td>\n",
       "      <td>[5780, 5814, 5840, 5874, 5885, 5943, 5950, 597...</td>\n",
       "      <td>0.695738</td>\n",
       "      <td>[0, 1, 3, 6, 15, 30, 75, 150]</td>\n",
       "      <td>[4475, 5019, 8899, 8235, 12948, 16133, 16120, ...</td>\n",
       "      <td>[828.1181524329919, 2.0953878051518657, 14.423...</td>\n",
       "      <td>[1.2, 1.275, 1.275, 1.3499999999999999, 1.3499...</td>\n",
       "    </tr>\n",
       "  </tbody>\n",
       "</table>\n",
       "</div>"
      ],
      "text/plain": [
       "   x  y Indices                 MutantID substrate  substrate_conc_uM  \\\n",
       "0  1  1   01,01  1C8_phorikoshii_pross_2       AcP                 10   \n",
       "\n",
       "   summed_button_BGsub_Button_Quant  \\\n",
       "0                            131388   \n",
       "\n",
       "                                              time_s  \\\n",
       "0  [0, 75, 150, 225, 301, 377, 456, 533, 609, 687...   \n",
       "\n",
       "                          kinetic_median_intensities  EnzymeConc  \\\n",
       "0  [5780, 5814, 5840, 5874, 5885, 5943, 5950, 597...    0.695738   \n",
       "\n",
       "       standard_concentration_uM  \\\n",
       "0  [0, 1, 3, 6, 15, 30, 75, 150]   \n",
       "\n",
       "                         standard_median_intensities  \\\n",
       "0  [4475, 5019, 8899, 8235, 12948, 16133, 16120, ...   \n",
       "\n",
       "                                       standard_popt  \\\n",
       "0  [828.1181524329919, 2.0953878051518657, 14.423...   \n",
       "\n",
       "                    kinetic_product_concentration_uM  \n",
       "0  [1.2, 1.275, 1.275, 1.3499999999999999, 1.3499...  "
      ]
     },
     "execution_count": 47,
     "metadata": {},
     "output_type": "execute_result"
    }
   ],
   "source": [
    "sq_merged = processing.merge_and_get_product_concs(squeeze_kinetics, squeeze_standards) \n",
    "sq_merged.head(1)"
   ]
  },
  {
   "cell_type": "markdown",
   "id": "eee7397b",
   "metadata": {},
   "source": [
    "# Manual eGFP Flagging (only for [E] above the background)"
   ]
  },
  {
   "cell_type": "code",
   "execution_count": 144,
   "id": "e144553d",
   "metadata": {},
   "outputs": [
    {
     "name": "stdout",
     "output_type": "stream",
     "text": [
      "No culling record found in export directory. Creating button grid for manual culling...\n",
      "Button grid object created. Please wait for your viewport to render the grid...\n"
     ]
    },
    {
     "data": {
      "application/vnd.jupyter.widget-view+json": {
       "model_id": "b94d968766ca4a8b9ff21d7f2f59e5f6",
       "version_major": 2,
       "version_minor": 0
      },
      "text/plain": [
       "Box(children=(VBox(children=(ToggleButton(value=False, description='(32, 39) 148.2 nM', layout=Layout(height='…"
      ]
     },
     "metadata": {},
     "output_type": "display_data"
    }
   ],
   "source": [
    "# Point to directory for culling record export\n",
    "culling_export_directory = '/Users/micaholivas/Desktop/Stanford/Research/Projects/Salesforce_Progen_Predictions/Small_ACYP_Library/4_Experiments/230207/Interpretation'\n",
    "\n",
    "# Initialize row and column numbers\n",
    "NUM_ROWS = 56\n",
    "NUM_COLS = 32\n",
    "\n",
    "# Create button grid and display\n",
    "button_grid, flagged_set, button_stamps = processing.manual_culling(sq_merged, egfp_button_summary_image_path, NUM_ROWS, NUM_COLS, culling_export_directory)\n",
    "display(button_grid)"
   ]
  },
  {
   "attachments": {},
   "cell_type": "markdown",
   "metadata": {},
   "source": [
    "Close button finder, then add culling flag to merged DataFrame and export culling record"
   ]
  },
  {
   "cell_type": "code",
   "execution_count": 89,
   "id": "7ef23ce0",
   "metadata": {},
   "outputs": [],
   "source": [
    "# close button grid\n",
    "if button_grid != None:\n",
    "    button_grid.close()\n",
    "\n",
    "# Update sq_merged with flagged chambers and export culling record\n",
    "sq_merged = processing.handle_flagged_chambers(sq_merged, flagged_set, culling_export_directory)"
   ]
  },
  {
   "attachments": {},
   "cell_type": "markdown",
   "metadata": {},
   "source": [
    "# Calculate initial rates\n",
    "To calculate initial rates for each substrate condition, we apply an algorithm adapted from page 27 of the SI in Markin, Mokhtari et al. 2020"
   ]
  },
  {
   "cell_type": "code",
   "execution_count": 99,
   "metadata": {},
   "outputs": [
    {
     "name": "stdout",
     "output_type": "stream",
     "text": [
      "Fitting initial rates...\n",
      "Done fitting initial rates. Adding results to dataframe...\n",
      "Plotting progress curves for one random mutant...\n"
     ]
    },
    {
     "data": {
      "image/png": "[encoded data removed]",
      "text/plain": [
       "<Figure size 720x216 with 5 Axes>"
      ]
     },
     "metadata": {
      "needs_background": "light"
     },
     "output_type": "display_data"
    }
   ],
   "source": [
    "sq_merged = processing.get_initial_rates(sq_merged, pbp_conc=30)"
   ]
  },
  {
   "cell_type": "markdown",
   "metadata": {},
   "source": [
    "# Michaelis-Menten curve fitting"
   ]
  },
  {
   "attachments": {},
   "cell_type": "markdown",
   "metadata": {},
   "source": [
    "To perform the fitting, we apply another \"squeeze\" to create columns for the substrate concentration series and initial rate series. Scale initial rates by enzyme concentration. If there is no measurement for a zero substrate condition, a zero placeholder is added to the beginning of the substrate conc and initial rate lists."
   ]
  },
  {
   "cell_type": "code",
   "execution_count": 137,
   "metadata": {},
   "outputs": [
    {
     "name": "stdout",
     "output_type": "stream",
     "text": [
      "Fitting Michaelis-Menten curves...\n"
     ]
    },
    {
     "data": {
      "application/vnd.jupyter.widget-view+json": {
       "model_id": "a110e912fa574548ae259ba38f7a935d",
       "version_major": 2,
       "version_minor": 0
      },
      "text/plain": [
       "VBox(children=(HBox(children=(IntProgress(value=0, description='0.00%', max=224), Label(value='0 / 224'))), HB…"
      ]
     },
     "metadata": {},
     "output_type": "display_data"
    },
    {
     "name": "stderr",
     "output_type": "stream",
     "text": [
      "/Users/micaholivas/Desktop/htmek_processing/experiment_processing/processing.py:704: RuntimeWarning: divide by zero encountered in double_scalars\n",
      "  kcat_over_KM_fit = 10**6 * kcat_fit/KM_fit # at this point, kcat in s^-1 and KM in uM, so multiply by 1000000 to give s^-1 * M^-1\n",
      "/Users/micaholivas/Desktop/htmek_processing/experiment_processing/processing.py:704: RuntimeWarning: divide by zero encountered in double_scalars\n",
      "  kcat_over_KM_fit = 10**6 * kcat_fit/KM_fit # at this point, kcat in s^-1 and KM in uM, so multiply by 1000000 to give s^-1 * M^-1\n"
     ]
    },
    {
     "name": "stdout",
     "output_type": "stream",
     "text": [
      "Done fitting Michaelis-Menten curves.\n",
      "Plotting examples...\n"
     ]
    },
    {
     "data": {
      "image/png": "[encoded data removed]",
      "text/plain": [
       "<Figure size 1440x216 with 4 Axes>"
      ]
     },
     "metadata": {
      "needs_background": "light"
     },
     "output_type": "display_data"
    }
   ],
   "source": [
    "squeeze_mm = processing.fit_michaelis_menten(sq_merged, exclude_concs=[100, 75])"
   ]
  },
  {
   "cell_type": "markdown",
   "metadata": {},
   "source": [
    "# Calculate local background ratio\n",
    "Add as a row in the by-chamber, by-substrate concentration dataframe, then squeeze into a list in the MM dataframe "
   ]
  },
  {
   "cell_type": "markdown",
   "metadata": {},
   "source": [
    "Next, iterate row-wise across the dataframe and compute the local background ratio. This algorithm is as follows: \n",
    "    1. for each chamber, store the intial rate for the highest substrate concentration condition\n",
    "    2. coerce all rates below 0.00001 to zero\n",
    "    3. store the rates in the above and below chambers\n",
    "        2.1. \n",
    "        2.2. average rates"
   ]
  },
  {
   "cell_type": "code",
   "execution_count": 148,
   "metadata": {},
   "outputs": [
    {
     "name": "stderr",
     "output_type": "stream",
     "text": [
      "/Users/micaholivas/Desktop/htmek_processing/experiment_processing/processing.py:818: SettingWithCopyWarning: \n",
      "A value is trying to be set on a copy of a slice from a DataFrame.\n",
      "Try using .loc[row_indexer,col_indexer] = value instead\n",
      "\n",
      "See the caveats in the documentation: https://pandas.pydata.org/pandas-docs/stable/user_guide/indexing.html#returning-a-view-versus-a-copy\n",
      "  local_bg_df['index_tuple'] = local_bg_df.apply(lambda row: (row.x, row.y), axis=1)\n"
     ]
    },
    {
     "data": {
      "text/html": [
       "<div>\n",
       "<style scoped>\n",
       "    .dataframe tbody tr th:only-of-type {\n",
       "        vertical-align: middle;\n",
       "    }\n",
       "\n",
       "    .dataframe tbody tr th {\n",
       "        vertical-align: top;\n",
       "    }\n",
       "\n",
       "    .dataframe thead th {\n",
       "        text-align: right;\n",
       "    }\n",
       "</style>\n",
       "<table border=\"1\" class=\"dataframe\">\n",
       "  <thead>\n",
       "    <tr style=\"text-align: right;\">\n",
       "      <th></th>\n",
       "      <th>x</th>\n",
       "      <th>y</th>\n",
       "      <th>Indices</th>\n",
       "      <th>MutantID</th>\n",
       "      <th>substrate</th>\n",
       "      <th>EnzymeConc</th>\n",
       "      <th>egfp_manual_flag</th>\n",
       "      <th>substrate_concs</th>\n",
       "      <th>initial_rates</th>\n",
       "      <th>KM_fit</th>\n",
       "      <th>vmax_fit</th>\n",
       "      <th>kcat_fit</th>\n",
       "      <th>kcat_over_KM_fit</th>\n",
       "      <th>local_bg_ratio</th>\n",
       "    </tr>\n",
       "  </thead>\n",
       "  <tbody>\n",
       "    <tr>\n",
       "      <th>0</th>\n",
       "      <td>1</td>\n",
       "      <td>1</td>\n",
       "      <td>01,01</td>\n",
       "      <td>1C8_phorikoshii_pross_2</td>\n",
       "      <td>AcP</td>\n",
       "      <td>0.695738</td>\n",
       "      <td>False</td>\n",
       "      <td>[0, 10, 25, 50]</td>\n",
       "      <td>[0, 0.0004999999999999972, 0.00197357031565584...</td>\n",
       "      <td>58.481337</td>\n",
       "      <td>0.005595</td>\n",
       "      <td>8.041346</td>\n",
       "      <td>137502.781325</td>\n",
       "      <td>0.498994</td>\n",
       "    </tr>\n",
       "    <tr>\n",
       "      <th>1</th>\n",
       "      <td>1</td>\n",
       "      <td>2</td>\n",
       "      <td>01,02</td>\n",
       "      <td>BLANK</td>\n",
       "      <td>AcP</td>\n",
       "      <td>0.748659</td>\n",
       "      <td>False</td>\n",
       "      <td>[0, 10, 25, 50]</td>\n",
       "      <td>[0, 0.0005000000000000003, 0.00197357031565585...</td>\n",
       "      <td>6124.741780</td>\n",
       "      <td>0.578757</td>\n",
       "      <td>773.058731</td>\n",
       "      <td>126218.991503</td>\n",
       "      <td>0.953020</td>\n",
       "    </tr>\n",
       "    <tr>\n",
       "      <th>2</th>\n",
       "      <td>1</td>\n",
       "      <td>3</td>\n",
       "      <td>01,03</td>\n",
       "      <td>2A4_sbenthica_lowlambda_highid_7</td>\n",
       "      <td>AcP</td>\n",
       "      <td>79.585802</td>\n",
       "      <td>False</td>\n",
       "      <td>[0, 10, 25, 50]</td>\n",
       "      <td>[0, 0.0009999999999999944, 0.00345158404985865...</td>\n",
       "      <td>6060.770271</td>\n",
       "      <td>0.934195</td>\n",
       "      <td>11.738207</td>\n",
       "      <td>1936.751736</td>\n",
       "      <td>2.134228</td>\n",
       "    </tr>\n",
       "    <tr>\n",
       "      <th>3</th>\n",
       "      <td>1</td>\n",
       "      <td>4</td>\n",
       "      <td>01,04</td>\n",
       "      <td>BLANK</td>\n",
       "      <td>AcP</td>\n",
       "      <td>0.578781</td>\n",
       "      <td>False</td>\n",
       "      <td>[0, 10, 25, 50]</td>\n",
       "      <td>[0, 0.0004999999999999988, 0.00197357031565585...</td>\n",
       "      <td>58.481341</td>\n",
       "      <td>0.005595</td>\n",
       "      <td>9.666302</td>\n",
       "      <td>165288.651539</td>\n",
       "      <td>0.453797</td>\n",
       "    </tr>\n",
       "    <tr>\n",
       "      <th>4</th>\n",
       "      <td>1</td>\n",
       "      <td>5</td>\n",
       "      <td>01,05</td>\n",
       "      <td>1G1_phorikoshii_lowlambda_lowid_8</td>\n",
       "      <td>AcP</td>\n",
       "      <td>0.380769</td>\n",
       "      <td>False</td>\n",
       "      <td>[0, 10, 25, 50]</td>\n",
       "      <td>[0, 0.0005000000000000003, 0.00148234173928098...</td>\n",
       "      <td>995.843589</td>\n",
       "      <td>0.061595</td>\n",
       "      <td>161.764727</td>\n",
       "      <td>162439.894120</td>\n",
       "      <td>0.924031</td>\n",
       "    </tr>\n",
       "  </tbody>\n",
       "</table>\n",
       "</div>"
      ],
      "text/plain": [
       "   x  y Indices                           MutantID substrate  EnzymeConc  \\\n",
       "0  1  1   01,01            1C8_phorikoshii_pross_2       AcP    0.695738   \n",
       "1  1  2   01,02                              BLANK       AcP    0.748659   \n",
       "2  1  3   01,03   2A4_sbenthica_lowlambda_highid_7       AcP   79.585802   \n",
       "3  1  4   01,04                              BLANK       AcP    0.578781   \n",
       "4  1  5   01,05  1G1_phorikoshii_lowlambda_lowid_8       AcP    0.380769   \n",
       "\n",
       "   egfp_manual_flag  substrate_concs  \\\n",
       "0             False  [0, 10, 25, 50]   \n",
       "1             False  [0, 10, 25, 50]   \n",
       "2             False  [0, 10, 25, 50]   \n",
       "3             False  [0, 10, 25, 50]   \n",
       "4             False  [0, 10, 25, 50]   \n",
       "\n",
       "                                       initial_rates       KM_fit  vmax_fit  \\\n",
       "0  [0, 0.0004999999999999972, 0.00197357031565584...    58.481337  0.005595   \n",
       "1  [0, 0.0005000000000000003, 0.00197357031565585...  6124.741780  0.578757   \n",
       "2  [0, 0.0009999999999999944, 0.00345158404985865...  6060.770271  0.934195   \n",
       "3  [0, 0.0004999999999999988, 0.00197357031565585...    58.481341  0.005595   \n",
       "4  [0, 0.0005000000000000003, 0.00148234173928098...   995.843589  0.061595   \n",
       "\n",
       "     kcat_fit  kcat_over_KM_fit  local_bg_ratio  \n",
       "0    8.041346     137502.781325        0.498994  \n",
       "1  773.058731     126218.991503        0.953020  \n",
       "2   11.738207       1936.751736        2.134228  \n",
       "3    9.666302     165288.651539        0.453797  \n",
       "4  161.764727     162439.894120        0.924031  "
      ]
     },
     "execution_count": 148,
     "metadata": {},
     "output_type": "execute_result"
    }
   ],
   "source": [
    "squeeze_mm, sq_merged = processing.calculate_local_bg_ratio(squeeze_mm, sq_merged, device_rows=device_rows, exclude_concs=[100, 75])\n",
    "squeeze_mm.head(5)"
   ]
  },
  {
   "cell_type": "markdown",
   "metadata": {},
   "source": [
    "# Print PDFs"
   ]
  },
  {
   "cell_type": "markdown",
   "metadata": {},
   "source": [
    "Generate summary PDFs"
   ]
  },
  {
   "cell_type": "code",
   "execution_count": 159,
   "metadata": {},
   "outputs": [
    {
     "name": "stderr",
     "output_type": "stream",
     "text": [
      "/Users/micaholivas/Desktop/htmek_processing/experiment_processing/processing.py:956: MatplotlibDeprecationWarning: The 'norm' parameter to Colorbar has no effect because it is overridden by the mappable; it is deprecated since 3.3 and will be removed two minor releases later.\n",
      "  cbar = ax.figure.colorbar(im, ax=ax, norm=norm, **cbar_kw)\n"
     ]
    },
    {
     "data": {
      "image/png": "[encoded data removed]",
      "text/plain": [
       "<Figure size 720x720 with 5 Axes>"
      ]
     },
     "metadata": {
      "needs_background": "light"
     },
     "output_type": "display_data"
    },
    {
     "name": "stderr",
     "output_type": "stream",
     "text": [
      "Processing (30, 23):  92%|█████████▏| 1647/1792 [30:20<03:17,  1.36s/it]  "
     ]
    }
   ],
   "source": [
    "processing.plot_chip_summary(squeeze_mm=squeeze_mm, sq_merged=sq_merged, squeeze_standards=squeeze_standards, squeeze_kinetics=squeeze_kinetics, button_stamps=button_stamps, device_columns=device_columns, device_rows=device_rows, export_path_root=export_path_root, experimental_day=experimental_day, experiment_name=experiment_name, exclude_concs=[])"
   ]
  },
  {
   "cell_type": "markdown",
   "metadata": {},
   "source": [
    "#### Merge PDFs"
   ]
  },
  {
   "cell_type": "code",
   "execution_count": null,
   "metadata": {},
   "outputs": [],
   "source": [
    "from os import listdir\n",
    "from os.path import isfile, join\n",
    "import PyPDF2\n",
    "\n",
    "mypath = export_path_root + '/PDF/'\n",
    "\n",
    "# store all pdf files\n",
    "all_files = sorted([mypath + 'pages/' + f for f in listdir(mypath + 'pages/') if isfile(join(mypath + 'pages/', f))])\n",
    "all_files = [f for f in all_files if f[-4:] == '.pdf']\n",
    "\n",
    "# initialize merger\n",
    "merger = PyPDF2.PdfFileMerger()\n",
    "\n",
    "# merge pdfs\n",
    "for pdf in all_files:\n",
    "    merger.append(pdf)\n",
    "\n",
    "# write merged file\n",
    "merger.write(mypath + \"merged.pdf\")\n",
    "merger.close()\n"
   ]
  },
  {
   "cell_type": "markdown",
   "metadata": {},
   "source": [
    "# Export Data"
   ]
  },
  {
   "cell_type": "code",
   "execution_count": 244,
   "metadata": {},
   "outputs": [],
   "source": [
    "# define export df\n",
    "export_df = pd.merge(squeeze_mm, sq_merged, on=list(np.intersect1d(sq_merged.columns, squeeze_mm.columns)))\n",
    "\n",
    "# add remaining data\n",
    "export_df['GlobalExperimentIndex'] = '_'.join([experimental_day, setup, device, substrate])\n",
    "export_df['Experiment'] = experiment_name"
   ]
  },
  {
   "cell_type": "code",
   "execution_count": 245,
   "metadata": {},
   "outputs": [],
   "source": [
    "export_df.to_csv(export_path_root + '/' + experimental_day + '_' + substrate + '_workup.csv')"
   ]
  },
  {
   "cell_type": "markdown",
   "metadata": {},
   "source": [
    "# Added: SFL Analysis"
   ]
  },
  {
   "cell_type": "markdown",
   "metadata": {},
   "source": [
    "Enzyme Concentration"
   ]
  },
  {
   "cell_type": "code",
   "execution_count": null,
   "metadata": {},
   "outputs": [],
   "source": [
    "# fill NaN\n",
    "grid = squeeze_mm.fillna(0)\n",
    "\n",
    "# plot enz conc\n",
    "grid_EC = grid.pivot('x', 'y', 'EnzymeConc').T\n",
    "grid_EC = grid_EC[grid_EC.columns[::-1]] # flip horizontally\n",
    "grid_EC = np.array(grid_EC)\n",
    "display_cbar = True\n",
    "im, cbar = heatmap(grid_EC,\n",
    "                    cmap=\"plasma\", \n",
    "                    cbarlabel=\"Enzyme Conc (uM)\", \n",
    "                    display_cbar=display_cbar,\n",
    "                    )\n",
    "plt.xlabel(\"Column\")\n",
    "plt.ylabel(\"Row\")\n",
    "\n",
    "plt.savefig('/Users/micaholivas/Desktop/Stanford/Research/Presentations/Salesforce/4_Outcomes_203_1/SFL_update_013023/enz_conc_heatmap_SFL_1022.png')\n",
    "# plt.title('Enzyme Concentration \\n by chamber')\n"
   ]
  },
  {
   "cell_type": "markdown",
   "metadata": {},
   "source": [
    "Additional [E] from additional experiment"
   ]
  },
  {
   "cell_type": "markdown",
   "metadata": {},
   "source": [
    "/Users/micaholivas/Desktop/Stanford/Research/Projects/Salesforce Progen Predictions/Small ACYP Library/4_Experiments/221201/Craig workup/221201_S2d2Acyp_SFL.csv.bz2"
   ]
  }
 ],
 "metadata": {
  "kernelspec": {
   "display_name": "Python 3 (ipykernel)",
   "language": "python",
   "name": "python3"
  },
  "language_info": {
   "codemirror_mode": {
    "name": "ipython",
    "version": 3
   },
   "file_extension": ".py",
   "mimetype": "text/x-python",
   "name": "python",
   "nbconvert_exporter": "python",
   "pygments_lexer": "ipython3",
   "version": "3.8.13"
  },
  "vscode": {
   "interpreter": {
    "hash": "7d554d675da1053c03ba9b4c925194630c0caa9904242dfd9f793ca6ca18d72e"
   }
  }
 },
 "nbformat": 4,
 "nbformat_minor": 2
}

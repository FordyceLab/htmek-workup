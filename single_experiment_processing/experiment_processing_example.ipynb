{
 "cells": [
  {
   "attachments": {},
   "cell_type": "markdown",
   "metadata": {},
   "source": [
    "# HT-MEK Data Processing Workbook\n",
    "Author: Micah Olivas"
   ]
  },
  {
   "cell_type": "code",
   "execution_count": 6,
   "metadata": {},
   "outputs": [
    {
     "name": "stdout",
     "output_type": "stream",
     "text": [
      "The autoreload extension is already loaded. To reload it, use:\n",
      "  %reload_ext autoreload\n",
      "INFO: Pandarallel will run on 8 workers.\n",
      "INFO: Pandarallel will use standard multiprocessing data transfer (pipe) to transfer data between the main process and workers.\n"
     ]
    }
   ],
   "source": [
    "# This will autoreload imported modules\n",
    "%load_ext autoreload\n",
    "%autoreload 2\n",
    "\n",
    "# Import modules from folder in other directory\n",
    "import sys\n",
    "sys.path.insert(0, '/Users/micaholivas/Desktop/htmek_processing/single_experiment_processing')\n",
    "from experiment_processing import processing\n",
    "\n",
    "# Set up parallel processing\n",
    "processing.pandarallel.initialize(progress_bar=True)"
   ]
  },
  {
   "attachments": {},
   "cell_type": "markdown",
   "metadata": {},
   "source": [
    "# Import kinetic and standard series data"
   ]
  },
  {
   "attachments": {},
   "cell_type": "markdown",
   "metadata": {},
   "source": [
    "Read raw kinetic and standards data with Pandas"
   ]
  },
  {
   "cell_type": "code",
   "execution_count": 7,
   "metadata": {},
   "outputs": [
    {
     "data": {
      "text/html": [
       "<div>\n",
       "<style scoped>\n",
       "    .dataframe tbody tr th:only-of-type {\n",
       "        vertical-align: middle;\n",
       "    }\n",
       "\n",
       "    .dataframe tbody tr th {\n",
       "        vertical-align: top;\n",
       "    }\n",
       "\n",
       "    .dataframe thead th {\n",
       "        text-align: right;\n",
       "    }\n",
       "</style>\n",
       "<table border=\"1\" class=\"dataframe\">\n",
       "  <thead>\n",
       "    <tr style=\"text-align: right;\">\n",
       "      <th></th>\n",
       "      <th>x</th>\n",
       "      <th>y</th>\n",
       "      <th>median_chamber</th>\n",
       "      <th>sum_chamber</th>\n",
       "      <th>std_chamber</th>\n",
       "      <th>x_center_chamber</th>\n",
       "      <th>y_center_chamber</th>\n",
       "      <th>radius_chamber</th>\n",
       "      <th>xslice</th>\n",
       "      <th>yslice</th>\n",
       "      <th>...</th>\n",
       "      <th>radius_button_disk_Button_Quant</th>\n",
       "      <th>median_button_annulus_Button_Quant</th>\n",
       "      <th>summed_button_annulus_normed_Button_Quant</th>\n",
       "      <th>std_button_annulus_localBG_Button_Quant</th>\n",
       "      <th>inner_radius_button_annulus_Button_Quant</th>\n",
       "      <th>outer_radius_button_annulus_Button_Quant</th>\n",
       "      <th>xslice_Button_Quant</th>\n",
       "      <th>yslice_Button_Quant</th>\n",
       "      <th>id_Button_Quant</th>\n",
       "      <th>series_index</th>\n",
       "    </tr>\n",
       "  </thead>\n",
       "  <tbody>\n",
       "    <tr>\n",
       "      <th>0</th>\n",
       "      <td>1</td>\n",
       "      <td>1</td>\n",
       "      <td>533.0</td>\n",
       "      <td>1909270.0</td>\n",
       "      <td>94.0</td>\n",
       "      <td>47.0</td>\n",
       "      <td>43.0</td>\n",
       "      <td>33.0</td>\n",
       "      <td>(386, 486)</td>\n",
       "      <td>(477, 577)</td>\n",
       "      <td>...</td>\n",
       "      <td>15</td>\n",
       "      <td>4475</td>\n",
       "      <td>3071255</td>\n",
       "      <td>487</td>\n",
       "      <td>15</td>\n",
       "      <td>15</td>\n",
       "      <td>(386, 486)</td>\n",
       "      <td>(477, 577)</td>\n",
       "      <td>1C8_phorikoshii_pross_2</td>\n",
       "      <td>10uM_AcP_d2</td>\n",
       "    </tr>\n",
       "    <tr>\n",
       "      <th>1</th>\n",
       "      <td>1</td>\n",
       "      <td>1</td>\n",
       "      <td>529.0</td>\n",
       "      <td>1878374.0</td>\n",
       "      <td>88.0</td>\n",
       "      <td>47.0</td>\n",
       "      <td>43.0</td>\n",
       "      <td>33.0</td>\n",
       "      <td>(386, 486)</td>\n",
       "      <td>(477, 577)</td>\n",
       "      <td>...</td>\n",
       "      <td>15</td>\n",
       "      <td>4475</td>\n",
       "      <td>3071255</td>\n",
       "      <td>487</td>\n",
       "      <td>15</td>\n",
       "      <td>15</td>\n",
       "      <td>(386, 486)</td>\n",
       "      <td>(477, 577)</td>\n",
       "      <td>1C8_phorikoshii_pross_2</td>\n",
       "      <td>10uM_AcP_d2</td>\n",
       "    </tr>\n",
       "    <tr>\n",
       "      <th>2</th>\n",
       "      <td>1</td>\n",
       "      <td>1</td>\n",
       "      <td>539.0</td>\n",
       "      <td>1918052.0</td>\n",
       "      <td>93.0</td>\n",
       "      <td>47.0</td>\n",
       "      <td>43.0</td>\n",
       "      <td>33.0</td>\n",
       "      <td>(386, 486)</td>\n",
       "      <td>(477, 577)</td>\n",
       "      <td>...</td>\n",
       "      <td>15</td>\n",
       "      <td>4475</td>\n",
       "      <td>3071255</td>\n",
       "      <td>487</td>\n",
       "      <td>15</td>\n",
       "      <td>15</td>\n",
       "      <td>(386, 486)</td>\n",
       "      <td>(477, 577)</td>\n",
       "      <td>1C8_phorikoshii_pross_2</td>\n",
       "      <td>10uM_AcP_d2</td>\n",
       "    </tr>\n",
       "    <tr>\n",
       "      <th>3</th>\n",
       "      <td>1</td>\n",
       "      <td>1</td>\n",
       "      <td>539.0</td>\n",
       "      <td>1912479.0</td>\n",
       "      <td>92.0</td>\n",
       "      <td>47.0</td>\n",
       "      <td>43.0</td>\n",
       "      <td>33.0</td>\n",
       "      <td>(386, 486)</td>\n",
       "      <td>(477, 577)</td>\n",
       "      <td>...</td>\n",
       "      <td>15</td>\n",
       "      <td>4475</td>\n",
       "      <td>3071255</td>\n",
       "      <td>487</td>\n",
       "      <td>15</td>\n",
       "      <td>15</td>\n",
       "      <td>(386, 486)</td>\n",
       "      <td>(477, 577)</td>\n",
       "      <td>1C8_phorikoshii_pross_2</td>\n",
       "      <td>10uM_AcP_d2</td>\n",
       "    </tr>\n",
       "    <tr>\n",
       "      <th>4</th>\n",
       "      <td>1</td>\n",
       "      <td>1</td>\n",
       "      <td>538.0</td>\n",
       "      <td>1916181.0</td>\n",
       "      <td>94.0</td>\n",
       "      <td>47.0</td>\n",
       "      <td>43.0</td>\n",
       "      <td>33.0</td>\n",
       "      <td>(386, 486)</td>\n",
       "      <td>(477, 577)</td>\n",
       "      <td>...</td>\n",
       "      <td>15</td>\n",
       "      <td>4475</td>\n",
       "      <td>3071255</td>\n",
       "      <td>487</td>\n",
       "      <td>15</td>\n",
       "      <td>15</td>\n",
       "      <td>(386, 486)</td>\n",
       "      <td>(477, 577)</td>\n",
       "      <td>1C8_phorikoshii_pross_2</td>\n",
       "      <td>10uM_AcP_d2</td>\n",
       "    </tr>\n",
       "  </tbody>\n",
       "</table>\n",
       "<p>5 rows × 28 columns</p>\n",
       "</div>"
      ],
      "text/plain": [
       "   x  y  median_chamber  sum_chamber  std_chamber  x_center_chamber  \\\n",
       "0  1  1           533.0    1909270.0         94.0              47.0   \n",
       "1  1  1           529.0    1878374.0         88.0              47.0   \n",
       "2  1  1           539.0    1918052.0         93.0              47.0   \n",
       "3  1  1           539.0    1912479.0         92.0              47.0   \n",
       "4  1  1           538.0    1916181.0         94.0              47.0   \n",
       "\n",
       "   y_center_chamber  radius_chamber      xslice      yslice  ...  \\\n",
       "0              43.0            33.0  (386, 486)  (477, 577)  ...   \n",
       "1              43.0            33.0  (386, 486)  (477, 577)  ...   \n",
       "2              43.0            33.0  (386, 486)  (477, 577)  ...   \n",
       "3              43.0            33.0  (386, 486)  (477, 577)  ...   \n",
       "4              43.0            33.0  (386, 486)  (477, 577)  ...   \n",
       "\n",
       "  radius_button_disk_Button_Quant  median_button_annulus_Button_Quant  \\\n",
       "0                              15                                4475   \n",
       "1                              15                                4475   \n",
       "2                              15                                4475   \n",
       "3                              15                                4475   \n",
       "4                              15                                4475   \n",
       "\n",
       "   summed_button_annulus_normed_Button_Quant  \\\n",
       "0                                    3071255   \n",
       "1                                    3071255   \n",
       "2                                    3071255   \n",
       "3                                    3071255   \n",
       "4                                    3071255   \n",
       "\n",
       "   std_button_annulus_localBG_Button_Quant  \\\n",
       "0                                      487   \n",
       "1                                      487   \n",
       "2                                      487   \n",
       "3                                      487   \n",
       "4                                      487   \n",
       "\n",
       "   inner_radius_button_annulus_Button_Quant  \\\n",
       "0                                        15   \n",
       "1                                        15   \n",
       "2                                        15   \n",
       "3                                        15   \n",
       "4                                        15   \n",
       "\n",
       "   outer_radius_button_annulus_Button_Quant  xslice_Button_Quant  \\\n",
       "0                                        15           (386, 486)   \n",
       "1                                        15           (386, 486)   \n",
       "2                                        15           (386, 486)   \n",
       "3                                        15           (386, 486)   \n",
       "4                                        15           (386, 486)   \n",
       "\n",
       "   yslice_Button_Quant          id_Button_Quant  series_index  \n",
       "0           (477, 577)  1C8_phorikoshii_pross_2   10uM_AcP_d2  \n",
       "1           (477, 577)  1C8_phorikoshii_pross_2   10uM_AcP_d2  \n",
       "2           (477, 577)  1C8_phorikoshii_pross_2   10uM_AcP_d2  \n",
       "3           (477, 577)  1C8_phorikoshii_pross_2   10uM_AcP_d2  \n",
       "4           (477, 577)  1C8_phorikoshii_pross_2   10uM_AcP_d2  \n",
       "\n",
       "[5 rows x 28 columns]"
      ]
     },
     "execution_count": 7,
     "metadata": {},
     "output_type": "execute_result"
    }
   ],
   "source": [
    "# csv of kinetic data from processing notebook\n",
    "kinetic_data_path = '/Volumes/Micah_Data/HT-MEK_data/ACYP/230629_SFL_AcyPs/Assays/AcP/d2_TitrationSeries_Analysis.csv.bz2'\n",
    "\n",
    "# csv of standard data from processing notebook\n",
    "standard_data_path = '/Volumes/Micah_Data/HT-MEK_data/ACYP/230629_SFL_AcyPs/Standards/PBP/Analysis/d2_pbp_StandardSeries_Analysis.csv.bz2'\n",
    "\n",
    "# csv of egfp data from processing notebook\n",
    "egfp_data_path = '/Volumes/Micah_Data/HT-MEK_data/ACYP/230629_SFL_AcyPs/eGFP/20230629-173219-d2_post_SDS/egfp/StitchedImages/GFP_Summary.csv.bz2'\n",
    "\n",
    "# path to egfp summary image for image segmentation and manual chamber culling\n",
    "egfp_button_summary_image_path = '/Volumes/Micah_Data/HT-MEK_data/ACYP/230629_SFL_AcyPs/eGFP/20230629-173219-d2_post_SDS/egfp/StitchedImages/SummaryImages/Summary_BGSubtracted_StitchedImg_100_egfp_0.tif'\n",
    "\n",
    "# path to the folder where you want to save the exported data\n",
    "export_path_root = \"/Volumes/Micah_Data/HT-MEK_data/ACYP/230629_SFL_AcyPs/Interpretation/AcP\"\n",
    "\n",
    "\n",
    "\n",
    "# experiment information\n",
    "experimental_day = '230629'\n",
    "experiment_name = 'AcyP_SFL_203'\n",
    "setup = 'S2'\n",
    "device = 'd2'\n",
    "# egfp_slope = 188847\n",
    "substrate = 'AcP'\n",
    "# all_substrate_concs = [50, 100, 250, 500]\n",
    "device_columns = 32\n",
    "device_rows = 56\n",
    "\n",
    "\n",
    "\n",
    "# Create dataframes for kinetic and standard series\n",
    "kinetic_data = processing.pd.read_csv(kinetic_data_path)\n",
    "standard_data = processing.pd.read_csv(standard_data_path)\n",
    "egfp_data = processing.pd.read_csv(egfp_data_path)\n",
    "standard_data = standard_data.dropna()\n",
    "\n",
    "\n",
    "# Print kinetic data head\n",
    "kinetic_data.head()"
   ]
  },
  {
   "attachments": {},
   "cell_type": "markdown",
   "metadata": {},
   "source": [
    "**Development**: Extract assay data from series index; if you don't want to use this, comment out the next cell."
   ]
  },
  {
   "cell_type": "code",
   "execution_count": 8,
   "metadata": {},
   "outputs": [
    {
     "data": {
      "text/html": [
       "<div>\n",
       "<style scoped>\n",
       "    .dataframe tbody tr th:only-of-type {\n",
       "        vertical-align: middle;\n",
       "    }\n",
       "\n",
       "    .dataframe tbody tr th {\n",
       "        vertical-align: top;\n",
       "    }\n",
       "\n",
       "    .dataframe thead th {\n",
       "        text-align: right;\n",
       "    }\n",
       "</style>\n",
       "<table border=\"1\" class=\"dataframe\">\n",
       "  <thead>\n",
       "    <tr style=\"text-align: right;\">\n",
       "      <th></th>\n",
       "      <th>x</th>\n",
       "      <th>y</th>\n",
       "      <th>median_chamber</th>\n",
       "      <th>sum_chamber</th>\n",
       "      <th>std_chamber</th>\n",
       "      <th>x_center_chamber</th>\n",
       "      <th>y_center_chamber</th>\n",
       "      <th>radius_chamber</th>\n",
       "      <th>xslice</th>\n",
       "      <th>yslice</th>\n",
       "      <th>...</th>\n",
       "      <th>summed_button_annulus_normed_Button_Quant</th>\n",
       "      <th>std_button_annulus_localBG_Button_Quant</th>\n",
       "      <th>inner_radius_button_annulus_Button_Quant</th>\n",
       "      <th>outer_radius_button_annulus_Button_Quant</th>\n",
       "      <th>xslice_Button_Quant</th>\n",
       "      <th>yslice_Button_Quant</th>\n",
       "      <th>id_Button_Quant</th>\n",
       "      <th>series_index</th>\n",
       "      <th>substrate_conc_uM</th>\n",
       "      <th>substrate</th>\n",
       "    </tr>\n",
       "  </thead>\n",
       "  <tbody>\n",
       "    <tr>\n",
       "      <th>0</th>\n",
       "      <td>1</td>\n",
       "      <td>1</td>\n",
       "      <td>533.0</td>\n",
       "      <td>1909270.0</td>\n",
       "      <td>94.0</td>\n",
       "      <td>47.0</td>\n",
       "      <td>43.0</td>\n",
       "      <td>33.0</td>\n",
       "      <td>(386, 486)</td>\n",
       "      <td>(477, 577)</td>\n",
       "      <td>...</td>\n",
       "      <td>3071255</td>\n",
       "      <td>487</td>\n",
       "      <td>15</td>\n",
       "      <td>15</td>\n",
       "      <td>(386, 486)</td>\n",
       "      <td>(477, 577)</td>\n",
       "      <td>1C8_phorikoshii_pross_2</td>\n",
       "      <td>10uM_AcP_d2</td>\n",
       "      <td>10</td>\n",
       "      <td>AcP</td>\n",
       "    </tr>\n",
       "    <tr>\n",
       "      <th>1</th>\n",
       "      <td>1</td>\n",
       "      <td>1</td>\n",
       "      <td>529.0</td>\n",
       "      <td>1878374.0</td>\n",
       "      <td>88.0</td>\n",
       "      <td>47.0</td>\n",
       "      <td>43.0</td>\n",
       "      <td>33.0</td>\n",
       "      <td>(386, 486)</td>\n",
       "      <td>(477, 577)</td>\n",
       "      <td>...</td>\n",
       "      <td>3071255</td>\n",
       "      <td>487</td>\n",
       "      <td>15</td>\n",
       "      <td>15</td>\n",
       "      <td>(386, 486)</td>\n",
       "      <td>(477, 577)</td>\n",
       "      <td>1C8_phorikoshii_pross_2</td>\n",
       "      <td>10uM_AcP_d2</td>\n",
       "      <td>10</td>\n",
       "      <td>AcP</td>\n",
       "    </tr>\n",
       "    <tr>\n",
       "      <th>2</th>\n",
       "      <td>1</td>\n",
       "      <td>1</td>\n",
       "      <td>539.0</td>\n",
       "      <td>1918052.0</td>\n",
       "      <td>93.0</td>\n",
       "      <td>47.0</td>\n",
       "      <td>43.0</td>\n",
       "      <td>33.0</td>\n",
       "      <td>(386, 486)</td>\n",
       "      <td>(477, 577)</td>\n",
       "      <td>...</td>\n",
       "      <td>3071255</td>\n",
       "      <td>487</td>\n",
       "      <td>15</td>\n",
       "      <td>15</td>\n",
       "      <td>(386, 486)</td>\n",
       "      <td>(477, 577)</td>\n",
       "      <td>1C8_phorikoshii_pross_2</td>\n",
       "      <td>10uM_AcP_d2</td>\n",
       "      <td>10</td>\n",
       "      <td>AcP</td>\n",
       "    </tr>\n",
       "    <tr>\n",
       "      <th>3</th>\n",
       "      <td>1</td>\n",
       "      <td>1</td>\n",
       "      <td>539.0</td>\n",
       "      <td>1912479.0</td>\n",
       "      <td>92.0</td>\n",
       "      <td>47.0</td>\n",
       "      <td>43.0</td>\n",
       "      <td>33.0</td>\n",
       "      <td>(386, 486)</td>\n",
       "      <td>(477, 577)</td>\n",
       "      <td>...</td>\n",
       "      <td>3071255</td>\n",
       "      <td>487</td>\n",
       "      <td>15</td>\n",
       "      <td>15</td>\n",
       "      <td>(386, 486)</td>\n",
       "      <td>(477, 577)</td>\n",
       "      <td>1C8_phorikoshii_pross_2</td>\n",
       "      <td>10uM_AcP_d2</td>\n",
       "      <td>10</td>\n",
       "      <td>AcP</td>\n",
       "    </tr>\n",
       "    <tr>\n",
       "      <th>4</th>\n",
       "      <td>1</td>\n",
       "      <td>1</td>\n",
       "      <td>538.0</td>\n",
       "      <td>1916181.0</td>\n",
       "      <td>94.0</td>\n",
       "      <td>47.0</td>\n",
       "      <td>43.0</td>\n",
       "      <td>33.0</td>\n",
       "      <td>(386, 486)</td>\n",
       "      <td>(477, 577)</td>\n",
       "      <td>...</td>\n",
       "      <td>3071255</td>\n",
       "      <td>487</td>\n",
       "      <td>15</td>\n",
       "      <td>15</td>\n",
       "      <td>(386, 486)</td>\n",
       "      <td>(477, 577)</td>\n",
       "      <td>1C8_phorikoshii_pross_2</td>\n",
       "      <td>10uM_AcP_d2</td>\n",
       "      <td>10</td>\n",
       "      <td>AcP</td>\n",
       "    </tr>\n",
       "  </tbody>\n",
       "</table>\n",
       "<p>5 rows × 30 columns</p>\n",
       "</div>"
      ],
      "text/plain": [
       "   x  y  median_chamber  sum_chamber  std_chamber  x_center_chamber  \\\n",
       "0  1  1           533.0    1909270.0         94.0              47.0   \n",
       "1  1  1           529.0    1878374.0         88.0              47.0   \n",
       "2  1  1           539.0    1918052.0         93.0              47.0   \n",
       "3  1  1           539.0    1912479.0         92.0              47.0   \n",
       "4  1  1           538.0    1916181.0         94.0              47.0   \n",
       "\n",
       "   y_center_chamber  radius_chamber      xslice      yslice  ...  \\\n",
       "0              43.0            33.0  (386, 486)  (477, 577)  ...   \n",
       "1              43.0            33.0  (386, 486)  (477, 577)  ...   \n",
       "2              43.0            33.0  (386, 486)  (477, 577)  ...   \n",
       "3              43.0            33.0  (386, 486)  (477, 577)  ...   \n",
       "4              43.0            33.0  (386, 486)  (477, 577)  ...   \n",
       "\n",
       "  summed_button_annulus_normed_Button_Quant  \\\n",
       "0                                   3071255   \n",
       "1                                   3071255   \n",
       "2                                   3071255   \n",
       "3                                   3071255   \n",
       "4                                   3071255   \n",
       "\n",
       "   std_button_annulus_localBG_Button_Quant  \\\n",
       "0                                      487   \n",
       "1                                      487   \n",
       "2                                      487   \n",
       "3                                      487   \n",
       "4                                      487   \n",
       "\n",
       "   inner_radius_button_annulus_Button_Quant  \\\n",
       "0                                        15   \n",
       "1                                        15   \n",
       "2                                        15   \n",
       "3                                        15   \n",
       "4                                        15   \n",
       "\n",
       "   outer_radius_button_annulus_Button_Quant  xslice_Button_Quant  \\\n",
       "0                                        15           (386, 486)   \n",
       "1                                        15           (386, 486)   \n",
       "2                                        15           (386, 486)   \n",
       "3                                        15           (386, 486)   \n",
       "4                                        15           (386, 486)   \n",
       "\n",
       "   yslice_Button_Quant          id_Button_Quant  series_index  \\\n",
       "0           (477, 577)  1C8_phorikoshii_pross_2   10uM_AcP_d2   \n",
       "1           (477, 577)  1C8_phorikoshii_pross_2   10uM_AcP_d2   \n",
       "2           (477, 577)  1C8_phorikoshii_pross_2   10uM_AcP_d2   \n",
       "3           (477, 577)  1C8_phorikoshii_pross_2   10uM_AcP_d2   \n",
       "4           (477, 577)  1C8_phorikoshii_pross_2   10uM_AcP_d2   \n",
       "\n",
       "   substrate_conc_uM  substrate  \n",
       "0                 10        AcP  \n",
       "1                 10        AcP  \n",
       "2                 10        AcP  \n",
       "3                 10        AcP  \n",
       "4                 10        AcP  \n",
       "\n",
       "[5 rows x 30 columns]"
      ]
     },
     "execution_count": 8,
     "metadata": {},
     "output_type": "execute_result"
    }
   ],
   "source": [
    "# use regex pattern to extract substrate and condition concentrations from the series_index string such as '25uM_ATP_1mM_EDTA'\n",
    "tags = ['substrate_conc_uM', 'substrate']\n",
    "series_index_pattern = r'(?P<%s>\\d+)uM_(?P<%s>\\w+)_' % (tags[0], tags[1])\n",
    "\n",
    "# replace the sequence \"no\" in the series_index column with \"0\" to make it easier to convert to numeric\n",
    "kinetic_data['series_index'] = kinetic_data['series_index'].str.replace('no', '0mM')\n",
    "\n",
    "# apply regex pattern to each string in the \"text\" column and create new columns\n",
    "kinetic_data['series_index'].str.extract(series_index_pattern)\n",
    "\n",
    "# extract the new columns from the regex pattern and convert numeric columns to float\n",
    "kinetic_data[tags] = kinetic_data['series_index'].str.extract(series_index_pattern)\n",
    "kinetic_data[tags] = kinetic_data[tags].apply(processing.pd.to_numeric, errors='ignore')\n",
    "kinetic_data.head()"
   ]
  },
  {
   "cell_type": "code",
   "execution_count": 9,
   "metadata": {},
   "outputs": [],
   "source": [
    "# Format all dataframes\n",
    "standard_data, kinetic_data = processing.format_data(standard_data=standard_data, kinetic_data=kinetic_data, egfp_data=egfp_data)"
   ]
  },
  {
   "attachments": {},
   "cell_type": "markdown",
   "metadata": {},
   "source": [
    "## \"Squeeze\" DataFrames"
   ]
  },
  {
   "attachments": {},
   "cell_type": "markdown",
   "metadata": {},
   "source": [
    "At this point, our DataFrames are in a long format: each row of kinetic_data corresponds to an individual timepoint in the kinetic assays, while each row of standard_data corresponds to an individual standard concentration. To support vectorized curve fitting operations later, we want to flatten or \"squeeze\" rows of each DataFrame into series (e.g. time, intensity, standard concentration) by chamber."
   ]
  },
  {
   "cell_type": "code",
   "execution_count": 10,
   "metadata": {},
   "outputs": [],
   "source": [
    "kinetic_data['MutantID'] = kinetic_data['id'].astype(str)"
   ]
  },
  {
   "cell_type": "code",
   "execution_count": 11,
   "metadata": {},
   "outputs": [
    {
     "data": {
      "text/html": [
       "<div>\n",
       "<style scoped>\n",
       "    .dataframe tbody tr th:only-of-type {\n",
       "        vertical-align: middle;\n",
       "    }\n",
       "\n",
       "    .dataframe tbody tr th {\n",
       "        vertical-align: top;\n",
       "    }\n",
       "\n",
       "    .dataframe thead th {\n",
       "        text-align: right;\n",
       "    }\n",
       "</style>\n",
       "<table border=\"1\" class=\"dataframe\">\n",
       "  <thead>\n",
       "    <tr style=\"text-align: right;\">\n",
       "      <th></th>\n",
       "      <th>x</th>\n",
       "      <th>y</th>\n",
       "      <th>Indices</th>\n",
       "      <th>MutantID</th>\n",
       "      <th>substrate</th>\n",
       "      <th>substrate_conc_uM</th>\n",
       "      <th>summed_button_BGsub_Button_Quant</th>\n",
       "      <th>time_s</th>\n",
       "      <th>kinetic_median_intensities</th>\n",
       "    </tr>\n",
       "  </thead>\n",
       "  <tbody>\n",
       "    <tr>\n",
       "      <th>0</th>\n",
       "      <td>1</td>\n",
       "      <td>1</td>\n",
       "      <td>01,01</td>\n",
       "      <td>1C8_phorikoshii_pross_2</td>\n",
       "      <td>AcP</td>\n",
       "      <td>10</td>\n",
       "      <td>124733</td>\n",
       "      <td>[0, 75, 150, 225, 300, 375, 450, 525, 600, 675...</td>\n",
       "      <td>[531.0, 529.0, 533.0, 532.0, 533.0, 537.0, 539...</td>\n",
       "    </tr>\n",
       "    <tr>\n",
       "      <th>1</th>\n",
       "      <td>1</td>\n",
       "      <td>1</td>\n",
       "      <td>01,01</td>\n",
       "      <td>1C8_phorikoshii_pross_2</td>\n",
       "      <td>AcP</td>\n",
       "      <td>25</td>\n",
       "      <td>124733</td>\n",
       "      <td>[0, 75, 150, 225, 300, 375, 450, 525, 600, 675...</td>\n",
       "      <td>[569.0, 574.0, 579.0, 582.0, 584.0, 586.0, 586...</td>\n",
       "    </tr>\n",
       "  </tbody>\n",
       "</table>\n",
       "</div>"
      ],
      "text/plain": [
       "   x  y Indices                 MutantID substrate  substrate_conc_uM  \\\n",
       "0  1  1   01,01  1C8_phorikoshii_pross_2       AcP                 10   \n",
       "1  1  1   01,01  1C8_phorikoshii_pross_2       AcP                 25   \n",
       "\n",
       "   summed_button_BGsub_Button_Quant  \\\n",
       "0                            124733   \n",
       "1                            124733   \n",
       "\n",
       "                                              time_s  \\\n",
       "0  [0, 75, 150, 225, 300, 375, 450, 525, 600, 675...   \n",
       "1  [0, 75, 150, 225, 300, 375, 450, 525, 600, 675...   \n",
       "\n",
       "                          kinetic_median_intensities  \n",
       "0  [531.0, 529.0, 533.0, 532.0, 533.0, 537.0, 539...  \n",
       "1  [569.0, 574.0, 579.0, 582.0, 584.0, 586.0, 586...  "
      ]
     },
     "metadata": {},
     "output_type": "display_data"
    }
   ],
   "source": [
    "squeeze_kinetics = processing.squeeze_kinetics(kinetic_data, additional_columns=[])"
   ]
  },
  {
   "attachments": {},
   "cell_type": "markdown",
   "metadata": {},
   "source": [
    "\"Squeeze\" standard data to serialize standard concetrations. Plot representative standard curves"
   ]
  },
  {
   "cell_type": "code",
   "execution_count": 16,
   "metadata": {},
   "outputs": [
    {
     "data": {
      "text/html": [
       "<div>\n",
       "<style scoped>\n",
       "    .dataframe tbody tr th:only-of-type {\n",
       "        vertical-align: middle;\n",
       "    }\n",
       "\n",
       "    .dataframe tbody tr th {\n",
       "        vertical-align: top;\n",
       "    }\n",
       "\n",
       "    .dataframe thead th {\n",
       "        text-align: right;\n",
       "    }\n",
       "</style>\n",
       "<table border=\"1\" class=\"dataframe\">\n",
       "  <thead>\n",
       "    <tr style=\"text-align: right;\">\n",
       "      <th></th>\n",
       "      <th>x</th>\n",
       "      <th>y</th>\n",
       "      <th>Indices</th>\n",
       "      <th>standard_concentration_uM</th>\n",
       "      <th>standard_median_intensities</th>\n",
       "    </tr>\n",
       "  </thead>\n",
       "  <tbody>\n",
       "    <tr>\n",
       "      <th>0</th>\n",
       "      <td>1</td>\n",
       "      <td>1</td>\n",
       "      <td>01,01</td>\n",
       "      <td>[0, 6, 15, 30, 75, 150]</td>\n",
       "      <td>[6277.0, 13745.0, 17700.0, 20238.0, 21672.0, 2...</td>\n",
       "    </tr>\n",
       "    <tr>\n",
       "      <th>1</th>\n",
       "      <td>1</td>\n",
       "      <td>2</td>\n",
       "      <td>01,02</td>\n",
       "      <td>[0, 6, 15, 30, 75, 150]</td>\n",
       "      <td>[6491.0, 12130.0, 15967.0, 18676.0, 20309.0, 2...</td>\n",
       "    </tr>\n",
       "    <tr>\n",
       "      <th>2</th>\n",
       "      <td>1</td>\n",
       "      <td>3</td>\n",
       "      <td>01,03</td>\n",
       "      <td>[0, 6, 15, 30, 75, 150]</td>\n",
       "      <td>[6320.0, 9907.0, 12998.0, 15669.0, 17274.0, 19...</td>\n",
       "    </tr>\n",
       "    <tr>\n",
       "      <th>3</th>\n",
       "      <td>1</td>\n",
       "      <td>4</td>\n",
       "      <td>01,04</td>\n",
       "      <td>[0, 6, 15, 30, 75, 150]</td>\n",
       "      <td>[5694.0, 7719.0, 10359.0, 12683.0, 14231.0, 16...</td>\n",
       "    </tr>\n",
       "  </tbody>\n",
       "</table>\n",
       "</div>"
      ],
      "text/plain": [
       "   x  y Indices standard_concentration_uM  \\\n",
       "0  1  1   01,01   [0, 6, 15, 30, 75, 150]   \n",
       "1  1  2   01,02   [0, 6, 15, 30, 75, 150]   \n",
       "2  1  3   01,03   [0, 6, 15, 30, 75, 150]   \n",
       "3  1  4   01,04   [0, 6, 15, 30, 75, 150]   \n",
       "\n",
       "                         standard_median_intensities  \n",
       "0  [6277.0, 13745.0, 17700.0, 20238.0, 21672.0, 2...  \n",
       "1  [6491.0, 12130.0, 15967.0, 18676.0, 20309.0, 2...  \n",
       "2  [6320.0, 9907.0, 12998.0, 15669.0, 17274.0, 19...  \n",
       "3  [5694.0, 7719.0, 10359.0, 12683.0, 14231.0, 16...  "
      ]
     },
     "metadata": {},
     "output_type": "display_data"
    },
    {
     "data": {
      "image/png": "[encoded data removed]",
      "text/plain": [
       "<Figure size 432x288 with 1 Axes>"
      ]
     },
     "metadata": {
      "needs_background": "light"
     },
     "output_type": "display_data"
    }
   ],
   "source": [
    "squeeze_standards = processing.squeeze_standard(standard_data,\n",
    "                                                standard_type='linear', pbp_conc=50,\n",
    "                                                experiment_day=experimental_day,\n",
    "                                                remove_concs=[])"
   ]
  },
  {
   "attachments": {},
   "cell_type": "markdown",
   "metadata": {},
   "source": [
    "## Calculate enzyme concentration from eGFP fluorescence"
   ]
  },
  {
   "cell_type": "code",
   "execution_count": 15,
   "metadata": {},
   "outputs": [
    {
     "data": {
      "image/png": "[encoded data removed]",
      "text/plain": [
       "<Figure size 360x360 with 1 Axes>"
      ]
     },
     "metadata": {
      "needs_background": "light"
     },
     "output_type": "display_data"
    }
   ],
   "source": [
    "# adjust the enzyme concentrations by the egfp slope\n",
    "squeeze_kinetics['EnzymeConc'] = squeeze_kinetics['summed_button_BGsub_Button_Quant']/80000\n",
    "\n",
    "\n",
    "import matplotlib.pyplot as plt\n",
    "\n",
    "# plot a histogram of enzyme conc for blank chambers\n",
    "blank_dat = squeeze_kinetics[squeeze_kinetics['MutantID'] == 'BLANK']\n",
    "plt.hist(blank_dat['EnzymeConc'], color='grey', alpha=0.3, linewidth=1.2, edgecolor='black', bins=50, label='Blank')\n",
    "\n",
    "# plot a histogram of enzyme conc for non-blank chambers\n",
    "non_blank_dat = squeeze_kinetics[squeeze_kinetics['MutantID'] != 'BLANK']\n",
    "plt.hist(non_blank_dat['EnzymeConc'], color='green', alpha=0.3, linewidth=1.2, edgecolor='green', bins=50, label='Printed')\n",
    "\n",
    "# adjust labels and plot\n",
    "plt.ylim(0, 400)\n",
    "plt.title('Enzyme Concentrations')\n",
    "plt.xlabel('Enzyme Concentration (nM)')\n",
    "plt.ylabel('Counts')\n",
    "plt.legend(title='Chamber')\n",
    "\n",
    "# adjust ratio of figure size to make it more square\n",
    "plt.gcf().set_size_inches(5, 5)\n",
    "\n",
    "plt.show()"
   ]
  },
  {
   "attachments": {},
   "cell_type": "markdown",
   "metadata": {},
   "source": [
    "## Fit PBP Standard Curves"
   ]
  },
  {
   "attachments": {},
   "cell_type": "markdown",
   "metadata": {},
   "source": [
    "To fit the PBP standard curve, we need to optimize a nonlinear least squares fit based on the following single-site binding isotherm for the phosphate sensor:\n",
    "\n",
    "$I([Pi]) = 0.5A(KD +[Pi]+[PS]-\\sqrt{(KD +[PS]+[Pi])^2 - 4[PS][Pi]}) + I(0μM)$\n",
    "\n",
    "where $I([Pi])$ is the median fluorescence at a given $[Pi]$, $[PS]$ is the concentration of PBP, $K_D$ is the dissociation constant of Pi from PBP, $A$ is the scaling factor necessary to relate fraction PBP bound to observed fluorescence, and $I(0μM[Pi])$ is the median fluorescence intensity of PBP in the absence of added Pi."
   ]
  },
  {
   "attachments": {},
   "cell_type": "markdown",
   "metadata": {},
   "source": [
    "To find product concentrations from measured intensities, we need to invert this isotherm. For this, we use the package `sympy`, which has a nice suite of tools for symbolic math."
   ]
  },
  {
   "cell_type": "code",
   "execution_count": 16,
   "metadata": {},
   "outputs": [],
   "source": [
    "# A, KD, P_i, PS, I_0uMP_i, I_P_i = symbols('A KD P_i PS I_0uMP_i I_P_i')\n",
    "\n",
    "# isotherm_inverse = solve(0.5 * A * (KD + P_i + PS - ((KD + PS + P_i)**2 - 4*PS*P_i)**(1/2)) + I_0uMP_i - I_P_i, P_i)\n",
    "# print('Inverse of isotherm:', isotherm_inverse)"
   ]
  },
  {
   "attachments": {},
   "cell_type": "markdown",
   "metadata": {},
   "source": [
    "If we would like to fit the inverse, we can simply copy this function into the following cell to perform the nonlinear least squares fit. Instead, we will densely interpolate the curve fits for each chamber and use the interpolations to approximate `[Pi]` concentration. The following function optimizes a least squares fit for each standard curve in each chamber and stores the optimum paramters as a list [`A, KD, PS, I_0uMP_i`] in the column `standard_popt`."
   ]
  },
  {
   "attachments": {},
   "cell_type": "markdown",
   "metadata": {},
   "source": [
    "Now, let's check a few of the curve fits to make sure they look appropriate"
   ]
  },
  {
   "cell_type": "code",
   "execution_count": 17,
   "metadata": {},
   "outputs": [
    {
     "name": "stdout",
     "output_type": "stream",
     "text": [
      "Performing curve fits...\n",
      "Some curve fits may fail, this is expected and will be replaced with NaNs\n"
     ]
    },
    {
     "data": {
      "application/vnd.jupyter.widget-view+json": {
       "model_id": "fc5d511c150a4663990cfae4bba51dbb",
       "version_major": 2,
       "version_minor": 0
      },
      "text/plain": [
       "VBox(children=(HBox(children=(IntProgress(value=0, description='0.00%', max=221), Label(value='0 / 221'))), HB…"
      ]
     },
     "metadata": {},
     "output_type": "display_data"
    },
    {
     "name": "stderr",
     "output_type": "stream",
     "text": [
      "/Users/micaholivas/Desktop/htmek_processing/single_experiment_processing/experiment_processing/processing.py:270: RuntimeWarning: invalid value encountered in sqrt\n",
      "  def isotherm(P_i, A, KD, PS, I_0uMP_i): return 0.5 * A * (KD + P_i + PS - ((KD + PS + P_i)**2 - 4*PS*P_i)**(1/2)) + I_0uMP_i\n",
      "/Users/micaholivas/Desktop/htmek_processing/single_experiment_processing/experiment_processing/processing.py:270: RuntimeWarning: invalid value encountered in sqrt\n",
      "  def isotherm(P_i, A, KD, PS, I_0uMP_i): return 0.5 * A * (KD + P_i + PS - ((KD + PS + P_i)**2 - 4*PS*P_i)**(1/2)) + I_0uMP_i\n"
     ]
    },
    {
     "data": {
      "image/png": "[encoded data removed]",
      "text/plain": [
       "<Figure size 864x216 with 4 Axes>"
      ]
     },
     "metadata": {
      "needs_background": "light"
     },
     "output_type": "display_data"
    }
   ],
   "source": [
    "squeeze_standards = processing.standard_curve_fit(squeeze_standards, standard_type='pbp')"
   ]
  },
  {
   "attachments": {},
   "cell_type": "markdown",
   "metadata": {},
   "source": [
    "## Merge dataframes"
   ]
  },
  {
   "attachments": {},
   "cell_type": "markdown",
   "metadata": {},
   "source": [
    "Next we merge the standard and kinetic data on the chamber Indices and substrate columns and convert the kinetic median intensities to product concentrations using the standard curve slope. To convert median assay intensities to product concentrations, we interpolate the curve fit and generate a lookup dictionary. This method should be replaced with a rigorous interpolation, but it will do for now."
   ]
  },
  {
   "cell_type": "code",
   "execution_count": 18,
   "metadata": {},
   "outputs": [
    {
     "name": "stdout",
     "output_type": "stream",
     "text": [
      "Calculating product concentrations...\n",
      "(If interpolating, this will take longer than the curve fitting step)\n"
     ]
    },
    {
     "data": {
      "application/vnd.jupyter.widget-view+json": {
       "model_id": "90ac64c718c946b8be1bdcb1941c6f2e",
       "version_major": 2,
       "version_minor": 0
      },
      "text/plain": [
       "VBox(children=(HBox(children=(IntProgress(value=0, description='0.00%', max=1105), Label(value='0 / 1105'))), …"
      ]
     },
     "metadata": {},
     "output_type": "display_data"
    },
    {
     "name": "stdout",
     "output_type": "stream",
     "text": [
      "Curve fit failed for chamber: 32,49\n",
      "nan\n",
      "Curve fit failed for chamber: 32,49\n",
      "nan\n",
      "Curve fit failed for chamber: 32,49\n",
      "nan\n",
      "Curve fit failed for chamber: 32,49\n",
      "nan\n",
      "Curve fit failed for chamber: 32,49\n",
      "nan\n"
     ]
    },
    {
     "data": {
      "text/html": [
       "<div>\n",
       "<style scoped>\n",
       "    .dataframe tbody tr th:only-of-type {\n",
       "        vertical-align: middle;\n",
       "    }\n",
       "\n",
       "    .dataframe tbody tr th {\n",
       "        vertical-align: top;\n",
       "    }\n",
       "\n",
       "    .dataframe thead th {\n",
       "        text-align: right;\n",
       "    }\n",
       "</style>\n",
       "<table border=\"1\" class=\"dataframe\">\n",
       "  <thead>\n",
       "    <tr style=\"text-align: right;\">\n",
       "      <th></th>\n",
       "      <th>x</th>\n",
       "      <th>y</th>\n",
       "      <th>Indices</th>\n",
       "      <th>MutantID</th>\n",
       "      <th>substrate</th>\n",
       "      <th>substrate_conc_uM</th>\n",
       "      <th>summed_button_BGsub_Button_Quant</th>\n",
       "      <th>time_s</th>\n",
       "      <th>kinetic_median_intensities</th>\n",
       "      <th>EnzymeConc</th>\n",
       "      <th>standard_concentration_uM</th>\n",
       "      <th>standard_median_intensities</th>\n",
       "      <th>standard_popt</th>\n",
       "      <th>kinetic_product_concentration_uM</th>\n",
       "    </tr>\n",
       "  </thead>\n",
       "  <tbody>\n",
       "    <tr>\n",
       "      <th>0</th>\n",
       "      <td>1</td>\n",
       "      <td>1</td>\n",
       "      <td>01,01</td>\n",
       "      <td>1C8_phorikoshii_pross_2</td>\n",
       "      <td>AcP</td>\n",
       "      <td>10</td>\n",
       "      <td>124733</td>\n",
       "      <td>[0, 75, 150, 225, 300, 375, 450, 525, 600, 675...</td>\n",
       "      <td>[531.0, 529.0, 533.0, 532.0, 533.0, 537.0, 539...</td>\n",
       "      <td>1.559163</td>\n",
       "      <td>[0, 6, 15, 30, 75, 150]</td>\n",
       "      <td>[6277.0, 13745.0, 17700.0, 20238.0, 21672.0, 2...</td>\n",
       "      <td>[1551.0193106129464, 2.57144466244605, 10.0000...</td>\n",
       "      <td>[-4.643999999999998, -4.643999999999998, -4.64...</td>\n",
       "    </tr>\n",
       "  </tbody>\n",
       "</table>\n",
       "</div>"
      ],
      "text/plain": [
       "   x  y Indices                 MutantID substrate  substrate_conc_uM  \\\n",
       "0  1  1   01,01  1C8_phorikoshii_pross_2       AcP                 10   \n",
       "\n",
       "   summed_button_BGsub_Button_Quant  \\\n",
       "0                            124733   \n",
       "\n",
       "                                              time_s  \\\n",
       "0  [0, 75, 150, 225, 300, 375, 450, 525, 600, 675...   \n",
       "\n",
       "                          kinetic_median_intensities  EnzymeConc  \\\n",
       "0  [531.0, 529.0, 533.0, 532.0, 533.0, 537.0, 539...    1.559163   \n",
       "\n",
       "  standard_concentration_uM  \\\n",
       "0   [0, 6, 15, 30, 75, 150]   \n",
       "\n",
       "                         standard_median_intensities  \\\n",
       "0  [6277.0, 13745.0, 17700.0, 20238.0, 21672.0, 2...   \n",
       "\n",
       "                                       standard_popt  \\\n",
       "0  [1551.0193106129464, 2.57144466244605, 10.0000...   \n",
       "\n",
       "                    kinetic_product_concentration_uM  \n",
       "0  [-4.643999999999998, -4.643999999999998, -4.64...  "
      ]
     },
     "execution_count": 18,
     "metadata": {},
     "output_type": "execute_result"
    }
   ],
   "source": [
    "sq_merged = processing.merge_and_get_product_concs(squeeze_kinetics, squeeze_standards, standard_type='pbp')\n",
    "sq_merged.head(1)"
   ]
  },
  {
   "attachments": {},
   "cell_type": "markdown",
   "id": "eee7397b",
   "metadata": {},
   "source": [
    "# Manual eGFP Flagging (only for [E] above the background)"
   ]
  },
  {
   "cell_type": "code",
   "execution_count": 20,
   "id": "e144553d",
   "metadata": {},
   "outputs": [
    {
     "name": "stdout",
     "output_type": "stream",
     "text": [
      "Culling record found: .../ACYP/230629_SFL_AcyPs/egfp_culling/manual_culling_record.csv. \n",
      "Loaded culling record.\n"
     ]
    },
    {
     "data": {
      "text/plain": [
       "None"
      ]
     },
     "metadata": {},
     "output_type": "display_data"
    }
   ],
   "source": [
    "# Point to directory for culling record export\n",
    "culling_export_directory = '/Volumes/Micah_Data/HT-MEK_data/ACYP/230629_SFL_AcyPs/egfp_culling'\n",
    "\n",
    "# Initialize row and column numbers\n",
    "NUM_ROWS = 56\n",
    "NUM_COLS = 32\n",
    "\n",
    "# Create button grid and display\n",
    "button_grid, flagged_set, button_stamps = processing.manual_culling(sq_merged, egfp_button_summary_image_path, NUM_ROWS, NUM_COLS, culling_export_directory)\n",
    "display(button_grid)"
   ]
  },
  {
   "attachments": {},
   "cell_type": "markdown",
   "metadata": {},
   "source": [
    "Close button finder, then add culling flag to merged DataFrame and export culling record"
   ]
  },
  {
   "cell_type": "code",
   "execution_count": 21,
   "id": "7ef23ce0",
   "metadata": {},
   "outputs": [
    {
     "name": "stdout",
     "output_type": "stream",
     "text": [
      "Found culling record for the following chambers: {'32,25'}\n",
      "Added flagged chambers to sq_merged.\n"
     ]
    }
   ],
   "source": [
    "# close button grid if variable exists\n",
    "if type(button_grid) == type(None):\n",
    "    pass\n",
    "else:\n",
    "    button_grid.close()\n",
    "\n",
    "# Update sq_merged with flagged chambers and export culling record\n",
    "sq_merged = processing.handle_flagged_chambers(sq_merged, flagged_set, culling_export_directory)"
   ]
  },
  {
   "attachments": {},
   "cell_type": "markdown",
   "metadata": {},
   "source": [
    "# Calculate initial rates\n",
    "To calculate initial rates for each substrate condition, we apply an algorithm adapted from page 27 of the SI of _Markin, Mokhtari et al. 2021_"
   ]
  },
  {
   "cell_type": "code",
   "execution_count": 24,
   "metadata": {},
   "outputs": [
    {
     "name": "stdout",
     "output_type": "stream",
     "text": [
      "Fitting initial rates...\n",
      "Done fitting initial rates. Adding results to dataframe...\n",
      "Plotting progress curves for one random library member...\n"
     ]
    },
    {
     "data": {
      "image/png": "[encoded data removed]",
      "text/plain": [
       "<Figure size 720x216 with 5 Axes>"
      ]
     },
     "metadata": {
      "needs_background": "light"
     },
     "output_type": "display_data"
    }
   ],
   "source": [
    "sq_merged = processing.get_initial_rates(sq_merged, fit_type='pbp', pbp_conc=50)"
   ]
  },
  {
   "attachments": {},
   "cell_type": "markdown",
   "metadata": {},
   "source": [
    "# Michaelis-Menten curve fitting"
   ]
  },
  {
   "attachments": {},
   "cell_type": "markdown",
   "metadata": {},
   "source": [
    "To perform the fitting, we apply another \"squeeze\" to create columns for the substrate concentration series and initial rate series. Scale initial rates by enzyme concentration. If there is no measurement for a zero substrate condition, a zero placeholder is added to the beginning of the substrate conc and initial rate lists."
   ]
  },
  {
   "cell_type": "code",
   "execution_count": 25,
   "metadata": {},
   "outputs": [
    {
     "name": "stdout",
     "output_type": "stream",
     "text": [
      "Fitting Michaelis-Menten curves...\n"
     ]
    },
    {
     "data": {
      "application/vnd.jupyter.widget-view+json": {
       "model_id": "92aa7d96acea44c1a661d8f19028ce70",
       "version_major": 2,
       "version_minor": 0
      },
      "text/plain": [
       "VBox(children=(HBox(children=(IntProgress(value=0, description='0.00%', max=221), Label(value='0 / 221'))), HB…"
      ]
     },
     "metadata": {},
     "output_type": "display_data"
    },
    {
     "name": "stderr",
     "output_type": "stream",
     "text": [
      "/Users/micaholivas/Desktop/htmek_processing/single_experiment_processing/experiment_processing/processing.py:897: RuntimeWarning: divide by zero encountered in double_scalars\n",
      "  kcat_fit = vmax_fit/(enzyme_conc/1000) # at this point, enzyme conc is in nM, so convert to uM; kcat is in s^-1\n",
      "/Users/micaholivas/Desktop/htmek_processing/single_experiment_processing/experiment_processing/processing.py:897: RuntimeWarning: divide by zero encountered in double_scalars\n",
      "  kcat_fit = vmax_fit/(enzyme_conc/1000) # at this point, enzyme conc is in nM, so convert to uM; kcat is in s^-1\n",
      "/Users/micaholivas/Desktop/htmek_processing/single_experiment_processing/experiment_processing/processing.py:897: RuntimeWarning: divide by zero encountered in double_scalars\n",
      "  kcat_fit = vmax_fit/(enzyme_conc/1000) # at this point, enzyme conc is in nM, so convert to uM; kcat is in s^-1\n",
      "/Users/micaholivas/Desktop/htmek_processing/single_experiment_processing/experiment_processing/processing.py:897: RuntimeWarning: divide by zero encountered in double_scalars\n",
      "  kcat_fit = vmax_fit/(enzyme_conc/1000) # at this point, enzyme conc is in nM, so convert to uM; kcat is in s^-1\n",
      "/Users/micaholivas/Desktop/htmek_processing/single_experiment_processing/experiment_processing/processing.py:897: RuntimeWarning: divide by zero encountered in double_scalars\n",
      "  kcat_fit = vmax_fit/(enzyme_conc/1000) # at this point, enzyme conc is in nM, so convert to uM; kcat is in s^-1\n",
      "/Users/micaholivas/Desktop/htmek_processing/single_experiment_processing/experiment_processing/processing.py:897: RuntimeWarning: divide by zero encountered in double_scalars\n",
      "  kcat_fit = vmax_fit/(enzyme_conc/1000) # at this point, enzyme conc is in nM, so convert to uM; kcat is in s^-1\n",
      "/Users/micaholivas/Desktop/htmek_processing/single_experiment_processing/experiment_processing/processing.py:897: RuntimeWarning: divide by zero encountered in double_scalars\n",
      "  kcat_fit = vmax_fit/(enzyme_conc/1000) # at this point, enzyme conc is in nM, so convert to uM; kcat is in s^-1\n",
      "/Users/micaholivas/Desktop/htmek_processing/single_experiment_processing/experiment_processing/processing.py:897: RuntimeWarning: divide by zero encountered in double_scalars\n",
      "  kcat_fit = vmax_fit/(enzyme_conc/1000) # at this point, enzyme conc is in nM, so convert to uM; kcat is in s^-1\n"
     ]
    },
    {
     "name": "stdout",
     "output_type": "stream",
     "text": [
      "Done fitting Michaelis-Menten curves.\n",
      "Plotting examples...\n"
     ]
    },
    {
     "data": {
      "image/png": "[encoded data removed]",
      "text/plain": [
       "<Figure size 1152x360 with 4 Axes>"
      ]
     },
     "metadata": {
      "needs_background": "light"
     },
     "output_type": "display_data"
    }
   ],
   "source": [
    "squeeze_mm, mm_excluded_concs = processing.fit_michaelis_menten(sq_merged, exclude_concs=[])"
   ]
  },
  {
   "attachments": {},
   "cell_type": "markdown",
   "metadata": {},
   "source": [
    "# Inhibition "
   ]
  },
  {
   "cell_type": "code",
   "execution_count": 26,
   "metadata": {},
   "outputs": [],
   "source": [
    "# constant substrate concentration with increasing inhibitor concentration\n",
    "# should be similar to unfolding curves (normalize to 0uM inhibitor and plot y axis in linear scale)\n"
   ]
  },
  {
   "attachments": {},
   "cell_type": "markdown",
   "metadata": {},
   "source": [
    "# Calculate local background ratio\n",
    "Add as a row in the by-chamber, by-substrate concentration dataframe, then squeeze into a list in the MM dataframe "
   ]
  },
  {
   "attachments": {},
   "cell_type": "markdown",
   "metadata": {},
   "source": [
    "Next, iterate row-wise across the dataframe and compute the local background ratio. This algorithm is as follows: \n",
    "    1) for each chamber, store the intial rate for the highest substrate concentration condition\n",
    "    2) coerce all rates below 0.00001 to zero\n",
    "    3) store the rates in the above and below chambers"
   ]
  },
  {
   "cell_type": "code",
   "execution_count": 27,
   "metadata": {},
   "outputs": [
    {
     "name": "stderr",
     "output_type": "stream",
     "text": [
      "/Users/micaholivas/Desktop/htmek_processing/single_experiment_processing/experiment_processing/processing.py:1051: SettingWithCopyWarning: \n",
      "A value is trying to be set on a copy of a slice from a DataFrame.\n",
      "Try using .loc[row_indexer,col_indexer] = value instead\n",
      "\n",
      "See the caveats in the documentation: https://pandas.pydata.org/pandas-docs/stable/user_guide/indexing.html#returning-a-view-versus-a-copy\n",
      "  local_bg_df['index_tuple'] = local_bg_df.apply(lambda row: (row.x, row.y), axis=1)\n"
     ]
    },
    {
     "data": {
      "text/html": [
       "<div>\n",
       "<style scoped>\n",
       "    .dataframe tbody tr th:only-of-type {\n",
       "        vertical-align: middle;\n",
       "    }\n",
       "\n",
       "    .dataframe tbody tr th {\n",
       "        vertical-align: top;\n",
       "    }\n",
       "\n",
       "    .dataframe thead th {\n",
       "        text-align: right;\n",
       "    }\n",
       "</style>\n",
       "<table border=\"1\" class=\"dataframe\">\n",
       "  <thead>\n",
       "    <tr style=\"text-align: right;\">\n",
       "      <th></th>\n",
       "      <th>x</th>\n",
       "      <th>y</th>\n",
       "      <th>Indices</th>\n",
       "      <th>MutantID</th>\n",
       "      <th>substrate</th>\n",
       "      <th>EnzymeConc</th>\n",
       "      <th>egfp_manual_flag</th>\n",
       "      <th>substrate_concs</th>\n",
       "      <th>initial_rates</th>\n",
       "      <th>KM_fit</th>\n",
       "      <th>vmax_fit</th>\n",
       "      <th>kcat_fit</th>\n",
       "      <th>kcat_over_KM_fit</th>\n",
       "      <th>kcat_over_KM_fit_R2</th>\n",
       "      <th>local_bg_ratio</th>\n",
       "    </tr>\n",
       "  </thead>\n",
       "  <tbody>\n",
       "    <tr>\n",
       "      <th>0</th>\n",
       "      <td>1</td>\n",
       "      <td>1</td>\n",
       "      <td>01,01</td>\n",
       "      <td>1C8_phorikoshii_pross_2</td>\n",
       "      <td>AcP</td>\n",
       "      <td>1.559163</td>\n",
       "      <td>False</td>\n",
       "      <td>[10, 25, 50, 75, 100]</td>\n",
       "      <td>[6.330017799703199e-18, 9.495026699554798e-18,...</td>\n",
       "      <td>149.993291</td>\n",
       "      <td>0.000091</td>\n",
       "      <td>0.058105</td>\n",
       "      <td>387.382691</td>\n",
       "      <td>0.438891</td>\n",
       "      <td>0.0</td>\n",
       "    </tr>\n",
       "    <tr>\n",
       "      <th>1</th>\n",
       "      <td>1</td>\n",
       "      <td>2</td>\n",
       "      <td>01,02</td>\n",
       "      <td>BLANK</td>\n",
       "      <td>AcP</td>\n",
       "      <td>0.995875</td>\n",
       "      <td>False</td>\n",
       "      <td>[10, 25, 50, 75, 100]</td>\n",
       "      <td>[6.330017799703199e-18, 6.330017799703199e-18,...</td>\n",
       "      <td>149.988988</td>\n",
       "      <td>0.000182</td>\n",
       "      <td>0.183165</td>\n",
       "      <td>1221.189299</td>\n",
       "      <td>0.436896</td>\n",
       "      <td>0.0</td>\n",
       "    </tr>\n",
       "    <tr>\n",
       "      <th>2</th>\n",
       "      <td>1</td>\n",
       "      <td>3</td>\n",
       "      <td>01,03</td>\n",
       "      <td>2A4_sbenthica_lowlambda_highid_7</td>\n",
       "      <td>AcP</td>\n",
       "      <td>0.838025</td>\n",
       "      <td>False</td>\n",
       "      <td>[10, 25, 50, 75, 100]</td>\n",
       "      <td>[2.5320071198812795e-17, 2.5320071198812795e-1...</td>\n",
       "      <td>149.993291</td>\n",
       "      <td>0.000091</td>\n",
       "      <td>0.108105</td>\n",
       "      <td>720.733349</td>\n",
       "      <td>0.886370</td>\n",
       "      <td>0.0</td>\n",
       "    </tr>\n",
       "    <tr>\n",
       "      <th>3</th>\n",
       "      <td>1</td>\n",
       "      <td>4</td>\n",
       "      <td>01,04</td>\n",
       "      <td>BLANK</td>\n",
       "      <td>AcP</td>\n",
       "      <td>12.768650</td>\n",
       "      <td>False</td>\n",
       "      <td>[10, 25, 50, 75, 100]</td>\n",
       "      <td>[3.798010679821919e-17, 3.798010679821919e-17,...</td>\n",
       "      <td>149.953071</td>\n",
       "      <td>0.000421</td>\n",
       "      <td>0.032984</td>\n",
       "      <td>219.959023</td>\n",
       "      <td>0.002497</td>\n",
       "      <td>0.0</td>\n",
       "    </tr>\n",
       "    <tr>\n",
       "      <th>4</th>\n",
       "      <td>1</td>\n",
       "      <td>5</td>\n",
       "      <td>01,05</td>\n",
       "      <td>1G1_phorikoshii_lowlambda_lowid_8</td>\n",
       "      <td>AcP</td>\n",
       "      <td>2.052688</td>\n",
       "      <td>False</td>\n",
       "      <td>[10, 25, 50, 75, 100]</td>\n",
       "      <td>[3.798010679821919e-17, 3.798010679821919e-17,...</td>\n",
       "      <td>149.953071</td>\n",
       "      <td>0.000421</td>\n",
       "      <td>0.205173</td>\n",
       "      <td>1368.245182</td>\n",
       "      <td>0.002497</td>\n",
       "      <td>0.0</td>\n",
       "    </tr>\n",
       "  </tbody>\n",
       "</table>\n",
       "</div>"
      ],
      "text/plain": [
       "   x  y Indices                           MutantID substrate  EnzymeConc  \\\n",
       "0  1  1   01,01            1C8_phorikoshii_pross_2       AcP    1.559163   \n",
       "1  1  2   01,02                              BLANK       AcP    0.995875   \n",
       "2  1  3   01,03   2A4_sbenthica_lowlambda_highid_7       AcP    0.838025   \n",
       "3  1  4   01,04                              BLANK       AcP   12.768650   \n",
       "4  1  5   01,05  1G1_phorikoshii_lowlambda_lowid_8       AcP    2.052688   \n",
       "\n",
       "   egfp_manual_flag        substrate_concs  \\\n",
       "0             False  [10, 25, 50, 75, 100]   \n",
       "1             False  [10, 25, 50, 75, 100]   \n",
       "2             False  [10, 25, 50, 75, 100]   \n",
       "3             False  [10, 25, 50, 75, 100]   \n",
       "4             False  [10, 25, 50, 75, 100]   \n",
       "\n",
       "                                       initial_rates      KM_fit  vmax_fit  \\\n",
       "0  [6.330017799703199e-18, 9.495026699554798e-18,...  149.993291  0.000091   \n",
       "1  [6.330017799703199e-18, 6.330017799703199e-18,...  149.988988  0.000182   \n",
       "2  [2.5320071198812795e-17, 2.5320071198812795e-1...  149.993291  0.000091   \n",
       "3  [3.798010679821919e-17, 3.798010679821919e-17,...  149.953071  0.000421   \n",
       "4  [3.798010679821919e-17, 3.798010679821919e-17,...  149.953071  0.000421   \n",
       "\n",
       "   kcat_fit  kcat_over_KM_fit  kcat_over_KM_fit_R2  local_bg_ratio  \n",
       "0  0.058105        387.382691             0.438891             0.0  \n",
       "1  0.183165       1221.189299             0.436896             0.0  \n",
       "2  0.108105        720.733349             0.886370             0.0  \n",
       "3  0.032984        219.959023             0.002497             0.0  \n",
       "4  0.205173       1368.245182             0.002497             0.0  "
      ]
     },
     "execution_count": 27,
     "metadata": {},
     "output_type": "execute_result"
    }
   ],
   "source": [
    "squeeze_mm, sq_merged = processing.calculate_local_bg_ratio(squeeze_mm, sq_merged, device_rows=device_rows, exclude_concs=[])\n",
    "squeeze_mm.head(5)"
   ]
  },
  {
   "attachments": {},
   "cell_type": "markdown",
   "metadata": {},
   "source": [
    "# Print PDFs"
   ]
  },
  {
   "attachments": {},
   "cell_type": "markdown",
   "metadata": {},
   "source": [
    "Generate one experiment-level summary PDF and one PDF per chamber with the following plots:\n",
    "1. **Progress curves** for each substrate condition with linear initial rate fits\n",
    "2. **Standard curve** \n",
    "4. **Michaelis-Menten fits** to each substrate condition\n",
    "\n",
    "PDFs are exported to a `PDF` directory in the specified export directory."
   ]
  },
  {
   "cell_type": "code",
   "execution_count": 103,
   "metadata": {},
   "outputs": [
    {
     "name": "stderr",
     "output_type": "stream",
     "text": [
      "/Users/micaholivas/Desktop/htmek_processing/single_experiment_processing/experiment_processing/processing.py:1151: MatplotlibDeprecationWarning: The 'norm' parameter to Colorbar has no effect because it is overridden by the mappable; it is deprecated since 3.3 and will be removed two minor releases later.\n",
      "  cbar = ax.figure.colorbar(im, ax=ax, norm=norm, **cbar_kw)\n"
     ]
    },
    {
     "data": {
      "image/png": "[encoded data removed]",
      "text/plain": [
       "<Figure size 720x720 with 6 Axes>"
      ]
     },
     "metadata": {
      "needs_background": "light"
     },
     "output_type": "display_data"
    },
    {
     "name": "stderr",
     "output_type": "stream",
     "text": [
      "Export complete: 100%|██████████| 1792/1792 [36:25<00:00,  1.22s/it]      \n"
     ]
    }
   ],
   "source": [
    "filter_dictionary = {'local_bg_ratio': 2, \n",
    "                     'EnzymeConc': 5,\n",
    "                     'egfp_manual_flag': True}\n",
    "\n",
    "processing.plot_chip_summary(squeeze_mm=squeeze_mm,\n",
    "                             pbp_conc=50, substrate=substrate, sq_merged=sq_merged, squeeze_standards=squeeze_standards, \n",
    "                             squeeze_kinetics=squeeze_kinetics, button_stamps=button_stamps, device_columns=device_columns, \n",
    "                             device_rows=device_rows, export_path_root=export_path_root, experimental_day=experimental_day, \n",
    "                             experiment_name=experiment_name, exclude_concs=[], filter_dictionary=filter_dictionary\n",
    "                             )"
   ]
  },
  {
   "attachments": {},
   "cell_type": "markdown",
   "metadata": {},
   "source": [
    "#### Merge PDFs"
   ]
  },
  {
   "cell_type": "code",
   "execution_count": 29,
   "metadata": {},
   "outputs": [
    {
     "name": "stdout",
     "output_type": "stream",
     "text": [
      "Found 1769 pdfs.\n",
      "Merging 1769 pdfs...\n"
     ]
    },
    {
     "name": "stderr",
     "output_type": "stream",
     "text": [
      "Merging PDFs: 100%|██████████| 1769/1769 [00:02<00:00, 656.77it/s]\n"
     ]
    },
    {
     "name": "stdout",
     "output_type": "stream",
     "text": [
      "Writing merged pdf to file...\n",
      "Done.\n"
     ]
    }
   ],
   "source": [
    "# merge pdfs and export to main directory\n",
    "merged_file_path = processing.merge_pdfs(export_path_root=export_path_root, experimental_day=experimental_day, substrate=substrate)"
   ]
  },
  {
   "attachments": {},
   "cell_type": "markdown",
   "metadata": {},
   "source": [
    "Also export to manuscript directory"
   ]
  },
  {
   "cell_type": "code",
   "execution_count": 30,
   "metadata": {},
   "outputs": [
    {
     "data": {
      "text/plain": [
       "0"
      ]
     },
     "execution_count": 30,
     "metadata": {},
     "output_type": "execute_result"
    }
   ],
   "source": [
    "import os\n",
    "\n",
    "# copy merged file to manuscript directory\n",
    "manuscript_directory = '/Users/micaholivas/Library/CloudStorage/GoogleDrive-mbolivas@stanford.edu/.shortcut-targets-by-id/1-794qIs0qT1G5m39ZBPHOeCKSxeH3Bi8/Designed_AcyPs_manuscript/Experiment_PDF_summaries/'\n",
    "\n",
    "# add experimental day and substrate to manuscript directory with os\n",
    "manuscript_directory = manuscript_directory + '%s/%s/' % (experimental_day, substrate)\n",
    "\n",
    "# if directory doesn't exist, create it\n",
    "if not os.path.exists(manuscript_directory):\n",
    "    os.makedirs(manuscript_directory)\n",
    "\n",
    "# copy merged file to manuscript directory\n",
    "os.system('cp %s %s' % (merged_file_path, manuscript_directory))"
   ]
  },
  {
   "attachments": {},
   "cell_type": "markdown",
   "metadata": {},
   "source": [
    "# Export Data"
   ]
  },
  {
   "cell_type": "code",
   "execution_count": 31,
   "metadata": {},
   "outputs": [],
   "source": [
    "processing.export_data(sq_merged=sq_merged, squeeze_mm=squeeze_mm, export_path_root=export_path_root, experimental_day=experimental_day, experiment_name=experiment_name, substrate=substrate, device=device, setup=setup)"
   ]
  }
 ],
 "metadata": {
  "kernelspec": {
   "display_name": "Python 3 (ipykernel)",
   "language": "python",
   "name": "python3"
  },
  "language_info": {
   "codemirror_mode": {
    "name": "ipython",
    "version": 3
   },
   "file_extension": ".py",
   "mimetype": "text/x-python",
   "name": "python",
   "nbconvert_exporter": "python",
   "pygments_lexer": "ipython3",
   "version": "3.8.13"
  },
  "vscode": {
   "interpreter": {
    "hash": "7d554d675da1053c03ba9b4c925194630c0caa9904242dfd9f793ca6ca18d72e"
   }
  }
 },
 "nbformat": 4,
 "nbformat_minor": 2
}

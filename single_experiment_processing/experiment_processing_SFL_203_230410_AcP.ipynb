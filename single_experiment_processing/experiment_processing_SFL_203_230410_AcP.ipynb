{
 "cells": [
  {
   "cell_type": "markdown",
   "metadata": {},
   "source": [
    "# HT-MEK Data Processing Workbook\n",
    "Author: Micah Olivas"
   ]
  },
  {
   "cell_type": "code",
   "execution_count": 18,
   "metadata": {},
   "outputs": [
    {
     "name": "stdout",
     "output_type": "stream",
     "text": [
      "The autoreload extension is already loaded. To reload it, use:\n",
      "  %reload_ext autoreload\n",
      "INFO: Pandarallel will run on 8 workers.\n",
      "INFO: Pandarallel will use standard multiprocessing data transfer (pipe) to transfer data between the main process and workers.\n"
     ]
    }
   ],
   "source": [
    "# This will autoreload imported modules\n",
    "%load_ext autoreload\n",
    "%autoreload 2\n",
    "\n",
    "# Import modules\n",
    "from experiment_processing import processing\n",
    "\n",
    "# Set up parallel processing\n",
    "from pandarallel import pandarallel\n",
    "processing.pandarallel.initialize(progress_bar=True)"
   ]
  },
  {
   "cell_type": "markdown",
   "metadata": {},
   "source": [
    "# Import kinetic and standard series data"
   ]
  },
  {
   "cell_type": "markdown",
   "metadata": {},
   "source": [
    "Read raw kinetic and standards data with Pandas"
   ]
  },
  {
   "cell_type": "code",
   "execution_count": 19,
   "metadata": {},
   "outputs": [
    {
     "data": {
      "text/html": [
       "<div>\n",
       "<style scoped>\n",
       "    .dataframe tbody tr th:only-of-type {\n",
       "        vertical-align: middle;\n",
       "    }\n",
       "\n",
       "    .dataframe tbody tr th {\n",
       "        vertical-align: top;\n",
       "    }\n",
       "\n",
       "    .dataframe thead th {\n",
       "        text-align: right;\n",
       "    }\n",
       "</style>\n",
       "<table border=\"1\" class=\"dataframe\">\n",
       "  <thead>\n",
       "    <tr style=\"text-align: right;\">\n",
       "      <th></th>\n",
       "      <th>x</th>\n",
       "      <th>y</th>\n",
       "      <th>median_chamber</th>\n",
       "      <th>sum_chamber</th>\n",
       "      <th>std_chamber</th>\n",
       "      <th>x_center_chamber</th>\n",
       "      <th>y_center_chamber</th>\n",
       "      <th>radius_chamber</th>\n",
       "      <th>xslice</th>\n",
       "      <th>yslice</th>\n",
       "      <th>...</th>\n",
       "      <th>radius_button_disk_Button_Quant</th>\n",
       "      <th>median_button_annulus_Button_Quant</th>\n",
       "      <th>summed_button_annulus_normed_Button_Quant</th>\n",
       "      <th>std_button_annulus_localBG_Button_Quant</th>\n",
       "      <th>inner_radius_button_annulus_Button_Quant</th>\n",
       "      <th>outer_radius_button_annulus_Button_Quant</th>\n",
       "      <th>xslice_Button_Quant</th>\n",
       "      <th>yslice_Button_Quant</th>\n",
       "      <th>id_Button_Quant</th>\n",
       "      <th>series_index</th>\n",
       "    </tr>\n",
       "  </thead>\n",
       "  <tbody>\n",
       "    <tr>\n",
       "      <th>0</th>\n",
       "      <td>1</td>\n",
       "      <td>1</td>\n",
       "      <td>4548</td>\n",
       "      <td>14972628</td>\n",
       "      <td>766</td>\n",
       "      <td>49</td>\n",
       "      <td>49</td>\n",
       "      <td>33</td>\n",
       "      <td>(447, 547)</td>\n",
       "      <td>(627, 727)</td>\n",
       "      <td>...</td>\n",
       "      <td>15</td>\n",
       "      <td>9676</td>\n",
       "      <td>6833653</td>\n",
       "      <td>564</td>\n",
       "      <td>15</td>\n",
       "      <td>15</td>\n",
       "      <td>(447, 547)</td>\n",
       "      <td>(627, 727)</td>\n",
       "      <td>1C8_phorikoshii_pross_2</td>\n",
       "      <td>AcP_10uM</td>\n",
       "    </tr>\n",
       "    <tr>\n",
       "      <th>1</th>\n",
       "      <td>1</td>\n",
       "      <td>1</td>\n",
       "      <td>4848</td>\n",
       "      <td>15899669</td>\n",
       "      <td>857</td>\n",
       "      <td>49</td>\n",
       "      <td>49</td>\n",
       "      <td>33</td>\n",
       "      <td>(447, 547)</td>\n",
       "      <td>(627, 727)</td>\n",
       "      <td>...</td>\n",
       "      <td>15</td>\n",
       "      <td>9676</td>\n",
       "      <td>6833653</td>\n",
       "      <td>564</td>\n",
       "      <td>15</td>\n",
       "      <td>15</td>\n",
       "      <td>(447, 547)</td>\n",
       "      <td>(627, 727)</td>\n",
       "      <td>1C8_phorikoshii_pross_2</td>\n",
       "      <td>AcP_10uM</td>\n",
       "    </tr>\n",
       "    <tr>\n",
       "      <th>2</th>\n",
       "      <td>1</td>\n",
       "      <td>1</td>\n",
       "      <td>5708</td>\n",
       "      <td>18511474</td>\n",
       "      <td>1200</td>\n",
       "      <td>49</td>\n",
       "      <td>49</td>\n",
       "      <td>33</td>\n",
       "      <td>(447, 547)</td>\n",
       "      <td>(627, 727)</td>\n",
       "      <td>...</td>\n",
       "      <td>15</td>\n",
       "      <td>9676</td>\n",
       "      <td>6833653</td>\n",
       "      <td>564</td>\n",
       "      <td>15</td>\n",
       "      <td>15</td>\n",
       "      <td>(447, 547)</td>\n",
       "      <td>(627, 727)</td>\n",
       "      <td>1C8_phorikoshii_pross_2</td>\n",
       "      <td>AcP_10uM</td>\n",
       "    </tr>\n",
       "    <tr>\n",
       "      <th>3</th>\n",
       "      <td>1</td>\n",
       "      <td>1</td>\n",
       "      <td>5692</td>\n",
       "      <td>18407297</td>\n",
       "      <td>1164</td>\n",
       "      <td>49</td>\n",
       "      <td>49</td>\n",
       "      <td>33</td>\n",
       "      <td>(447, 547)</td>\n",
       "      <td>(627, 727)</td>\n",
       "      <td>...</td>\n",
       "      <td>15</td>\n",
       "      <td>9676</td>\n",
       "      <td>6833653</td>\n",
       "      <td>564</td>\n",
       "      <td>15</td>\n",
       "      <td>15</td>\n",
       "      <td>(447, 547)</td>\n",
       "      <td>(627, 727)</td>\n",
       "      <td>1C8_phorikoshii_pross_2</td>\n",
       "      <td>AcP_10uM</td>\n",
       "    </tr>\n",
       "    <tr>\n",
       "      <th>4</th>\n",
       "      <td>1</td>\n",
       "      <td>1</td>\n",
       "      <td>5397</td>\n",
       "      <td>17627797</td>\n",
       "      <td>1028</td>\n",
       "      <td>49</td>\n",
       "      <td>49</td>\n",
       "      <td>33</td>\n",
       "      <td>(447, 547)</td>\n",
       "      <td>(627, 727)</td>\n",
       "      <td>...</td>\n",
       "      <td>15</td>\n",
       "      <td>9676</td>\n",
       "      <td>6833653</td>\n",
       "      <td>564</td>\n",
       "      <td>15</td>\n",
       "      <td>15</td>\n",
       "      <td>(447, 547)</td>\n",
       "      <td>(627, 727)</td>\n",
       "      <td>1C8_phorikoshii_pross_2</td>\n",
       "      <td>AcP_10uM</td>\n",
       "    </tr>\n",
       "  </tbody>\n",
       "</table>\n",
       "<p>5 rows × 28 columns</p>\n",
       "</div>"
      ],
      "text/plain": [
       "   x  y  median_chamber  sum_chamber  std_chamber  x_center_chamber  \\\n",
       "0  1  1            4548     14972628          766                49   \n",
       "1  1  1            4848     15899669          857                49   \n",
       "2  1  1            5708     18511474         1200                49   \n",
       "3  1  1            5692     18407297         1164                49   \n",
       "4  1  1            5397     17627797         1028                49   \n",
       "\n",
       "   y_center_chamber  radius_chamber      xslice      yslice  ...  \\\n",
       "0                49              33  (447, 547)  (627, 727)  ...   \n",
       "1                49              33  (447, 547)  (627, 727)  ...   \n",
       "2                49              33  (447, 547)  (627, 727)  ...   \n",
       "3                49              33  (447, 547)  (627, 727)  ...   \n",
       "4                49              33  (447, 547)  (627, 727)  ...   \n",
       "\n",
       "  radius_button_disk_Button_Quant  median_button_annulus_Button_Quant  \\\n",
       "0                              15                                9676   \n",
       "1                              15                                9676   \n",
       "2                              15                                9676   \n",
       "3                              15                                9676   \n",
       "4                              15                                9676   \n",
       "\n",
       "   summed_button_annulus_normed_Button_Quant  \\\n",
       "0                                    6833653   \n",
       "1                                    6833653   \n",
       "2                                    6833653   \n",
       "3                                    6833653   \n",
       "4                                    6833653   \n",
       "\n",
       "   std_button_annulus_localBG_Button_Quant  \\\n",
       "0                                      564   \n",
       "1                                      564   \n",
       "2                                      564   \n",
       "3                                      564   \n",
       "4                                      564   \n",
       "\n",
       "   inner_radius_button_annulus_Button_Quant  \\\n",
       "0                                        15   \n",
       "1                                        15   \n",
       "2                                        15   \n",
       "3                                        15   \n",
       "4                                        15   \n",
       "\n",
       "   outer_radius_button_annulus_Button_Quant  xslice_Button_Quant  \\\n",
       "0                                        15           (447, 547)   \n",
       "1                                        15           (447, 547)   \n",
       "2                                        15           (447, 547)   \n",
       "3                                        15           (447, 547)   \n",
       "4                                        15           (447, 547)   \n",
       "\n",
       "   yslice_Button_Quant          id_Button_Quant  series_index  \n",
       "0           (627, 727)  1C8_phorikoshii_pross_2      AcP_10uM  \n",
       "1           (627, 727)  1C8_phorikoshii_pross_2      AcP_10uM  \n",
       "2           (627, 727)  1C8_phorikoshii_pross_2      AcP_10uM  \n",
       "3           (627, 727)  1C8_phorikoshii_pross_2      AcP_10uM  \n",
       "4           (627, 727)  1C8_phorikoshii_pross_2      AcP_10uM  \n",
       "\n",
       "[5 rows x 28 columns]"
      ]
     },
     "execution_count": 19,
     "metadata": {},
     "output_type": "execute_result"
    }
   ],
   "source": [
    "# csv of kinetic data from processing notebook\n",
    "kinetic_data_path = '/Volumes/Micah_Data/HT-MEK_data/ACYP/230410_SFL_ACYPS/Assays/AcP/d2_TitrationSeries_Analysis.csv.bz2'\n",
    "\n",
    "# csv of standard data from processing notebook\n",
    "standard_data_path = '/Volumes/Micah_Data/HT-MEK_data/ACYP/230410_SFL_ACYPS/Standards/Analysis/d2_pbp_StandardSeries_Analysis.csv.bz2'\n",
    "\n",
    "# csv of egfp data from processing notebook\n",
    "egfp_data_path = '/Volumes/Micah_Data/HT-MEK_data/ACYP/230410_SFL_ACYPS/egfp/StitchedImagesGFP_Summary.csv.bz2'\n",
    "\n",
    "# path to egfp summary image for image segmentation and manual chamber culling\n",
    "egfp_button_summary_image_path = '/Volumes/Micah_Data/HT-MEK_data/ACYP/230410_SFL_ACYPS/egfp/20230411-175357-d1_post_binding_d1/egfp/StitchedImages/SummaryImages/Summary_StitchedImg_500_egfp_0.tif'\n",
    "\n",
    "# path to the folder where you want to save the exported data\n",
    "export_path_root = \"/Volumes/Micah_Data/HT-MEK_data/ACYP/230410_SFL_ACYPS/Interpretation\"\n",
    "\n",
    "\n",
    "\n",
    "# experiment information\n",
    "experimental_day = '230410'\n",
    "experiment_name = 'AcyP_SFL_203'\n",
    "setup = 'S4'\n",
    "device = 'd1'\n",
    "egfp_slope = 188847\n",
    "substrate = 'AcP'\n",
    "pbp_conc = 30\n",
    "all_substrate_concs = [10, 50]\n",
    "device_columns = 32\n",
    "device_rows = 56\n",
    "\n",
    "\n",
    "\n",
    "# Create dataframes for kinetic and standard series\n",
    "kinetic_data = processing.pd.read_csv(kinetic_data_path)\n",
    "standard_data = processing.pd.read_csv(standard_data_path)\n",
    "egfp_data = processing.pd.read_csv(egfp_data_path)\n",
    "standard_data = standard_data.dropna()\n",
    "export_path_root = export_path_root + '/' + substrate\n",
    "\n",
    "\n",
    "# Print kinetic data head\n",
    "kinetic_data.head()"
   ]
  },
  {
   "attachments": {},
   "cell_type": "markdown",
   "metadata": {},
   "source": [
    "**Development**: Extract assay data from series index; if you don't want to use this, comment out the next cell."
   ]
  },
  {
   "cell_type": "code",
   "execution_count": 20,
   "metadata": {},
   "outputs": [
    {
     "data": {
      "text/html": [
       "<div>\n",
       "<style scoped>\n",
       "    .dataframe tbody tr th:only-of-type {\n",
       "        vertical-align: middle;\n",
       "    }\n",
       "\n",
       "    .dataframe tbody tr th {\n",
       "        vertical-align: top;\n",
       "    }\n",
       "\n",
       "    .dataframe thead th {\n",
       "        text-align: right;\n",
       "    }\n",
       "</style>\n",
       "<table border=\"1\" class=\"dataframe\">\n",
       "  <thead>\n",
       "    <tr style=\"text-align: right;\">\n",
       "      <th></th>\n",
       "      <th>x</th>\n",
       "      <th>y</th>\n",
       "      <th>median_chamber</th>\n",
       "      <th>sum_chamber</th>\n",
       "      <th>std_chamber</th>\n",
       "      <th>x_center_chamber</th>\n",
       "      <th>y_center_chamber</th>\n",
       "      <th>radius_chamber</th>\n",
       "      <th>xslice</th>\n",
       "      <th>yslice</th>\n",
       "      <th>...</th>\n",
       "      <th>summed_button_annulus_normed_Button_Quant</th>\n",
       "      <th>std_button_annulus_localBG_Button_Quant</th>\n",
       "      <th>inner_radius_button_annulus_Button_Quant</th>\n",
       "      <th>outer_radius_button_annulus_Button_Quant</th>\n",
       "      <th>xslice_Button_Quant</th>\n",
       "      <th>yslice_Button_Quant</th>\n",
       "      <th>id_Button_Quant</th>\n",
       "      <th>series_index</th>\n",
       "      <th>substrate</th>\n",
       "      <th>substrate_conc_uM</th>\n",
       "    </tr>\n",
       "  </thead>\n",
       "  <tbody>\n",
       "    <tr>\n",
       "      <th>0</th>\n",
       "      <td>1</td>\n",
       "      <td>1</td>\n",
       "      <td>4548</td>\n",
       "      <td>14972628</td>\n",
       "      <td>766</td>\n",
       "      <td>49</td>\n",
       "      <td>49</td>\n",
       "      <td>33</td>\n",
       "      <td>(447, 547)</td>\n",
       "      <td>(627, 727)</td>\n",
       "      <td>...</td>\n",
       "      <td>6833653</td>\n",
       "      <td>564</td>\n",
       "      <td>15</td>\n",
       "      <td>15</td>\n",
       "      <td>(447, 547)</td>\n",
       "      <td>(627, 727)</td>\n",
       "      <td>1C8_phorikoshii_pross_2</td>\n",
       "      <td>AcP_10uM</td>\n",
       "      <td>AcP</td>\n",
       "      <td>10</td>\n",
       "    </tr>\n",
       "    <tr>\n",
       "      <th>1</th>\n",
       "      <td>1</td>\n",
       "      <td>1</td>\n",
       "      <td>4848</td>\n",
       "      <td>15899669</td>\n",
       "      <td>857</td>\n",
       "      <td>49</td>\n",
       "      <td>49</td>\n",
       "      <td>33</td>\n",
       "      <td>(447, 547)</td>\n",
       "      <td>(627, 727)</td>\n",
       "      <td>...</td>\n",
       "      <td>6833653</td>\n",
       "      <td>564</td>\n",
       "      <td>15</td>\n",
       "      <td>15</td>\n",
       "      <td>(447, 547)</td>\n",
       "      <td>(627, 727)</td>\n",
       "      <td>1C8_phorikoshii_pross_2</td>\n",
       "      <td>AcP_10uM</td>\n",
       "      <td>AcP</td>\n",
       "      <td>10</td>\n",
       "    </tr>\n",
       "    <tr>\n",
       "      <th>2</th>\n",
       "      <td>1</td>\n",
       "      <td>1</td>\n",
       "      <td>5708</td>\n",
       "      <td>18511474</td>\n",
       "      <td>1200</td>\n",
       "      <td>49</td>\n",
       "      <td>49</td>\n",
       "      <td>33</td>\n",
       "      <td>(447, 547)</td>\n",
       "      <td>(627, 727)</td>\n",
       "      <td>...</td>\n",
       "      <td>6833653</td>\n",
       "      <td>564</td>\n",
       "      <td>15</td>\n",
       "      <td>15</td>\n",
       "      <td>(447, 547)</td>\n",
       "      <td>(627, 727)</td>\n",
       "      <td>1C8_phorikoshii_pross_2</td>\n",
       "      <td>AcP_10uM</td>\n",
       "      <td>AcP</td>\n",
       "      <td>10</td>\n",
       "    </tr>\n",
       "    <tr>\n",
       "      <th>3</th>\n",
       "      <td>1</td>\n",
       "      <td>1</td>\n",
       "      <td>5692</td>\n",
       "      <td>18407297</td>\n",
       "      <td>1164</td>\n",
       "      <td>49</td>\n",
       "      <td>49</td>\n",
       "      <td>33</td>\n",
       "      <td>(447, 547)</td>\n",
       "      <td>(627, 727)</td>\n",
       "      <td>...</td>\n",
       "      <td>6833653</td>\n",
       "      <td>564</td>\n",
       "      <td>15</td>\n",
       "      <td>15</td>\n",
       "      <td>(447, 547)</td>\n",
       "      <td>(627, 727)</td>\n",
       "      <td>1C8_phorikoshii_pross_2</td>\n",
       "      <td>AcP_10uM</td>\n",
       "      <td>AcP</td>\n",
       "      <td>10</td>\n",
       "    </tr>\n",
       "    <tr>\n",
       "      <th>4</th>\n",
       "      <td>1</td>\n",
       "      <td>1</td>\n",
       "      <td>5397</td>\n",
       "      <td>17627797</td>\n",
       "      <td>1028</td>\n",
       "      <td>49</td>\n",
       "      <td>49</td>\n",
       "      <td>33</td>\n",
       "      <td>(447, 547)</td>\n",
       "      <td>(627, 727)</td>\n",
       "      <td>...</td>\n",
       "      <td>6833653</td>\n",
       "      <td>564</td>\n",
       "      <td>15</td>\n",
       "      <td>15</td>\n",
       "      <td>(447, 547)</td>\n",
       "      <td>(627, 727)</td>\n",
       "      <td>1C8_phorikoshii_pross_2</td>\n",
       "      <td>AcP_10uM</td>\n",
       "      <td>AcP</td>\n",
       "      <td>10</td>\n",
       "    </tr>\n",
       "  </tbody>\n",
       "</table>\n",
       "<p>5 rows × 30 columns</p>\n",
       "</div>"
      ],
      "text/plain": [
       "   x  y  median_chamber  sum_chamber  std_chamber  x_center_chamber  \\\n",
       "0  1  1            4548     14972628          766                49   \n",
       "1  1  1            4848     15899669          857                49   \n",
       "2  1  1            5708     18511474         1200                49   \n",
       "3  1  1            5692     18407297         1164                49   \n",
       "4  1  1            5397     17627797         1028                49   \n",
       "\n",
       "   y_center_chamber  radius_chamber      xslice      yslice  ...  \\\n",
       "0                49              33  (447, 547)  (627, 727)  ...   \n",
       "1                49              33  (447, 547)  (627, 727)  ...   \n",
       "2                49              33  (447, 547)  (627, 727)  ...   \n",
       "3                49              33  (447, 547)  (627, 727)  ...   \n",
       "4                49              33  (447, 547)  (627, 727)  ...   \n",
       "\n",
       "  summed_button_annulus_normed_Button_Quant  \\\n",
       "0                                   6833653   \n",
       "1                                   6833653   \n",
       "2                                   6833653   \n",
       "3                                   6833653   \n",
       "4                                   6833653   \n",
       "\n",
       "   std_button_annulus_localBG_Button_Quant  \\\n",
       "0                                      564   \n",
       "1                                      564   \n",
       "2                                      564   \n",
       "3                                      564   \n",
       "4                                      564   \n",
       "\n",
       "   inner_radius_button_annulus_Button_Quant  \\\n",
       "0                                        15   \n",
       "1                                        15   \n",
       "2                                        15   \n",
       "3                                        15   \n",
       "4                                        15   \n",
       "\n",
       "   outer_radius_button_annulus_Button_Quant  xslice_Button_Quant  \\\n",
       "0                                        15           (447, 547)   \n",
       "1                                        15           (447, 547)   \n",
       "2                                        15           (447, 547)   \n",
       "3                                        15           (447, 547)   \n",
       "4                                        15           (447, 547)   \n",
       "\n",
       "   yslice_Button_Quant          id_Button_Quant  series_index  substrate  \\\n",
       "0           (627, 727)  1C8_phorikoshii_pross_2      AcP_10uM        AcP   \n",
       "1           (627, 727)  1C8_phorikoshii_pross_2      AcP_10uM        AcP   \n",
       "2           (627, 727)  1C8_phorikoshii_pross_2      AcP_10uM        AcP   \n",
       "3           (627, 727)  1C8_phorikoshii_pross_2      AcP_10uM        AcP   \n",
       "4           (627, 727)  1C8_phorikoshii_pross_2      AcP_10uM        AcP   \n",
       "\n",
       "   substrate_conc_uM  \n",
       "0                 10  \n",
       "1                 10  \n",
       "2                 10  \n",
       "3                 10  \n",
       "4                 10  \n",
       "\n",
       "[5 rows x 30 columns]"
      ]
     },
     "execution_count": 20,
     "metadata": {},
     "output_type": "execute_result"
    }
   ],
   "source": [
    "# use regex pattern to extract substrate and condition concentrations from the series_index string such as '25uM_ATP_1mM_EDTA'\n",
    "tags = ['substrate', 'substrate_conc_uM']\n",
    "series_index_pattern = r'(?P<%s>\\w+)_(?P<%s>\\d+)uM' % (tags[0], tags[1])\n",
    "\n",
    "# replace the sequence \"no\" in the series_index column with \"0\" to make it easier to convert to numeric\n",
    "kinetic_data['series_index'] = kinetic_data['series_index'].str.replace('no', '0mM')\n",
    "\n",
    "# apply regex pattern to each string in the \"text\" column and create new columns\n",
    "kinetic_data['series_index'].str.extract(series_index_pattern)\n",
    "\n",
    "# extract the new columns from the regex pattern and convert numeric columns to float\n",
    "kinetic_data[tags] = kinetic_data['series_index'].str.extract(series_index_pattern)\n",
    "kinetic_data[tags] = kinetic_data[tags].apply(processing.pd.to_numeric, errors='ignore')\n",
    "kinetic_data.head()"
   ]
  },
  {
   "cell_type": "code",
   "execution_count": 21,
   "metadata": {},
   "outputs": [],
   "source": [
    "# Format all dataframes\n",
    "standard_data, kinetic_data = processing.format_data(standard_data=standard_data, kinetic_data=kinetic_data, egfp_data=egfp_data)"
   ]
  },
  {
   "cell_type": "markdown",
   "metadata": {},
   "source": [
    "## \"Squeeze\" DataFrames"
   ]
  },
  {
   "cell_type": "markdown",
   "metadata": {},
   "source": [
    "At this point, our DataFrames are in a long format: each row of kinetic_data corresponds to an individual timepoint in the kinetic assays, while each row of standard_data corresponds to an individual standard concentration. To support vectorized curve fitting operations later, we want to flatten or \"squeeze\" rows of each DataFrame into series (e.g. time, intensity, standard concentration) by chamber."
   ]
  },
  {
   "cell_type": "code",
   "execution_count": 22,
   "metadata": {},
   "outputs": [],
   "source": [
    "kinetic_data['MutantID'] = kinetic_data['id'].astype(str)"
   ]
  },
  {
   "cell_type": "code",
   "execution_count": 23,
   "metadata": {},
   "outputs": [
    {
     "data": {
      "text/html": [
       "<div>\n",
       "<style scoped>\n",
       "    .dataframe tbody tr th:only-of-type {\n",
       "        vertical-align: middle;\n",
       "    }\n",
       "\n",
       "    .dataframe tbody tr th {\n",
       "        vertical-align: top;\n",
       "    }\n",
       "\n",
       "    .dataframe thead th {\n",
       "        text-align: right;\n",
       "    }\n",
       "</style>\n",
       "<table border=\"1\" class=\"dataframe\">\n",
       "  <thead>\n",
       "    <tr style=\"text-align: right;\">\n",
       "      <th></th>\n",
       "      <th>x</th>\n",
       "      <th>y</th>\n",
       "      <th>Indices</th>\n",
       "      <th>MutantID</th>\n",
       "      <th>substrate</th>\n",
       "      <th>substrate_conc_uM</th>\n",
       "      <th>summed_button_BGsub_Button_Quant</th>\n",
       "      <th>time_s</th>\n",
       "      <th>kinetic_median_intensities</th>\n",
       "    </tr>\n",
       "  </thead>\n",
       "  <tbody>\n",
       "    <tr>\n",
       "      <th>0</th>\n",
       "      <td>1</td>\n",
       "      <td>1</td>\n",
       "      <td>01,01</td>\n",
       "      <td>1C8_phorikoshii_pross_2</td>\n",
       "      <td>AcP</td>\n",
       "      <td>10</td>\n",
       "      <td>14920432</td>\n",
       "      <td>[0, 75, 150, 225, 300, 375, 450, 525, 600, 675...</td>\n",
       "      <td>[3399, 4090, 4548, 4848, 5084, 5222, 5331, 539...</td>\n",
       "    </tr>\n",
       "    <tr>\n",
       "      <th>1</th>\n",
       "      <td>1</td>\n",
       "      <td>1</td>\n",
       "      <td>01,01</td>\n",
       "      <td>1C8_phorikoshii_pross_2</td>\n",
       "      <td>AcP</td>\n",
       "      <td>50</td>\n",
       "      <td>14920432</td>\n",
       "      <td>[0, 75, 150, 225, 300, 375, 450, 525, 600, 675...</td>\n",
       "      <td>[5422, 8205, 10108, 11164, 11799, 12131, 12389...</td>\n",
       "    </tr>\n",
       "  </tbody>\n",
       "</table>\n",
       "</div>"
      ],
      "text/plain": [
       "   x  y Indices                 MutantID substrate  substrate_conc_uM  \\\n",
       "0  1  1   01,01  1C8_phorikoshii_pross_2       AcP                 10   \n",
       "1  1  1   01,01  1C8_phorikoshii_pross_2       AcP                 50   \n",
       "\n",
       "   summed_button_BGsub_Button_Quant  \\\n",
       "0                          14920432   \n",
       "1                          14920432   \n",
       "\n",
       "                                              time_s  \\\n",
       "0  [0, 75, 150, 225, 300, 375, 450, 525, 600, 675...   \n",
       "1  [0, 75, 150, 225, 300, 375, 450, 525, 600, 675...   \n",
       "\n",
       "                          kinetic_median_intensities  \n",
       "0  [3399, 4090, 4548, 4848, 5084, 5222, 5331, 539...  \n",
       "1  [5422, 8205, 10108, 11164, 11799, 12131, 12389...  "
      ]
     },
     "metadata": {},
     "output_type": "display_data"
    }
   ],
   "source": [
    "squeeze_kinetics = processing.squeeze_kinetics(kinetic_data, additional_columns=[])"
   ]
  },
  {
   "attachments": {},
   "cell_type": "markdown",
   "metadata": {},
   "source": [
    "\"Squeeze\" standard data to serialize standard concetrations. Plot representative standard curves"
   ]
  },
  {
   "cell_type": "code",
   "execution_count": 24,
   "metadata": {},
   "outputs": [
    {
     "data": {
      "text/html": [
       "<div>\n",
       "<style scoped>\n",
       "    .dataframe tbody tr th:only-of-type {\n",
       "        vertical-align: middle;\n",
       "    }\n",
       "\n",
       "    .dataframe tbody tr th {\n",
       "        vertical-align: top;\n",
       "    }\n",
       "\n",
       "    .dataframe thead th {\n",
       "        text-align: right;\n",
       "    }\n",
       "</style>\n",
       "<table border=\"1\" class=\"dataframe\">\n",
       "  <thead>\n",
       "    <tr style=\"text-align: right;\">\n",
       "      <th></th>\n",
       "      <th>x</th>\n",
       "      <th>y</th>\n",
       "      <th>Indices</th>\n",
       "      <th>standard_concentration_uM</th>\n",
       "      <th>standard_median_intensities</th>\n",
       "    </tr>\n",
       "  </thead>\n",
       "  <tbody>\n",
       "    <tr>\n",
       "      <th>0</th>\n",
       "      <td>1</td>\n",
       "      <td>1</td>\n",
       "      <td>01,01</td>\n",
       "      <td>[0, 1, 6, 15]</td>\n",
       "      <td>[3427, 3777, 6732, 11531]</td>\n",
       "    </tr>\n",
       "    <tr>\n",
       "      <th>1</th>\n",
       "      <td>1</td>\n",
       "      <td>2</td>\n",
       "      <td>01,02</td>\n",
       "      <td>[0, 1, 6, 15]</td>\n",
       "      <td>[3682, 4077, 7308, 12539]</td>\n",
       "    </tr>\n",
       "    <tr>\n",
       "      <th>2</th>\n",
       "      <td>1</td>\n",
       "      <td>3</td>\n",
       "      <td>01,03</td>\n",
       "      <td>[0, 1, 6, 15]</td>\n",
       "      <td>[3660, 4066, 7298, 12550]</td>\n",
       "    </tr>\n",
       "    <tr>\n",
       "      <th>3</th>\n",
       "      <td>1</td>\n",
       "      <td>4</td>\n",
       "      <td>01,04</td>\n",
       "      <td>[0, 1, 6, 15]</td>\n",
       "      <td>[3733, 4154, 7482, 12901]</td>\n",
       "    </tr>\n",
       "  </tbody>\n",
       "</table>\n",
       "</div>"
      ],
      "text/plain": [
       "   x  y Indices standard_concentration_uM standard_median_intensities\n",
       "0  1  1   01,01             [0, 1, 6, 15]   [3427, 3777, 6732, 11531]\n",
       "1  1  2   01,02             [0, 1, 6, 15]   [3682, 4077, 7308, 12539]\n",
       "2  1  3   01,03             [0, 1, 6, 15]   [3660, 4066, 7298, 12550]\n",
       "3  1  4   01,04             [0, 1, 6, 15]   [3733, 4154, 7482, 12901]"
      ]
     },
     "metadata": {},
     "output_type": "display_data"
    },
    {
     "data": {
      "image/png": "[encoded data removed]",
      "text/plain": [
       "<Figure size 432x288 with 1 Axes>"
      ]
     },
     "metadata": {
      "needs_background": "light"
     },
     "output_type": "display_data"
    }
   ],
   "source": [
    "squeeze_standards = processing.squeeze_standard(standard_data, remove_concs=[3, 75], manual_concs=[30])"
   ]
  },
  {
   "cell_type": "markdown",
   "metadata": {},
   "source": [
    "## Calculate enzyme concentration from eGFP fluorescence"
   ]
  },
  {
   "cell_type": "code",
   "execution_count": 25,
   "metadata": {},
   "outputs": [],
   "source": [
    "squeeze_kinetics['EnzymeConc'] = squeeze_kinetics['summed_button_BGsub_Button_Quant']/egfp_slope"
   ]
  },
  {
   "cell_type": "markdown",
   "metadata": {},
   "source": [
    "## Fit PBP Standard Curves"
   ]
  },
  {
   "cell_type": "markdown",
   "metadata": {},
   "source": [
    "To fit the PBP standard curve, we need to optimize a nonlinear least squares fit based on the following single-site binding isotherm for the phosphate sensor:\n",
    "\n",
    "$I([Pi]) = 0.5A(KD +[Pi]+[PS]-\\sqrt{(KD +[PS]+[Pi])^2 - 4[PS][Pi]}) + I(0μM)$\n",
    "\n",
    "where $I([Pi])$ is the median fluorescence at a given $[Pi]$, $[PS]$ is the concentration of PBP, $K_D$ is the dissociation constant of Pi from PBP, $A$ is the scaling factor necessary to relate fraction PBP bound to observed fluorescence, and $I(0μM[Pi])$ is the median fluorescence intensity of PBP in the absence of added Pi."
   ]
  },
  {
   "cell_type": "markdown",
   "metadata": {},
   "source": [
    "To find product concentrations from measured intensities, we need to invert this isotherm. For this, we use the package `sympy`, which has a nice suite of tools for symbolic math."
   ]
  },
  {
   "cell_type": "code",
   "execution_count": 26,
   "metadata": {},
   "outputs": [],
   "source": [
    "# A, KD, P_i, PS, I_0uMP_i, I_P_i = symbols('A KD P_i PS I_0uMP_i I_P_i')\n",
    "\n",
    "# isotherm_inverse = solve(0.5 * A * (KD + P_i + PS - ((KD + PS + P_i)**2 - 4*PS*P_i)**(1/2)) + I_0uMP_i - I_P_i, P_i)\n",
    "# print('Inverse of isotherm:', isotherm_inverse)"
   ]
  },
  {
   "cell_type": "markdown",
   "metadata": {},
   "source": [
    "If we would like to fit the inverse, we can simply copy this function into the following cell to perform the nonlinear least squares fit. Instead, we will densely interpolate the curve fits for each chamber and use the interpolations to approximate `[Pi]` concentration. The following function optimizes a least squares fit for each standard curve in each chamber and stores the optimum paramters as a list [`A, KD, PS, I_0uMP_i`] in the column `standard_popt`."
   ]
  },
  {
   "cell_type": "markdown",
   "metadata": {},
   "source": [
    "Now, let's check a few of the curve fits to make sure they look appropriate"
   ]
  },
  {
   "cell_type": "code",
   "execution_count": 27,
   "metadata": {},
   "outputs": [
    {
     "name": "stdout",
     "output_type": "stream",
     "text": [
      "Performing curve fits...\n",
      "Some curve fits may fail, this is expected and will be replaced with NaNs\n"
     ]
    },
    {
     "data": {
      "application/vnd.jupyter.widget-view+json": {
       "model_id": "2cefa09d2b5e4b5e9a4e597b9af2e859",
       "version_major": 2,
       "version_minor": 0
      },
      "text/plain": [
       "VBox(children=(HBox(children=(IntProgress(value=0, description='0.00%', max=224), Label(value='0 / 224'))), HB…"
      ]
     },
     "metadata": {},
     "output_type": "display_data"
    },
    {
     "name": "stderr",
     "output_type": "stream",
     "text": [
      "OptimizeWarning: Covariance of the parameters could not be estimated [minpack.py:833]\n",
      "OptimizeWarning: Covariance of the parameters could not be estimated [minpack.py:833]\n",
      "OptimizeWarning: Covariance of the parameters could not be estimated [minpack.py:833]\n",
      "OptimizeWarning: Covariance of the parameters could not be estimated [minpack.py:833]\n",
      "OptimizeWarning: Covariance of the parameters could not be estimated [minpack.py:833]\n",
      "OptimizeWarning: Covariance of the parameters could not be estimated [minpack.py:833]\n",
      "OptimizeWarning: Covariance of the parameters could not be estimated [minpack.py:833]\n",
      "OptimizeWarning: Covariance of the parameters could not be estimated [minpack.py:833]\n"
     ]
    },
    {
     "data": {
      "image/png": "[encoded data removed]",
      "text/plain": [
       "<Figure size 864x216 with 4 Axes>"
      ]
     },
     "metadata": {
      "needs_background": "light"
     },
     "output_type": "display_data"
    }
   ],
   "source": [
    "squeeze_standards = processing.standard_curve_fit(squeeze_standards, standard_type='pbp', manual_concs=[30])"
   ]
  },
  {
   "cell_type": "markdown",
   "metadata": {},
   "source": [
    "## Merge dataframes"
   ]
  },
  {
   "cell_type": "markdown",
   "metadata": {},
   "source": [
    "Next we merge the standard and kinetic data on the chamber Indices and substrate columns and convert the kinetic median intensities to product concentrations using the standard curve slope. To convert median assay intensities to product concentrations, we interpolate the curve fit and generate a lookup dictionary. This method should be replaced with a rigorous interpolation, but it will do for now."
   ]
  },
  {
   "cell_type": "code",
   "execution_count": 28,
   "metadata": {},
   "outputs": [
    {
     "name": "stdout",
     "output_type": "stream",
     "text": [
      "Calculating product concentrations...\n",
      "(If interpolating, this will take longer than the curve fitting step)\n"
     ]
    },
    {
     "data": {
      "application/vnd.jupyter.widget-view+json": {
       "model_id": "ef2d238c1a9a4287afd8cfee1f83f9e9",
       "version_major": 2,
       "version_minor": 0
      },
      "text/plain": [
       "VBox(children=(HBox(children=(IntProgress(value=0, description='0.00%', max=448), Label(value='0 / 448'))), HB…"
      ]
     },
     "metadata": {},
     "output_type": "display_data"
    },
    {
     "name": "stdout",
     "output_type": "stream",
     "text": [
      "Curve fit failed for chamber: 15,25\n",
      "nan\n",
      "Curve fit failed for chamber: 15,25\n",
      "nan\n"
     ]
    },
    {
     "data": {
      "text/html": [
       "<div>\n",
       "<style scoped>\n",
       "    .dataframe tbody tr th:only-of-type {\n",
       "        vertical-align: middle;\n",
       "    }\n",
       "\n",
       "    .dataframe tbody tr th {\n",
       "        vertical-align: top;\n",
       "    }\n",
       "\n",
       "    .dataframe thead th {\n",
       "        text-align: right;\n",
       "    }\n",
       "</style>\n",
       "<table border=\"1\" class=\"dataframe\">\n",
       "  <thead>\n",
       "    <tr style=\"text-align: right;\">\n",
       "      <th></th>\n",
       "      <th>x</th>\n",
       "      <th>y</th>\n",
       "      <th>Indices</th>\n",
       "      <th>MutantID</th>\n",
       "      <th>substrate</th>\n",
       "      <th>substrate_conc_uM</th>\n",
       "      <th>summed_button_BGsub_Button_Quant</th>\n",
       "      <th>time_s</th>\n",
       "      <th>kinetic_median_intensities</th>\n",
       "      <th>EnzymeConc</th>\n",
       "      <th>standard_concentration_uM</th>\n",
       "      <th>standard_median_intensities</th>\n",
       "      <th>standard_popt</th>\n",
       "      <th>kinetic_product_concentration_uM</th>\n",
       "    </tr>\n",
       "  </thead>\n",
       "  <tbody>\n",
       "    <tr>\n",
       "      <th>0</th>\n",
       "      <td>1</td>\n",
       "      <td>1</td>\n",
       "      <td>01,01</td>\n",
       "      <td>1C8_phorikoshii_pross_2</td>\n",
       "      <td>AcP</td>\n",
       "      <td>10</td>\n",
       "      <td>14920432</td>\n",
       "      <td>[0, 75, 150, 225, 300, 375, 450, 525, 600, 675...</td>\n",
       "      <td>[3399, 4090, 4548, 4848, 5084, 5222, 5331, 539...</td>\n",
       "      <td>79.008044</td>\n",
       "      <td>[0, 1, 6, 15, 30]</td>\n",
       "      <td>[3427, 3777, 6732, 11531, 20243.53228412405]</td>\n",
       "      <td>[563.790323381166, 3.311019032840485e-10, 1544...</td>\n",
       "      <td>[0.12, 1.3499999999999999, 2.16, 2.69999999999...</td>\n",
       "    </tr>\n",
       "  </tbody>\n",
       "</table>\n",
       "</div>"
      ],
      "text/plain": [
       "   x  y Indices                 MutantID substrate  substrate_conc_uM  \\\n",
       "0  1  1   01,01  1C8_phorikoshii_pross_2       AcP                 10   \n",
       "\n",
       "   summed_button_BGsub_Button_Quant  \\\n",
       "0                          14920432   \n",
       "\n",
       "                                              time_s  \\\n",
       "0  [0, 75, 150, 225, 300, 375, 450, 525, 600, 675...   \n",
       "\n",
       "                          kinetic_median_intensities  EnzymeConc  \\\n",
       "0  [3399, 4090, 4548, 4848, 5084, 5222, 5331, 539...   79.008044   \n",
       "\n",
       "  standard_concentration_uM                   standard_median_intensities  \\\n",
       "0         [0, 1, 6, 15, 30]  [3427, 3777, 6732, 11531, 20243.53228412405]   \n",
       "\n",
       "                                       standard_popt  \\\n",
       "0  [563.790323381166, 3.311019032840485e-10, 1544...   \n",
       "\n",
       "                    kinetic_product_concentration_uM  \n",
       "0  [0.12, 1.3499999999999999, 2.16, 2.69999999999...  "
      ]
     },
     "execution_count": 28,
     "metadata": {},
     "output_type": "execute_result"
    }
   ],
   "source": [
    "sq_merged = processing.merge_and_get_product_concs(squeeze_kinetics, squeeze_standards, standard_type='pbp')\n",
    "sq_merged.head(1)"
   ]
  },
  {
   "cell_type": "markdown",
   "id": "eee7397b",
   "metadata": {},
   "source": [
    "# Manual eGFP Flagging (only for [E] above the background)"
   ]
  },
  {
   "cell_type": "code",
   "execution_count": 32,
   "id": "e144553d",
   "metadata": {},
   "outputs": [
    {
     "name": "stdout",
     "output_type": "stream",
     "text": [
      "Culling record found: .../ACYP/230410_SFL_ACYPS/eGFP_culling/manual_culling_record.csv. \n",
      "Loaded culling record.\n"
     ]
    },
    {
     "data": {
      "text/plain": [
       "None"
      ]
     },
     "metadata": {},
     "output_type": "display_data"
    }
   ],
   "source": [
    "# Point to directory for culling record export\n",
    "culling_export_directory = '/Volumes/Micah_Data/HT-MEK_data/ACYP/230410_SFL_ACYPS/eGFP_culling'\n",
    "\n",
    "# Initialize row and column numbers\n",
    "NUM_ROWS = 56\n",
    "NUM_COLS = 32\n",
    "\n",
    "# Create button grid and display\n",
    "button_grid, flagged_set, button_stamps = processing.manual_culling(sq_merged, egfp_button_summary_image_path, NUM_ROWS, NUM_COLS, culling_export_directory)\n",
    "display(button_grid)"
   ]
  },
  {
   "attachments": {},
   "cell_type": "markdown",
   "metadata": {},
   "source": [
    "Close button finder, then add culling flag to merged DataFrame and export culling record"
   ]
  },
  {
   "cell_type": "code",
   "execution_count": 33,
   "id": "7ef23ce0",
   "metadata": {},
   "outputs": [],
   "source": [
    "# close button grid if variable exists\n",
    "if type(button_grid) == type(None):\n",
    "    pass\n",
    "else:\n",
    "    button_grid.close()\n",
    "\n",
    "# Update sq_merged with flagged chambers and export culling record\n",
    "sq_merged = processing.handle_flagged_chambers(sq_merged, flagged_set, culling_export_directory)"
   ]
  },
  {
   "attachments": {},
   "cell_type": "markdown",
   "metadata": {},
   "source": [
    "# Calculate initial rates\n",
    "To calculate initial rates for each substrate condition, we apply an algorithm adapted from page 27 of the SI in Markin, Mokhtari et al. 2020"
   ]
  },
  {
   "cell_type": "code",
   "execution_count": 34,
   "metadata": {},
   "outputs": [
    {
     "name": "stdout",
     "output_type": "stream",
     "text": [
      "Fitting initial rates...\n",
      "Done fitting initial rates. Adding results to dataframe...\n",
      "Plotting progress curves for one random library member...\n"
     ]
    },
    {
     "data": {
      "image/png": "[encoded data removed]",
      "text/plain": [
       "<Figure size 720x216 with 2 Axes>"
      ]
     },
     "metadata": {
      "needs_background": "light"
     },
     "output_type": "display_data"
    }
   ],
   "source": [
    "sq_merged = processing.get_initial_rates(sq_merged, pbp_conc=30)"
   ]
  },
  {
   "cell_type": "markdown",
   "metadata": {},
   "source": [
    "# Michaelis-Menten curve fitting"
   ]
  },
  {
   "attachments": {},
   "cell_type": "markdown",
   "metadata": {},
   "source": [
    "To perform the fitting, we apply another \"squeeze\" to create columns for the substrate concentration series and initial rate series. Scale initial rates by enzyme concentration. If there is no measurement for a zero substrate condition, a zero placeholder is added to the beginning of the substrate conc and initial rate lists."
   ]
  },
  {
   "cell_type": "code",
   "execution_count": 1,
   "metadata": {},
   "outputs": [
    {
     "ename": "NameError",
     "evalue": "name 'processing' is not defined",
     "output_type": "error",
     "traceback": [
      "\u001b[0;31m---------------------------------------------------------------------------\u001b[0m",
      "\u001b[0;31mNameError\u001b[0m                                 Traceback (most recent call last)",
      "\u001b[1;32m/Users/micaholivas/Desktop/htmek_processing/single_experiment_processing/experiment_processing_SFL_203_230410_AcP.ipynb Cell 35\u001b[0m in \u001b[0;36m<cell line: 1>\u001b[0;34m()\u001b[0m\n\u001b[0;32m----> <a href='vscode-notebook-cell:/Users/micaholivas/Desktop/htmek_processing/single_experiment_processing/experiment_processing_SFL_203_230410_AcP.ipynb#X46sZmlsZQ%3D%3D?line=0'>1</a>\u001b[0m squeeze_mm \u001b[39m=\u001b[39m processing\u001b[39m.\u001b[39mfit_michaelis_menten(sq_merged, exclude_concs\u001b[39m=\u001b[39m[\u001b[39m1000\u001b[39m])\n",
      "\u001b[0;31mNameError\u001b[0m: name 'processing' is not defined"
     ]
    }
   ],
   "source": [
    "squeeze_mm = processing.fit_michaelis_menten(sq_merged, exclude_concs=[1000])"
   ]
  },
  {
   "attachments": {},
   "cell_type": "markdown",
   "metadata": {},
   "source": [
    "# Inhibition "
   ]
  },
  {
   "cell_type": "code",
   "execution_count": 36,
   "metadata": {},
   "outputs": [],
   "source": [
    "# constant substrate concentration with increasing inhibitor concentration\n",
    "# should be similar to unfolding curves (normalize to 0uM inhibitor and plot y axis in linear scale)\n"
   ]
  },
  {
   "cell_type": "markdown",
   "metadata": {},
   "source": [
    "# Calculate local background ratio\n",
    "Add as a row in the by-chamber, by-substrate concentration dataframe, then squeeze into a list in the MM dataframe "
   ]
  },
  {
   "cell_type": "markdown",
   "metadata": {},
   "source": [
    "Next, iterate row-wise across the dataframe and compute the local background ratio. This algorithm is as follows: \n",
    "    1. for each chamber, store the intial rate for the highest substrate concentration condition\n",
    "    2. coerce all rates below 0.00001 to zero\n",
    "    3. store the rates in the above and below chambers\n",
    "        2.1. \n",
    "        2.2. average rates"
   ]
  },
  {
   "cell_type": "code",
   "execution_count": 37,
   "metadata": {},
   "outputs": [
    {
     "name": "stderr",
     "output_type": "stream",
     "text": [
      "SettingWithCopyWarning: \n",
      "A value is trying to be set on a copy of a slice from a DataFrame.\n",
      "Try using .loc[row_indexer,col_indexer] = value instead\n",
      "\n",
      "See the caveats in the documentation: https://pandas.pydata.org/pandas-docs/stable/user_guide/indexing.html#returning-a-view-versus-a-copy [processing.py:949]\n"
     ]
    },
    {
     "data": {
      "text/html": [
       "<div>\n",
       "<style scoped>\n",
       "    .dataframe tbody tr th:only-of-type {\n",
       "        vertical-align: middle;\n",
       "    }\n",
       "\n",
       "    .dataframe tbody tr th {\n",
       "        vertical-align: top;\n",
       "    }\n",
       "\n",
       "    .dataframe thead th {\n",
       "        text-align: right;\n",
       "    }\n",
       "</style>\n",
       "<table border=\"1\" class=\"dataframe\">\n",
       "  <thead>\n",
       "    <tr style=\"text-align: right;\">\n",
       "      <th></th>\n",
       "      <th>x</th>\n",
       "      <th>y</th>\n",
       "      <th>Indices</th>\n",
       "      <th>MutantID</th>\n",
       "      <th>substrate</th>\n",
       "      <th>EnzymeConc</th>\n",
       "      <th>egfp_manual_flag</th>\n",
       "      <th>substrate_concs</th>\n",
       "      <th>initial_rates</th>\n",
       "      <th>KM_fit</th>\n",
       "      <th>vmax_fit</th>\n",
       "      <th>kcat_fit</th>\n",
       "      <th>kcat_over_KM_fit</th>\n",
       "      <th>local_bg_ratio</th>\n",
       "    </tr>\n",
       "  </thead>\n",
       "  <tbody>\n",
       "    <tr>\n",
       "      <th>0</th>\n",
       "      <td>1</td>\n",
       "      <td>1</td>\n",
       "      <td>01,01</td>\n",
       "      <td>1C8_phorikoshii_pross_2</td>\n",
       "      <td>AcP</td>\n",
       "      <td>79.008044</td>\n",
       "      <td>False</td>\n",
       "      <td>[0, 10, 50]</td>\n",
       "      <td>[0, 0.0077400000000000056, 0.037160000000000006]</td>\n",
       "      <td>870.090276</td>\n",
       "      <td>0.683704</td>\n",
       "      <td>8.653596</td>\n",
       "      <td>9945.629615</td>\n",
       "      <td>12.813793</td>\n",
       "    </tr>\n",
       "    <tr>\n",
       "      <th>1</th>\n",
       "      <td>1</td>\n",
       "      <td>2</td>\n",
       "      <td>01,02</td>\n",
       "      <td>BLANK</td>\n",
       "      <td>AcP</td>\n",
       "      <td>0.131477</td>\n",
       "      <td>False</td>\n",
       "      <td>[0, 10, 50]</td>\n",
       "      <td>[0, 0.0007200000000000004, 0.0029000000000000002]</td>\n",
       "      <td>904.640872</td>\n",
       "      <td>0.055819</td>\n",
       "      <td>424.551222</td>\n",
       "      <td>469303.604231</td>\n",
       "      <td>0.146910</td>\n",
       "    </tr>\n",
       "    <tr>\n",
       "      <th>2</th>\n",
       "      <td>1</td>\n",
       "      <td>3</td>\n",
       "      <td>01,03</td>\n",
       "      <td>2A4_sbenthica_lowlambda_highid_7</td>\n",
       "      <td>AcP</td>\n",
       "      <td>64.473997</td>\n",
       "      <td>False</td>\n",
       "      <td>[0, 10, 50]</td>\n",
       "      <td>[0, 0.00072, 0.0023200000000000057]</td>\n",
       "      <td>1094.130910</td>\n",
       "      <td>0.054234</td>\n",
       "      <td>0.841174</td>\n",
       "      <td>768.805784</td>\n",
       "      <td>0.958678</td>\n",
       "    </tr>\n",
       "    <tr>\n",
       "      <th>3</th>\n",
       "      <td>1</td>\n",
       "      <td>4</td>\n",
       "      <td>01,04</td>\n",
       "      <td>BLANK</td>\n",
       "      <td>AcP</td>\n",
       "      <td>0.192267</td>\n",
       "      <td>False</td>\n",
       "      <td>[0, 10, 50]</td>\n",
       "      <td>[0, 0.0005800000000000005, 0.0019399999999999973]</td>\n",
       "      <td>1085.918908</td>\n",
       "      <td>0.044873</td>\n",
       "      <td>233.388964</td>\n",
       "      <td>214923.013284</td>\n",
       "      <td>0.142857</td>\n",
       "    </tr>\n",
       "    <tr>\n",
       "      <th>4</th>\n",
       "      <td>1</td>\n",
       "      <td>5</td>\n",
       "      <td>01,05</td>\n",
       "      <td>1G1_phorikoshii_lowlambda_lowid_8</td>\n",
       "      <td>AcP</td>\n",
       "      <td>56.097322</td>\n",
       "      <td>False</td>\n",
       "      <td>[0, 10, 50]</td>\n",
       "      <td>[0, 0.005660000000000001, 0.024840000000000008]</td>\n",
       "      <td>269.682031</td>\n",
       "      <td>0.158794</td>\n",
       "      <td>2.830686</td>\n",
       "      <td>10496.384196</td>\n",
       "      <td>11.239819</td>\n",
       "    </tr>\n",
       "  </tbody>\n",
       "</table>\n",
       "</div>"
      ],
      "text/plain": [
       "   x  y Indices                           MutantID substrate  EnzymeConc  \\\n",
       "0  1  1   01,01            1C8_phorikoshii_pross_2       AcP   79.008044   \n",
       "1  1  2   01,02                              BLANK       AcP    0.131477   \n",
       "2  1  3   01,03   2A4_sbenthica_lowlambda_highid_7       AcP   64.473997   \n",
       "3  1  4   01,04                              BLANK       AcP    0.192267   \n",
       "4  1  5   01,05  1G1_phorikoshii_lowlambda_lowid_8       AcP   56.097322   \n",
       "\n",
       "   egfp_manual_flag substrate_concs  \\\n",
       "0             False     [0, 10, 50]   \n",
       "1             False     [0, 10, 50]   \n",
       "2             False     [0, 10, 50]   \n",
       "3             False     [0, 10, 50]   \n",
       "4             False     [0, 10, 50]   \n",
       "\n",
       "                                       initial_rates       KM_fit  vmax_fit  \\\n",
       "0   [0, 0.0077400000000000056, 0.037160000000000006]   870.090276  0.683704   \n",
       "1  [0, 0.0007200000000000004, 0.0029000000000000002]   904.640872  0.055819   \n",
       "2                [0, 0.00072, 0.0023200000000000057]  1094.130910  0.054234   \n",
       "3  [0, 0.0005800000000000005, 0.0019399999999999973]  1085.918908  0.044873   \n",
       "4    [0, 0.005660000000000001, 0.024840000000000008]   269.682031  0.158794   \n",
       "\n",
       "     kcat_fit  kcat_over_KM_fit  local_bg_ratio  \n",
       "0    8.653596       9945.629615       12.813793  \n",
       "1  424.551222     469303.604231        0.146910  \n",
       "2    0.841174        768.805784        0.958678  \n",
       "3  233.388964     214923.013284        0.142857  \n",
       "4    2.830686      10496.384196       11.239819  "
      ]
     },
     "execution_count": 37,
     "metadata": {},
     "output_type": "execute_result"
    }
   ],
   "source": [
    "squeeze_mm, sq_merged = processing.calculate_local_bg_ratio(squeeze_mm, sq_merged, device_rows=device_rows, exclude_concs=[])\n",
    "squeeze_mm.head(5)"
   ]
  },
  {
   "cell_type": "markdown",
   "metadata": {},
   "source": [
    "# Print PDFs"
   ]
  },
  {
   "attachments": {},
   "cell_type": "markdown",
   "metadata": {},
   "source": [
    "Generate one experiment-level summary PDF and one PDF per chamber with the following plots:\n",
    "1. **Progress curves** for each substrate condition with linear initial rate fits\n",
    "2. **Standard curve** \n",
    "4. **Michaelis-Menten fits** to each substrate condition\n",
    "\n",
    "PDFs are exported to a `PDF` directory in the specified export directory."
   ]
  },
  {
   "cell_type": "code",
   "execution_count": 39,
   "metadata": {},
   "outputs": [
    {
     "name": "stderr",
     "output_type": "stream",
     "text": [
      "MatplotlibDeprecationWarning: The 'norm' parameter to Colorbar has no effect because it is overridden by the mappable; it is deprecated since 3.3 and will be removed two minor releases later. [processing.py:1092]\n"
     ]
    },
    {
     "data": {
      "image/png": "[encoded data removed]",
      "text/plain": [
       "<Figure size 720x720 with 5 Axes>"
      ]
     },
     "metadata": {
      "needs_background": "light"
     },
     "output_type": "display_data"
    },
    {
     "name": "stderr",
     "output_type": "stream",
     "text": [
      "Export complete:  31%|███       | 558/1792 [04:43<10:27,  1.97it/s]    \n"
     ]
    }
   ],
   "source": [
    "processing.plot_chip_summary(squeeze_mm=squeeze_mm, starting_chamber=(15, 26), sq_merged=sq_merged, squeeze_standards=squeeze_standards, squeeze_kinetics=squeeze_kinetics, button_stamps=button_stamps, device_columns=device_columns, device_rows=device_rows, export_path_root=export_path_root, experimental_day=experimental_day, experiment_name=experiment_name, pbp_conc=pbp_conc, exclude_concs=[], substrate=substrate)"
   ]
  },
  {
   "cell_type": "markdown",
   "metadata": {},
   "source": [
    "#### Merge PDFs"
   ]
  },
  {
   "cell_type": "code",
   "execution_count": 40,
   "metadata": {},
   "outputs": [
    {
     "name": "stderr",
     "output_type": "stream",
     "text": [
      "Merging PDFs: 100%|██████████| 1367/1367 [00:01<00:00, 761.20it/s]\n"
     ]
    },
    {
     "name": "stdout",
     "output_type": "stream",
     "text": [
      "Writing merged pdf to file...\n",
      "Done.\n"
     ]
    }
   ],
   "source": [
    "processing.merge_pdfs(export_path_root=export_path_root, substrate=substrate, experimental_day=experimental_day)"
   ]
  },
  {
   "cell_type": "markdown",
   "metadata": {},
   "source": [
    "# Export Data"
   ]
  },
  {
   "cell_type": "code",
   "execution_count": 23,
   "metadata": {},
   "outputs": [],
   "source": [
    "processing.export_data(sq_merged, squeeze_mm, export_path_root, experimental_day, setup, device, substrate=substrate, experiment_name=experiment_name)"
   ]
  }
 ],
 "metadata": {
  "kernelspec": {
   "display_name": "Python 3 (ipykernel)",
   "language": "python",
   "name": "python3"
  },
  "language_info": {
   "codemirror_mode": {
    "name": "ipython",
    "version": 3
   },
   "file_extension": ".py",
   "mimetype": "text/x-python",
   "name": "python",
   "nbconvert_exporter": "python",
   "pygments_lexer": "ipython3",
   "version": "3.8.13"
  },
  "vscode": {
   "interpreter": {
    "hash": "7d554d675da1053c03ba9b4c925194630c0caa9904242dfd9f793ca6ca18d72e"
   }
  }
 },
 "nbformat": 4,
 "nbformat_minor": 2
}

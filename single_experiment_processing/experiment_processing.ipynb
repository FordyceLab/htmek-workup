{
 "cells": [
  {
   "cell_type": "markdown",
   "metadata": {},
   "source": [
    "# HT-MEK Data Processing Workbook\n",
    "Author: Micah Olivas"
   ]
  },
  {
   "cell_type": "code",
   "execution_count": 1,
   "metadata": {},
   "outputs": [
    {
     "name": "stdout",
     "output_type": "stream",
     "text": [
      "INFO: Pandarallel will run on 8 workers.\n",
      "INFO: Pandarallel will use standard multiprocessing data transfer (pipe) to transfer data between the main process and workers.\n"
     ]
    }
   ],
   "source": [
    "# This will autoreload imported modules\n",
    "%load_ext autoreload\n",
    "%autoreload 2\n",
    "\n",
    "# Import modules\n",
    "from experiment_processing import processing\n",
    "\n",
    "# Set up parallel processing\n",
    "processing.pandarallel.initialize(progress_bar=True)"
   ]
  },
  {
   "cell_type": "markdown",
   "metadata": {},
   "source": [
    "# Import kinetic and standard series data"
   ]
  },
  {
   "cell_type": "markdown",
   "metadata": {},
   "source": [
    "Read raw kinetic and standards data with Pandas"
   ]
  },
  {
   "cell_type": "code",
   "execution_count": 3,
   "metadata": {},
   "outputs": [
    {
     "data": {
      "text/html": [
       "<div>\n",
       "<style scoped>\n",
       "    .dataframe tbody tr th:only-of-type {\n",
       "        vertical-align: middle;\n",
       "    }\n",
       "\n",
       "    .dataframe tbody tr th {\n",
       "        vertical-align: top;\n",
       "    }\n",
       "\n",
       "    .dataframe thead th {\n",
       "        text-align: right;\n",
       "    }\n",
       "</style>\n",
       "<table border=\"1\" class=\"dataframe\">\n",
       "  <thead>\n",
       "    <tr style=\"text-align: right;\">\n",
       "      <th></th>\n",
       "      <th>x</th>\n",
       "      <th>y</th>\n",
       "      <th>median_chamber</th>\n",
       "      <th>sum_chamber</th>\n",
       "      <th>std_chamber</th>\n",
       "      <th>x_center_chamber</th>\n",
       "      <th>y_center_chamber</th>\n",
       "      <th>radius_chamber</th>\n",
       "      <th>xslice</th>\n",
       "      <th>yslice</th>\n",
       "      <th>...</th>\n",
       "      <th>radius_button_disk_Button_Quant</th>\n",
       "      <th>median_button_annulus_Button_Quant</th>\n",
       "      <th>summed_button_annulus_normed_Button_Quant</th>\n",
       "      <th>std_button_annulus_localBG_Button_Quant</th>\n",
       "      <th>inner_radius_button_annulus_Button_Quant</th>\n",
       "      <th>outer_radius_button_annulus_Button_Quant</th>\n",
       "      <th>xslice_Button_Quant</th>\n",
       "      <th>yslice_Button_Quant</th>\n",
       "      <th>id_Button_Quant</th>\n",
       "      <th>series_index</th>\n",
       "    </tr>\n",
       "  </thead>\n",
       "  <tbody>\n",
       "    <tr>\n",
       "      <th>0</th>\n",
       "      <td>1</td>\n",
       "      <td>1</td>\n",
       "      <td>15322</td>\n",
       "      <td>48931087</td>\n",
       "      <td>3296</td>\n",
       "      <td>49</td>\n",
       "      <td>41</td>\n",
       "      <td>33</td>\n",
       "      <td>(392, 492)</td>\n",
       "      <td>(442, 542)</td>\n",
       "      <td>...</td>\n",
       "      <td>15</td>\n",
       "      <td>5951</td>\n",
       "      <td>4220914</td>\n",
       "      <td>126</td>\n",
       "      <td>15</td>\n",
       "      <td>15</td>\n",
       "      <td>(392, 492)</td>\n",
       "      <td>(442, 542)</td>\n",
       "      <td>1C8_phorikoshii_pross_2</td>\n",
       "      <td>25uM_AcP_d2</td>\n",
       "    </tr>\n",
       "    <tr>\n",
       "      <th>1</th>\n",
       "      <td>1</td>\n",
       "      <td>1</td>\n",
       "      <td>17753</td>\n",
       "      <td>56164430</td>\n",
       "      <td>4061</td>\n",
       "      <td>49</td>\n",
       "      <td>41</td>\n",
       "      <td>33</td>\n",
       "      <td>(392, 492)</td>\n",
       "      <td>(442, 542)</td>\n",
       "      <td>...</td>\n",
       "      <td>15</td>\n",
       "      <td>5951</td>\n",
       "      <td>4220914</td>\n",
       "      <td>126</td>\n",
       "      <td>15</td>\n",
       "      <td>15</td>\n",
       "      <td>(392, 492)</td>\n",
       "      <td>(442, 542)</td>\n",
       "      <td>1C8_phorikoshii_pross_2</td>\n",
       "      <td>25uM_AcP_d2</td>\n",
       "    </tr>\n",
       "    <tr>\n",
       "      <th>2</th>\n",
       "      <td>1</td>\n",
       "      <td>1</td>\n",
       "      <td>11456</td>\n",
       "      <td>37111311</td>\n",
       "      <td>2221</td>\n",
       "      <td>49</td>\n",
       "      <td>41</td>\n",
       "      <td>33</td>\n",
       "      <td>(392, 492)</td>\n",
       "      <td>(442, 542)</td>\n",
       "      <td>...</td>\n",
       "      <td>15</td>\n",
       "      <td>5951</td>\n",
       "      <td>4220914</td>\n",
       "      <td>126</td>\n",
       "      <td>15</td>\n",
       "      <td>15</td>\n",
       "      <td>(392, 492)</td>\n",
       "      <td>(442, 542)</td>\n",
       "      <td>1C8_phorikoshii_pross_2</td>\n",
       "      <td>25uM_AcP_d2</td>\n",
       "    </tr>\n",
       "    <tr>\n",
       "      <th>3</th>\n",
       "      <td>1</td>\n",
       "      <td>1</td>\n",
       "      <td>18836</td>\n",
       "      <td>59251569</td>\n",
       "      <td>4470</td>\n",
       "      <td>49</td>\n",
       "      <td>41</td>\n",
       "      <td>33</td>\n",
       "      <td>(392, 492)</td>\n",
       "      <td>(442, 542)</td>\n",
       "      <td>...</td>\n",
       "      <td>15</td>\n",
       "      <td>5951</td>\n",
       "      <td>4220914</td>\n",
       "      <td>126</td>\n",
       "      <td>15</td>\n",
       "      <td>15</td>\n",
       "      <td>(392, 492)</td>\n",
       "      <td>(442, 542)</td>\n",
       "      <td>1C8_phorikoshii_pross_2</td>\n",
       "      <td>25uM_AcP_d2</td>\n",
       "    </tr>\n",
       "    <tr>\n",
       "      <th>4</th>\n",
       "      <td>1</td>\n",
       "      <td>1</td>\n",
       "      <td>21875</td>\n",
       "      <td>65771725</td>\n",
       "      <td>6678</td>\n",
       "      <td>49</td>\n",
       "      <td>41</td>\n",
       "      <td>33</td>\n",
       "      <td>(392, 492)</td>\n",
       "      <td>(442, 542)</td>\n",
       "      <td>...</td>\n",
       "      <td>15</td>\n",
       "      <td>5951</td>\n",
       "      <td>4220914</td>\n",
       "      <td>126</td>\n",
       "      <td>15</td>\n",
       "      <td>15</td>\n",
       "      <td>(392, 492)</td>\n",
       "      <td>(442, 542)</td>\n",
       "      <td>1C8_phorikoshii_pross_2</td>\n",
       "      <td>25uM_AcP_d2</td>\n",
       "    </tr>\n",
       "  </tbody>\n",
       "</table>\n",
       "<p>5 rows × 28 columns</p>\n",
       "</div>"
      ],
      "text/plain": [
       "   x  y  median_chamber  sum_chamber  std_chamber  x_center_chamber  \\\n",
       "0  1  1           15322     48931087         3296                49   \n",
       "1  1  1           17753     56164430         4061                49   \n",
       "2  1  1           11456     37111311         2221                49   \n",
       "3  1  1           18836     59251569         4470                49   \n",
       "4  1  1           21875     65771725         6678                49   \n",
       "\n",
       "   y_center_chamber  radius_chamber      xslice      yslice  ...  \\\n",
       "0                41              33  (392, 492)  (442, 542)  ...   \n",
       "1                41              33  (392, 492)  (442, 542)  ...   \n",
       "2                41              33  (392, 492)  (442, 542)  ...   \n",
       "3                41              33  (392, 492)  (442, 542)  ...   \n",
       "4                41              33  (392, 492)  (442, 542)  ...   \n",
       "\n",
       "  radius_button_disk_Button_Quant  median_button_annulus_Button_Quant  \\\n",
       "0                              15                                5951   \n",
       "1                              15                                5951   \n",
       "2                              15                                5951   \n",
       "3                              15                                5951   \n",
       "4                              15                                5951   \n",
       "\n",
       "   summed_button_annulus_normed_Button_Quant  \\\n",
       "0                                    4220914   \n",
       "1                                    4220914   \n",
       "2                                    4220914   \n",
       "3                                    4220914   \n",
       "4                                    4220914   \n",
       "\n",
       "   std_button_annulus_localBG_Button_Quant  \\\n",
       "0                                      126   \n",
       "1                                      126   \n",
       "2                                      126   \n",
       "3                                      126   \n",
       "4                                      126   \n",
       "\n",
       "   inner_radius_button_annulus_Button_Quant  \\\n",
       "0                                        15   \n",
       "1                                        15   \n",
       "2                                        15   \n",
       "3                                        15   \n",
       "4                                        15   \n",
       "\n",
       "   outer_radius_button_annulus_Button_Quant  xslice_Button_Quant  \\\n",
       "0                                        15           (392, 492)   \n",
       "1                                        15           (392, 492)   \n",
       "2                                        15           (392, 492)   \n",
       "3                                        15           (392, 492)   \n",
       "4                                        15           (392, 492)   \n",
       "\n",
       "   yslice_Button_Quant          id_Button_Quant  series_index  \n",
       "0           (442, 542)  1C8_phorikoshii_pross_2   25uM_AcP_d2  \n",
       "1           (442, 542)  1C8_phorikoshii_pross_2   25uM_AcP_d2  \n",
       "2           (442, 542)  1C8_phorikoshii_pross_2   25uM_AcP_d2  \n",
       "3           (442, 542)  1C8_phorikoshii_pross_2   25uM_AcP_d2  \n",
       "4           (442, 542)  1C8_phorikoshii_pross_2   25uM_AcP_d2  \n",
       "\n",
       "[5 rows x 28 columns]"
      ]
     },
     "execution_count": 3,
     "metadata": {},
     "output_type": "execute_result"
    }
   ],
   "source": [
    "# csv of kinetic data from processing notebook\n",
    "kinetic_data_path = '/Volumes/Micah_Data/HT-MEK_data/ACYP/230415_SFL_ACYPs/Assays/AcP/d2_TitrationSeries_Analysis.csv.bz2'\n",
    "\n",
    "# csv of standard data from processing notebook\n",
    "standard_data_path = '/Volumes/Micah_Data/HT-MEK_data/ACYP/230415_SFL_ACYPs/Standards/Analysis/d2_pbp_StandardSeries_Analysis.csv.bz2'\n",
    "\n",
    "# csv of egfp data from processing notebook\n",
    "egfp_data_path = '/Volumes/Micah_Data/HT-MEK_data/ACYP/230415_SFL_ACYPs/egfp/StitchedImagesGFP_Summary.csv.bz2'\n",
    "\n",
    "# path to egfp summary image for image segmentation and manual chamber culling\n",
    "egfp_button_summary_image_path = '/Volumes/Micah_Data/HT-MEK_data/ACYP/230415_SFL_ACYPs/egfp/20230416-193203-d2_egfp_post_binding_quant/egfp/StitchedImages/SummaryImages/Summary_StitchedImg_100_egfp_0.tif'\n",
    "\n",
    "# path to the folder where you want to save the exported data\n",
    "export_path_root = \"/Volumes/Micah_Data/HT-MEK_data/ACYP/230415_SFL_ACYPs/Interpretation\"\n",
    "\n",
    "\n",
    "\n",
    "# experiment information\n",
    "experimental_day = '230419'\n",
    "experiment_name = 'AcyP_SFL_203'\n",
    "setup = 'S2'\n",
    "device = 'd2'\n",
    "egfp_slope = 188847\n",
    "substrate = 'AcP'\n",
    "all_substrate_concs = [10, 25, 50, 75, 100]\n",
    "device_columns = 32\n",
    "device_rows = 56\n",
    "\n",
    "\n",
    "\n",
    "# Create dataframes for kinetic and standard series\n",
    "kinetic_data = processing.pd.read_csv(kinetic_data_path)\n",
    "standard_data = processing.pd.read_csv(standard_data_path)\n",
    "egfp_data = processing.pd.read_csv(egfp_data_path)\n",
    "standard_data = standard_data.dropna()\n",
    "\n",
    "\n",
    "# Print kinetic data head\n",
    "kinetic_data.head()"
   ]
  },
  {
   "attachments": {},
   "cell_type": "markdown",
   "metadata": {},
   "source": [
    "**Development**: Extract assay data from series index; if you don't want to use this, comment out the next cell."
   ]
  },
  {
   "cell_type": "code",
   "execution_count": 16,
   "metadata": {},
   "outputs": [
    {
     "data": {
      "text/html": [
       "<div>\n",
       "<style scoped>\n",
       "    .dataframe tbody tr th:only-of-type {\n",
       "        vertical-align: middle;\n",
       "    }\n",
       "\n",
       "    .dataframe tbody tr th {\n",
       "        vertical-align: top;\n",
       "    }\n",
       "\n",
       "    .dataframe thead th {\n",
       "        text-align: right;\n",
       "    }\n",
       "</style>\n",
       "<table border=\"1\" class=\"dataframe\">\n",
       "  <thead>\n",
       "    <tr style=\"text-align: right;\">\n",
       "      <th></th>\n",
       "      <th>x</th>\n",
       "      <th>y</th>\n",
       "      <th>summed_button_BGsub</th>\n",
       "      <th>median_chamber</th>\n",
       "      <th>sum_chamber</th>\n",
       "      <th>std_chamber</th>\n",
       "      <th>x_center_chamber</th>\n",
       "      <th>y_center_chamber</th>\n",
       "      <th>radius_chamber</th>\n",
       "      <th>xslice</th>\n",
       "      <th>...</th>\n",
       "      <th>inner_radius_button_annulus_Button_Quant</th>\n",
       "      <th>outer_radius_button_annulus_Button_Quant</th>\n",
       "      <th>xslice_Button_Quant</th>\n",
       "      <th>yslice_Button_Quant</th>\n",
       "      <th>id_Button_Quant</th>\n",
       "      <th>series_index</th>\n",
       "      <th>MutantID</th>\n",
       "      <th>Indices</th>\n",
       "      <th>substrate</th>\n",
       "      <th>substrate_conc_uM</th>\n",
       "    </tr>\n",
       "  </thead>\n",
       "  <tbody>\n",
       "    <tr>\n",
       "      <th>0</th>\n",
       "      <td>1</td>\n",
       "      <td>1</td>\n",
       "      <td>5252210</td>\n",
       "      <td>15322</td>\n",
       "      <td>48931087</td>\n",
       "      <td>3296</td>\n",
       "      <td>49</td>\n",
       "      <td>41</td>\n",
       "      <td>33</td>\n",
       "      <td>(392, 492)</td>\n",
       "      <td>...</td>\n",
       "      <td>15</td>\n",
       "      <td>15</td>\n",
       "      <td>(392, 492)</td>\n",
       "      <td>(442, 542)</td>\n",
       "      <td>1C8_phorikoshii_pross_2</td>\n",
       "      <td>25uM_AcP_d2</td>\n",
       "      <td>1C8_phorikoshii_pross_2</td>\n",
       "      <td>01,01</td>\n",
       "      <td>AcP</td>\n",
       "      <td>25</td>\n",
       "    </tr>\n",
       "    <tr>\n",
       "      <th>1</th>\n",
       "      <td>1</td>\n",
       "      <td>1</td>\n",
       "      <td>5252210</td>\n",
       "      <td>17753</td>\n",
       "      <td>56164430</td>\n",
       "      <td>4061</td>\n",
       "      <td>49</td>\n",
       "      <td>41</td>\n",
       "      <td>33</td>\n",
       "      <td>(392, 492)</td>\n",
       "      <td>...</td>\n",
       "      <td>15</td>\n",
       "      <td>15</td>\n",
       "      <td>(392, 492)</td>\n",
       "      <td>(442, 542)</td>\n",
       "      <td>1C8_phorikoshii_pross_2</td>\n",
       "      <td>25uM_AcP_d2</td>\n",
       "      <td>1C8_phorikoshii_pross_2</td>\n",
       "      <td>01,01</td>\n",
       "      <td>AcP</td>\n",
       "      <td>25</td>\n",
       "    </tr>\n",
       "    <tr>\n",
       "      <th>2</th>\n",
       "      <td>1</td>\n",
       "      <td>1</td>\n",
       "      <td>5252210</td>\n",
       "      <td>11456</td>\n",
       "      <td>37111311</td>\n",
       "      <td>2221</td>\n",
       "      <td>49</td>\n",
       "      <td>41</td>\n",
       "      <td>33</td>\n",
       "      <td>(392, 492)</td>\n",
       "      <td>...</td>\n",
       "      <td>15</td>\n",
       "      <td>15</td>\n",
       "      <td>(392, 492)</td>\n",
       "      <td>(442, 542)</td>\n",
       "      <td>1C8_phorikoshii_pross_2</td>\n",
       "      <td>25uM_AcP_d2</td>\n",
       "      <td>1C8_phorikoshii_pross_2</td>\n",
       "      <td>01,01</td>\n",
       "      <td>AcP</td>\n",
       "      <td>25</td>\n",
       "    </tr>\n",
       "    <tr>\n",
       "      <th>3</th>\n",
       "      <td>1</td>\n",
       "      <td>1</td>\n",
       "      <td>5252210</td>\n",
       "      <td>18836</td>\n",
       "      <td>59251569</td>\n",
       "      <td>4470</td>\n",
       "      <td>49</td>\n",
       "      <td>41</td>\n",
       "      <td>33</td>\n",
       "      <td>(392, 492)</td>\n",
       "      <td>...</td>\n",
       "      <td>15</td>\n",
       "      <td>15</td>\n",
       "      <td>(392, 492)</td>\n",
       "      <td>(442, 542)</td>\n",
       "      <td>1C8_phorikoshii_pross_2</td>\n",
       "      <td>25uM_AcP_d2</td>\n",
       "      <td>1C8_phorikoshii_pross_2</td>\n",
       "      <td>01,01</td>\n",
       "      <td>AcP</td>\n",
       "      <td>25</td>\n",
       "    </tr>\n",
       "    <tr>\n",
       "      <th>4</th>\n",
       "      <td>1</td>\n",
       "      <td>1</td>\n",
       "      <td>5252210</td>\n",
       "      <td>21875</td>\n",
       "      <td>65771725</td>\n",
       "      <td>6678</td>\n",
       "      <td>49</td>\n",
       "      <td>41</td>\n",
       "      <td>33</td>\n",
       "      <td>(392, 492)</td>\n",
       "      <td>...</td>\n",
       "      <td>15</td>\n",
       "      <td>15</td>\n",
       "      <td>(392, 492)</td>\n",
       "      <td>(442, 542)</td>\n",
       "      <td>1C8_phorikoshii_pross_2</td>\n",
       "      <td>25uM_AcP_d2</td>\n",
       "      <td>1C8_phorikoshii_pross_2</td>\n",
       "      <td>01,01</td>\n",
       "      <td>AcP</td>\n",
       "      <td>25</td>\n",
       "    </tr>\n",
       "  </tbody>\n",
       "</table>\n",
       "<p>5 rows × 33 columns</p>\n",
       "</div>"
      ],
      "text/plain": [
       "   x  y  summed_button_BGsub  median_chamber  sum_chamber  std_chamber  \\\n",
       "0  1  1              5252210           15322     48931087         3296   \n",
       "1  1  1              5252210           17753     56164430         4061   \n",
       "2  1  1              5252210           11456     37111311         2221   \n",
       "3  1  1              5252210           18836     59251569         4470   \n",
       "4  1  1              5252210           21875     65771725         6678   \n",
       "\n",
       "   x_center_chamber  y_center_chamber  radius_chamber      xslice  ...  \\\n",
       "0                49                41              33  (392, 492)  ...   \n",
       "1                49                41              33  (392, 492)  ...   \n",
       "2                49                41              33  (392, 492)  ...   \n",
       "3                49                41              33  (392, 492)  ...   \n",
       "4                49                41              33  (392, 492)  ...   \n",
       "\n",
       "  inner_radius_button_annulus_Button_Quant  \\\n",
       "0                                       15   \n",
       "1                                       15   \n",
       "2                                       15   \n",
       "3                                       15   \n",
       "4                                       15   \n",
       "\n",
       "  outer_radius_button_annulus_Button_Quant  xslice_Button_Quant  \\\n",
       "0                                       15           (392, 492)   \n",
       "1                                       15           (392, 492)   \n",
       "2                                       15           (392, 492)   \n",
       "3                                       15           (392, 492)   \n",
       "4                                       15           (392, 492)   \n",
       "\n",
       "   yslice_Button_Quant          id_Button_Quant  series_index  \\\n",
       "0           (442, 542)  1C8_phorikoshii_pross_2   25uM_AcP_d2   \n",
       "1           (442, 542)  1C8_phorikoshii_pross_2   25uM_AcP_d2   \n",
       "2           (442, 542)  1C8_phorikoshii_pross_2   25uM_AcP_d2   \n",
       "3           (442, 542)  1C8_phorikoshii_pross_2   25uM_AcP_d2   \n",
       "4           (442, 542)  1C8_phorikoshii_pross_2   25uM_AcP_d2   \n",
       "\n",
       "                  MutantID  Indices  substrate  substrate_conc_uM  \n",
       "0  1C8_phorikoshii_pross_2    01,01        AcP                 25  \n",
       "1  1C8_phorikoshii_pross_2    01,01        AcP                 25  \n",
       "2  1C8_phorikoshii_pross_2    01,01        AcP                 25  \n",
       "3  1C8_phorikoshii_pross_2    01,01        AcP                 25  \n",
       "4  1C8_phorikoshii_pross_2    01,01        AcP                 25  \n",
       "\n",
       "[5 rows x 33 columns]"
      ]
     },
     "execution_count": 16,
     "metadata": {},
     "output_type": "execute_result"
    }
   ],
   "source": [
    "# use regex pattern to extract substrate and condition concentrations from the series_index string such as '25uM_ATP_1mM_EDTA'\n",
    "tags = ['substrate_conc_uM', 'substrate']\n",
    "series_index_pattern = r'(?P<%s>\\d+)uM_(?P<%s>\\w+)_' % (tags[0], tags[1])\n",
    "\n",
    "# replace the sequence \"no\" in the series_index column with \"0\" to make it easier to convert to numeric\n",
    "kinetic_data['series_index'] = kinetic_data['series_index'].str.replace('no', '0mM')\n",
    "\n",
    "# apply regex pattern to each string in the \"text\" column and create new columns\n",
    "kinetic_data['series_index'].str.extract(series_index_pattern)\n",
    "\n",
    "# extract the new columns from the regex pattern and convert numeric columns to float\n",
    "kinetic_data[tags] = kinetic_data['series_index'].str.extract(series_index_pattern)\n",
    "kinetic_data[tags] = kinetic_data[tags].apply(processing.pd.to_numeric, errors='ignore')\n",
    "kinetic_data.head()"
   ]
  },
  {
   "cell_type": "code",
   "execution_count": 4,
   "metadata": {},
   "outputs": [
    {
     "data": {
      "text/plain": [
       "array([1, 0])"
      ]
     },
     "execution_count": 4,
     "metadata": {},
     "output_type": "execute_result"
    }
   ],
   "source": [
    "kinetic_data['EDTA_conc_mM'].unique()"
   ]
  },
  {
   "cell_type": "code",
   "execution_count": 17,
   "metadata": {},
   "outputs": [
    {
     "ename": "KeyError",
     "evalue": "'summed_button_BGsub'",
     "output_type": "error",
     "traceback": [
      "\u001b[0;31m---------------------------------------------------------------------------\u001b[0m",
      "\u001b[0;31mKeyError\u001b[0m                                  Traceback (most recent call last)",
      "File \u001b[0;32m/opt/anaconda3/envs/processing/lib/python3.8/site-packages/pandas/core/indexes/base.py:3080\u001b[0m, in \u001b[0;36mIndex.get_loc\u001b[0;34m(self, key, method, tolerance)\u001b[0m\n\u001b[1;32m   3079\u001b[0m \u001b[39mtry\u001b[39;00m:\n\u001b[0;32m-> 3080\u001b[0m     \u001b[39mreturn\u001b[39;00m \u001b[39mself\u001b[39;49m\u001b[39m.\u001b[39;49m_engine\u001b[39m.\u001b[39;49mget_loc(casted_key)\n\u001b[1;32m   3081\u001b[0m \u001b[39mexcept\u001b[39;00m \u001b[39mKeyError\u001b[39;00m \u001b[39mas\u001b[39;00m err:\n",
      "File \u001b[0;32mpandas/_libs/index.pyx:70\u001b[0m, in \u001b[0;36mpandas._libs.index.IndexEngine.get_loc\u001b[0;34m()\u001b[0m\n",
      "File \u001b[0;32mpandas/_libs/index.pyx:101\u001b[0m, in \u001b[0;36mpandas._libs.index.IndexEngine.get_loc\u001b[0;34m()\u001b[0m\n",
      "File \u001b[0;32mpandas/_libs/hashtable_class_helper.pxi:4554\u001b[0m, in \u001b[0;36mpandas._libs.hashtable.PyObjectHashTable.get_item\u001b[0;34m()\u001b[0m\n",
      "File \u001b[0;32mpandas/_libs/hashtable_class_helper.pxi:4562\u001b[0m, in \u001b[0;36mpandas._libs.hashtable.PyObjectHashTable.get_item\u001b[0;34m()\u001b[0m\n",
      "\u001b[0;31mKeyError\u001b[0m: 'summed_button_BGsub'",
      "\nThe above exception was the direct cause of the following exception:\n",
      "\u001b[0;31mKeyError\u001b[0m                                  Traceback (most recent call last)",
      "\u001b[1;32m/Users/micaholivas/Desktop/htmek_processing/experiment_processing.ipynb Cell 9\u001b[0m in \u001b[0;36m<cell line: 2>\u001b[0;34m()\u001b[0m\n\u001b[1;32m      <a href='vscode-notebook-cell:/Users/micaholivas/Desktop/htmek_processing/experiment_processing.ipynb#X11sZmlsZQ%3D%3D?line=0'>1</a>\u001b[0m \u001b[39m# Format all dataframes\u001b[39;00m\n\u001b[0;32m----> <a href='vscode-notebook-cell:/Users/micaholivas/Desktop/htmek_processing/experiment_processing.ipynb#X11sZmlsZQ%3D%3D?line=1'>2</a>\u001b[0m standard_data, kinetic_data \u001b[39m=\u001b[39m processing\u001b[39m.\u001b[39;49mformat_data(standard_data\u001b[39m=\u001b[39;49mstandard_data, kinetic_data\u001b[39m=\u001b[39;49mkinetic_data, egfp_data\u001b[39m=\u001b[39;49megfp_data)\n",
      "File \u001b[0;32m~/Desktop/htmek_processing/experiment_processing/processing.py:94\u001b[0m, in \u001b[0;36mformat_data\u001b[0;34m(standard_data, kinetic_data, egfp_data, substrate)\u001b[0m\n\u001b[1;32m     92\u001b[0m \u001b[39m# replace egfp data to kinetic dataframe (this accounts for egfp data exported from the processor script separately from the kinetic data)\u001b[39;00m\n\u001b[1;32m     93\u001b[0m kinetic_data \u001b[39m=\u001b[39m pd\u001b[39m.\u001b[39mmerge(egfp_data[[\u001b[39m'\u001b[39m\u001b[39mx\u001b[39m\u001b[39m'\u001b[39m, \u001b[39m'\u001b[39m\u001b[39my\u001b[39m\u001b[39m'\u001b[39m, \u001b[39m'\u001b[39m\u001b[39msummed_button_BGsub\u001b[39m\u001b[39m'\u001b[39m]], kinetic_data, on\u001b[39m=\u001b[39m[\u001b[39m'\u001b[39m\u001b[39mx\u001b[39m\u001b[39m'\u001b[39m, \u001b[39m'\u001b[39m\u001b[39my\u001b[39m\u001b[39m'\u001b[39m]) \u001b[39m# add egfp values from separate csv\u001b[39;00m\n\u001b[0;32m---> 94\u001b[0m kinetic_data[\u001b[39m'\u001b[39m\u001b[39msummed_button_BGsub_Button_Quant\u001b[39m\u001b[39m'\u001b[39m] \u001b[39m=\u001b[39m kinetic_data[\u001b[39m'\u001b[39;49m\u001b[39msummed_button_BGsub\u001b[39;49m\u001b[39m'\u001b[39;49m] \u001b[39m# move values to correct column\u001b[39;00m\n\u001b[1;32m     96\u001b[0m \u001b[39m# add substrate information to standard dataframe \u001b[39;00m\n\u001b[1;32m     97\u001b[0m \u001b[39m# standard_data['substrate'] = substrate\u001b[39;00m\n\u001b[1;32m     98\u001b[0m \u001b[39m# kinetic_data['substrate_conc_uM'] = kinetic_data.series_index.apply(lambda x: int(x.split('_')[0][:-2]))\u001b[39;00m\n\u001b[1;32m     99\u001b[0m \u001b[39m# kinetic_data['substrate'] = substrate\u001b[39;00m\n\u001b[1;32m    101\u001b[0m \u001b[39mreturn\u001b[39;00m standard_data, kinetic_data\n",
      "File \u001b[0;32m/opt/anaconda3/envs/processing/lib/python3.8/site-packages/pandas/core/frame.py:3024\u001b[0m, in \u001b[0;36mDataFrame.__getitem__\u001b[0;34m(self, key)\u001b[0m\n\u001b[1;32m   3022\u001b[0m \u001b[39mif\u001b[39;00m \u001b[39mself\u001b[39m\u001b[39m.\u001b[39mcolumns\u001b[39m.\u001b[39mnlevels \u001b[39m>\u001b[39m \u001b[39m1\u001b[39m:\n\u001b[1;32m   3023\u001b[0m     \u001b[39mreturn\u001b[39;00m \u001b[39mself\u001b[39m\u001b[39m.\u001b[39m_getitem_multilevel(key)\n\u001b[0;32m-> 3024\u001b[0m indexer \u001b[39m=\u001b[39m \u001b[39mself\u001b[39;49m\u001b[39m.\u001b[39;49mcolumns\u001b[39m.\u001b[39;49mget_loc(key)\n\u001b[1;32m   3025\u001b[0m \u001b[39mif\u001b[39;00m is_integer(indexer):\n\u001b[1;32m   3026\u001b[0m     indexer \u001b[39m=\u001b[39m [indexer]\n",
      "File \u001b[0;32m/opt/anaconda3/envs/processing/lib/python3.8/site-packages/pandas/core/indexes/base.py:3082\u001b[0m, in \u001b[0;36mIndex.get_loc\u001b[0;34m(self, key, method, tolerance)\u001b[0m\n\u001b[1;32m   3080\u001b[0m         \u001b[39mreturn\u001b[39;00m \u001b[39mself\u001b[39m\u001b[39m.\u001b[39m_engine\u001b[39m.\u001b[39mget_loc(casted_key)\n\u001b[1;32m   3081\u001b[0m     \u001b[39mexcept\u001b[39;00m \u001b[39mKeyError\u001b[39;00m \u001b[39mas\u001b[39;00m err:\n\u001b[0;32m-> 3082\u001b[0m         \u001b[39mraise\u001b[39;00m \u001b[39mKeyError\u001b[39;00m(key) \u001b[39mfrom\u001b[39;00m \u001b[39merr\u001b[39;00m\n\u001b[1;32m   3084\u001b[0m \u001b[39mif\u001b[39;00m tolerance \u001b[39mis\u001b[39;00m \u001b[39mnot\u001b[39;00m \u001b[39mNone\u001b[39;00m:\n\u001b[1;32m   3085\u001b[0m     tolerance \u001b[39m=\u001b[39m \u001b[39mself\u001b[39m\u001b[39m.\u001b[39m_convert_tolerance(tolerance, np\u001b[39m.\u001b[39masarray(key))\n",
      "\u001b[0;31mKeyError\u001b[0m: 'summed_button_BGsub'"
     ]
    }
   ],
   "source": [
    "# Format all dataframes\n",
    "standard_data, kinetic_data = processing.format_data(standard_data=standard_data, kinetic_data=kinetic_data, egfp_data=egfp_data)"
   ]
  },
  {
   "cell_type": "markdown",
   "metadata": {},
   "source": [
    "## \"Squeeze\" DataFrames"
   ]
  },
  {
   "cell_type": "markdown",
   "metadata": {},
   "source": [
    "At this point, our DataFrames are in a long format: each row of kinetic_data corresponds to an individual timepoint in the kinetic assays, while each row of standard_data corresponds to an individual standard concentration. To support vectorized curve fitting operations later, we want to flatten or \"squeeze\" rows of each DataFrame into series (e.g. time, intensity, standard concentration) by chamber."
   ]
  },
  {
   "cell_type": "code",
   "execution_count": 13,
   "metadata": {},
   "outputs": [],
   "source": [
    "kinetic_data['MutantID'] = kinetic_data['id'].astype(str)"
   ]
  },
  {
   "cell_type": "code",
   "execution_count": 14,
   "metadata": {},
   "outputs": [
    {
     "ename": "KeyError",
     "evalue": "'substrate_conc_uM'",
     "output_type": "error",
     "traceback": [
      "\u001b[0;31m---------------------------------------------------------------------------\u001b[0m",
      "\u001b[0;31mKeyError\u001b[0m                                  Traceback (most recent call last)",
      "\u001b[1;32m/Users/micaholivas/Desktop/htmek_processing/experiment_processing.ipynb Cell 13\u001b[0m in \u001b[0;36m<cell line: 1>\u001b[0;34m()\u001b[0m\n\u001b[0;32m----> <a href='vscode-notebook-cell:/Users/micaholivas/Desktop/htmek_processing/experiment_processing.ipynb#X15sZmlsZQ%3D%3D?line=0'>1</a>\u001b[0m squeeze_kinetics \u001b[39m=\u001b[39m processing\u001b[39m.\u001b[39;49msqueeze_kinetics(kinetic_data, additional_columns\u001b[39m=\u001b[39;49m[])\n",
      "File \u001b[0;32m~/Desktop/htmek_processing/experiment_processing/processing.py:126\u001b[0m, in \u001b[0;36msqueeze_kinetics\u001b[0;34m(kinetic_data, additional_columns)\u001b[0m\n\u001b[1;32m    123\u001b[0m \u001b[39mif\u001b[39;00m additional_columns \u001b[39mis\u001b[39;00m \u001b[39mnot\u001b[39;00m \u001b[39mNone\u001b[39;00m:\n\u001b[1;32m    124\u001b[0m     columns \u001b[39m=\u001b[39m columns \u001b[39m+\u001b[39m additional_columns\n\u001b[0;32m--> 126\u001b[0m kinetic_median_intensities \u001b[39m=\u001b[39m kinetic_data\u001b[39m.\u001b[39;49mgroupby(columns)[\u001b[39m'\u001b[39m\u001b[39mmedian_chamber\u001b[39m\u001b[39m'\u001b[39m]\u001b[39m.\u001b[39mapply(\u001b[39mlist\u001b[39m)\u001b[39m.\u001b[39mreset_index(name\u001b[39m=\u001b[39m\u001b[39m'\u001b[39m\u001b[39mkinetic_median_intensities\u001b[39m\u001b[39m'\u001b[39m)\n\u001b[1;32m    127\u001b[0m times \u001b[39m=\u001b[39m kinetic_data\u001b[39m.\u001b[39mgroupby(columns)[\u001b[39m'\u001b[39m\u001b[39mtime_s\u001b[39m\u001b[39m'\u001b[39m]\u001b[39m.\u001b[39mapply(\u001b[39mlist\u001b[39m)\u001b[39m.\u001b[39mreset_index(name\u001b[39m=\u001b[39m\u001b[39m'\u001b[39m\u001b[39mtime_s\u001b[39m\u001b[39m'\u001b[39m)\n\u001b[1;32m    128\u001b[0m squeeze_kinetics \u001b[39m=\u001b[39m pd\u001b[39m.\u001b[39mmerge(times, kinetic_median_intensities, on\u001b[39m=\u001b[39mcolumns)\n",
      "File \u001b[0;32m/opt/anaconda3/envs/processing/lib/python3.8/site-packages/pandas/core/frame.py:6717\u001b[0m, in \u001b[0;36mDataFrame.groupby\u001b[0;34m(self, by, axis, level, as_index, sort, group_keys, squeeze, observed, dropna)\u001b[0m\n\u001b[1;32m   6714\u001b[0m     \u001b[39mraise\u001b[39;00m \u001b[39mTypeError\u001b[39;00m(\u001b[39m\"\u001b[39m\u001b[39mYou have to supply one of \u001b[39m\u001b[39m'\u001b[39m\u001b[39mby\u001b[39m\u001b[39m'\u001b[39m\u001b[39m and \u001b[39m\u001b[39m'\u001b[39m\u001b[39mlevel\u001b[39m\u001b[39m'\u001b[39m\u001b[39m\"\u001b[39m)\n\u001b[1;32m   6715\u001b[0m axis \u001b[39m=\u001b[39m \u001b[39mself\u001b[39m\u001b[39m.\u001b[39m_get_axis_number(axis)\n\u001b[0;32m-> 6717\u001b[0m \u001b[39mreturn\u001b[39;00m DataFrameGroupBy(\n\u001b[1;32m   6718\u001b[0m     obj\u001b[39m=\u001b[39;49m\u001b[39mself\u001b[39;49m,\n\u001b[1;32m   6719\u001b[0m     keys\u001b[39m=\u001b[39;49mby,\n\u001b[1;32m   6720\u001b[0m     axis\u001b[39m=\u001b[39;49maxis,\n\u001b[1;32m   6721\u001b[0m     level\u001b[39m=\u001b[39;49mlevel,\n\u001b[1;32m   6722\u001b[0m     as_index\u001b[39m=\u001b[39;49mas_index,\n\u001b[1;32m   6723\u001b[0m     sort\u001b[39m=\u001b[39;49msort,\n\u001b[1;32m   6724\u001b[0m     group_keys\u001b[39m=\u001b[39;49mgroup_keys,\n\u001b[1;32m   6725\u001b[0m     squeeze\u001b[39m=\u001b[39;49msqueeze,\n\u001b[1;32m   6726\u001b[0m     observed\u001b[39m=\u001b[39;49mobserved,\n\u001b[1;32m   6727\u001b[0m     dropna\u001b[39m=\u001b[39;49mdropna,\n\u001b[1;32m   6728\u001b[0m )\n",
      "File \u001b[0;32m/opt/anaconda3/envs/processing/lib/python3.8/site-packages/pandas/core/groupby/groupby.py:560\u001b[0m, in \u001b[0;36mBaseGroupBy.__init__\u001b[0;34m(self, obj, keys, axis, level, grouper, exclusions, selection, as_index, sort, group_keys, squeeze, observed, mutated, dropna)\u001b[0m\n\u001b[1;32m    557\u001b[0m \u001b[39mif\u001b[39;00m grouper \u001b[39mis\u001b[39;00m \u001b[39mNone\u001b[39;00m:\n\u001b[1;32m    558\u001b[0m     \u001b[39mfrom\u001b[39;00m \u001b[39mpandas\u001b[39;00m\u001b[39m.\u001b[39;00m\u001b[39mcore\u001b[39;00m\u001b[39m.\u001b[39;00m\u001b[39mgroupby\u001b[39;00m\u001b[39m.\u001b[39;00m\u001b[39mgrouper\u001b[39;00m \u001b[39mimport\u001b[39;00m get_grouper\n\u001b[0;32m--> 560\u001b[0m     grouper, exclusions, obj \u001b[39m=\u001b[39m get_grouper(\n\u001b[1;32m    561\u001b[0m         obj,\n\u001b[1;32m    562\u001b[0m         keys,\n\u001b[1;32m    563\u001b[0m         axis\u001b[39m=\u001b[39;49maxis,\n\u001b[1;32m    564\u001b[0m         level\u001b[39m=\u001b[39;49mlevel,\n\u001b[1;32m    565\u001b[0m         sort\u001b[39m=\u001b[39;49msort,\n\u001b[1;32m    566\u001b[0m         observed\u001b[39m=\u001b[39;49mobserved,\n\u001b[1;32m    567\u001b[0m         mutated\u001b[39m=\u001b[39;49m\u001b[39mself\u001b[39;49m\u001b[39m.\u001b[39;49mmutated,\n\u001b[1;32m    568\u001b[0m         dropna\u001b[39m=\u001b[39;49m\u001b[39mself\u001b[39;49m\u001b[39m.\u001b[39;49mdropna,\n\u001b[1;32m    569\u001b[0m     )\n\u001b[1;32m    571\u001b[0m \u001b[39mself\u001b[39m\u001b[39m.\u001b[39mobj \u001b[39m=\u001b[39m obj\n\u001b[1;32m    572\u001b[0m \u001b[39mself\u001b[39m\u001b[39m.\u001b[39maxis \u001b[39m=\u001b[39m obj\u001b[39m.\u001b[39m_get_axis_number(axis)\n",
      "File \u001b[0;32m/opt/anaconda3/envs/processing/lib/python3.8/site-packages/pandas/core/groupby/grouper.py:811\u001b[0m, in \u001b[0;36mget_grouper\u001b[0;34m(obj, key, axis, level, sort, observed, mutated, validate, dropna)\u001b[0m\n\u001b[1;32m    809\u001b[0m         in_axis, name, level, gpr \u001b[39m=\u001b[39m \u001b[39mFalse\u001b[39;00m, \u001b[39mNone\u001b[39;00m, gpr, \u001b[39mNone\u001b[39;00m\n\u001b[1;32m    810\u001b[0m     \u001b[39melse\u001b[39;00m:\n\u001b[0;32m--> 811\u001b[0m         \u001b[39mraise\u001b[39;00m \u001b[39mKeyError\u001b[39;00m(gpr)\n\u001b[1;32m    812\u001b[0m \u001b[39melif\u001b[39;00m \u001b[39misinstance\u001b[39m(gpr, Grouper) \u001b[39mand\u001b[39;00m gpr\u001b[39m.\u001b[39mkey \u001b[39mis\u001b[39;00m \u001b[39mnot\u001b[39;00m \u001b[39mNone\u001b[39;00m:\n\u001b[1;32m    813\u001b[0m     \u001b[39m# Add key to exclusions\u001b[39;00m\n\u001b[1;32m    814\u001b[0m     exclusions\u001b[39m.\u001b[39madd(gpr\u001b[39m.\u001b[39mkey)\n",
      "\u001b[0;31mKeyError\u001b[0m: 'substrate_conc_uM'"
     ]
    }
   ],
   "source": [
    "squeeze_kinetics = processing.squeeze_kinetics(kinetic_data, additional_columns=[])"
   ]
  },
  {
   "attachments": {},
   "cell_type": "markdown",
   "metadata": {},
   "source": [
    "\"Squeeze\" standard data to serialize standard concetrations. Plot representative standard curves"
   ]
  },
  {
   "cell_type": "code",
   "execution_count": 8,
   "metadata": {},
   "outputs": [
    {
     "data": {
      "text/html": [
       "<div>\n",
       "<style scoped>\n",
       "    .dataframe tbody tr th:only-of-type {\n",
       "        vertical-align: middle;\n",
       "    }\n",
       "\n",
       "    .dataframe tbody tr th {\n",
       "        vertical-align: top;\n",
       "    }\n",
       "\n",
       "    .dataframe thead th {\n",
       "        text-align: right;\n",
       "    }\n",
       "</style>\n",
       "<table border=\"1\" class=\"dataframe\">\n",
       "  <thead>\n",
       "    <tr style=\"text-align: right;\">\n",
       "      <th></th>\n",
       "      <th>x</th>\n",
       "      <th>y</th>\n",
       "      <th>Indices</th>\n",
       "      <th>standard_concentration_uM</th>\n",
       "      <th>standard_median_intensities</th>\n",
       "    </tr>\n",
       "  </thead>\n",
       "  <tbody>\n",
       "    <tr>\n",
       "      <th>0</th>\n",
       "      <td>1</td>\n",
       "      <td>1</td>\n",
       "      <td>01,01</td>\n",
       "      <td>[0, 6, 30, 75]</td>\n",
       "      <td>[6036, 11696, 23336, 24035]</td>\n",
       "    </tr>\n",
       "    <tr>\n",
       "      <th>1</th>\n",
       "      <td>1</td>\n",
       "      <td>2</td>\n",
       "      <td>01,02</td>\n",
       "      <td>[0, 6, 30, 75]</td>\n",
       "      <td>[6308, 12337, 24649, 25390]</td>\n",
       "    </tr>\n",
       "    <tr>\n",
       "      <th>2</th>\n",
       "      <td>1</td>\n",
       "      <td>3</td>\n",
       "      <td>01,03</td>\n",
       "      <td>[0, 6, 30, 75]</td>\n",
       "      <td>[6425, 12596, 25126, 25979]</td>\n",
       "    </tr>\n",
       "    <tr>\n",
       "      <th>3</th>\n",
       "      <td>1</td>\n",
       "      <td>4</td>\n",
       "      <td>01,04</td>\n",
       "      <td>[0, 6, 30, 75]</td>\n",
       "      <td>[6325, 12462, 24932, 25775]</td>\n",
       "    </tr>\n",
       "  </tbody>\n",
       "</table>\n",
       "</div>"
      ],
      "text/plain": [
       "   x  y Indices standard_concentration_uM  standard_median_intensities\n",
       "0  1  1   01,01            [0, 6, 30, 75]  [6036, 11696, 23336, 24035]\n",
       "1  1  2   01,02            [0, 6, 30, 75]  [6308, 12337, 24649, 25390]\n",
       "2  1  3   01,03            [0, 6, 30, 75]  [6425, 12596, 25126, 25979]\n",
       "3  1  4   01,04            [0, 6, 30, 75]  [6325, 12462, 24932, 25775]"
      ]
     },
     "metadata": {},
     "output_type": "display_data"
    },
    {
     "data": {
      "image/png": "[encoded data removed]",
      "text/plain": [
       "<Figure size 432x288 with 1 Axes>"
      ]
     },
     "metadata": {
      "needs_background": "light"
     },
     "output_type": "display_data"
    }
   ],
   "source": [
    "squeeze_standards = processing.squeeze_standard(standard_data)"
   ]
  },
  {
   "cell_type": "markdown",
   "metadata": {},
   "source": [
    "## Calculate enzyme concentration from eGFP fluorescence"
   ]
  },
  {
   "cell_type": "code",
   "execution_count": null,
   "metadata": {},
   "outputs": [],
   "source": [
    "squeeze_kinetics['EnzymeConc'] = squeeze_kinetics['summed_button_BGsub_Button_Quant']/egfp_slope"
   ]
  },
  {
   "cell_type": "markdown",
   "metadata": {},
   "source": [
    "## Fit PBP Standard Curves"
   ]
  },
  {
   "cell_type": "markdown",
   "metadata": {},
   "source": [
    "To fit the PBP standard curve, we need to optimize a nonlinear least squares fit based on the following single-site binding isotherm for the phosphate sensor:\n",
    "\n",
    "$I([Pi]) = 0.5A(KD +[Pi]+[PS]-\\sqrt{(KD +[PS]+[Pi])^2 - 4[PS][Pi]}) + I(0μM)$\n",
    "\n",
    "where $I([Pi])$ is the median fluorescence at a given $[Pi]$, $[PS]$ is the concentration of PBP, $K_D$ is the dissociation constant of Pi from PBP, $A$ is the scaling factor necessary to relate fraction PBP bound to observed fluorescence, and $I(0μM[Pi])$ is the median fluorescence intensity of PBP in the absence of added Pi."
   ]
  },
  {
   "cell_type": "markdown",
   "metadata": {},
   "source": [
    "To find product concentrations from measured intensities, we need to invert this isotherm. For this, we use the package `sympy`, which has a nice suite of tools for symbolic math."
   ]
  },
  {
   "cell_type": "code",
   "execution_count": null,
   "metadata": {},
   "outputs": [],
   "source": [
    "# A, KD, P_i, PS, I_0uMP_i, I_P_i = symbols('A KD P_i PS I_0uMP_i I_P_i')\n",
    "\n",
    "# isotherm_inverse = solve(0.5 * A * (KD + P_i + PS - ((KD + PS + P_i)**2 - 4*PS*P_i)**(1/2)) + I_0uMP_i - I_P_i, P_i)\n",
    "# print('Inverse of isotherm:', isotherm_inverse)"
   ]
  },
  {
   "cell_type": "markdown",
   "metadata": {},
   "source": [
    "If we would like to fit the inverse, we can simply copy this function into the following cell to perform the nonlinear least squares fit. Instead, we will densely interpolate the curve fits for each chamber and use the interpolations to approximate `[Pi]` concentration. The following function optimizes a least squares fit for each standard curve in each chamber and stores the optimum paramters as a list [`A, KD, PS, I_0uMP_i`] in the column `standard_popt`."
   ]
  },
  {
   "cell_type": "markdown",
   "metadata": {},
   "source": [
    "Now, let's check a few of the curve fits to make sure they look appropriate"
   ]
  },
  {
   "cell_type": "code",
   "execution_count": 9,
   "metadata": {},
   "outputs": [
    {
     "name": "stdout",
     "output_type": "stream",
     "text": [
      "Performing curve fits...\n",
      "Some curve fits may fail, this is expected and will be replaced with NaNs\n"
     ]
    },
    {
     "data": {
      "application/vnd.jupyter.widget-view+json": {
       "model_id": "07fd60229fff41f6b22ba8ec33fab23d",
       "version_major": 2,
       "version_minor": 0
      },
      "text/plain": [
       "VBox(children=(HBox(children=(IntProgress(value=0, description='0.00%', max=224), Label(value='0 / 224'))), HB…"
      ]
     },
     "metadata": {},
     "output_type": "display_data"
    },
    {
     "name": "stderr",
     "output_type": "stream",
     "text": [
      "/opt/anaconda3/envs/processing/lib/python3.8/site-packages/scipy/optimize/minpack.py:833: OptimizeWarning: Covariance of the parameters could not be estimated\n",
      "  warnings.warn('Covariance of the parameters could not be estimated',\n",
      "/opt/anaconda3/envs/processing/lib/python3.8/site-packages/scipy/optimize/minpack.py:833: OptimizeWarning: Covariance of the parameters could not be estimated\n",
      "  warnings.warn('Covariance of the parameters could not be estimated',\n",
      "/opt/anaconda3/envs/processing/lib/python3.8/site-packages/scipy/optimize/minpack.py:833: OptimizeWarning: Covariance of the parameters could not be estimated\n",
      "  warnings.warn('Covariance of the parameters could not be estimated',\n",
      "/opt/anaconda3/envs/processing/lib/python3.8/site-packages/scipy/optimize/minpack.py:833: OptimizeWarning: Covariance of the parameters could not be estimated\n",
      "  warnings.warn('Covariance of the parameters could not be estimated',\n",
      "/opt/anaconda3/envs/processing/lib/python3.8/site-packages/scipy/optimize/minpack.py:833: OptimizeWarning: Covariance of the parameters could not be estimated\n",
      "  warnings.warn('Covariance of the parameters could not be estimated',\n",
      "/opt/anaconda3/envs/processing/lib/python3.8/site-packages/scipy/optimize/minpack.py:833: OptimizeWarning: Covariance of the parameters could not be estimated\n",
      "  warnings.warn('Covariance of the parameters could not be estimated',\n",
      "/opt/anaconda3/envs/processing/lib/python3.8/site-packages/scipy/optimize/minpack.py:833: OptimizeWarning: Covariance of the parameters could not be estimated\n",
      "  warnings.warn('Covariance of the parameters could not be estimated',\n",
      "/opt/anaconda3/envs/processing/lib/python3.8/site-packages/scipy/optimize/minpack.py:833: OptimizeWarning: Covariance of the parameters could not be estimated\n",
      "  warnings.warn('Covariance of the parameters could not be estimated',\n"
     ]
    },
    {
     "data": {
      "image/png": "[encoded data removed]",
      "text/plain": [
       "<Figure size 864x216 with 4 Axes>"
      ]
     },
     "metadata": {
      "needs_background": "light"
     },
     "output_type": "display_data"
    }
   ],
   "source": [
    "squeeze_standards = processing.standard_curve_fit(squeeze_standards, standard_type='pbp')"
   ]
  },
  {
   "cell_type": "markdown",
   "metadata": {},
   "source": [
    "## Merge dataframes"
   ]
  },
  {
   "cell_type": "markdown",
   "metadata": {},
   "source": [
    "Next we merge the standard and kinetic data on the chamber Indices and substrate columns and convert the kinetic median intensities to product concentrations using the standard curve slope. To convert median assay intensities to product concentrations, we interpolate the curve fit and generate a lookup dictionary. This method should be replaced with a rigorous interpolation, but it will do for now."
   ]
  },
  {
   "cell_type": "code",
   "execution_count": 10,
   "metadata": {},
   "outputs": [
    {
     "name": "stdout",
     "output_type": "stream",
     "text": [
      "Calculating product concentrations...\n",
      "(If interpolating, this will take longer than the curve fitting step)\n"
     ]
    },
    {
     "data": {
      "application/vnd.jupyter.widget-view+json": {
       "model_id": "bd10807706264cc8932b17180f0ea0aa",
       "version_major": 2,
       "version_minor": 0
      },
      "text/plain": [
       "VBox(children=(HBox(children=(IntProgress(value=0, description='0.00%', max=896), Label(value='0 / 896'))), HB…"
      ]
     },
     "metadata": {},
     "output_type": "display_data"
    },
    {
     "name": "stdout",
     "output_type": "stream",
     "text": [
      "Curve fit failed for chamber: 01,56\n",
      "nan\n",
      "Curve fit failed for chamber: 01,56\n",
      "nan\n",
      "Curve fit failed for chamber: 01,56\n",
      "nan\n",
      "Curve fit failed for chamber: 01,56\n",
      "nan\n",
      "Curve fit failed for chamber: 26,02\n",
      "nan\n",
      "Curve fit failed for chamber: 26,02\n",
      "nan\n",
      "Curve fit failed for chamber: 26,02\n",
      "nan\n",
      "Curve fit failed for chamber: 26,02\n",
      "nan\n",
      "Curve fit failed for chamber: 26,27\n",
      "nan\n",
      "Curve fit failed for chamber: 26,27\n",
      "nan\n",
      "Curve fit failed for chamber: 26,27\n",
      "nan\n",
      "Curve fit failed for chamber: 26,27\n",
      "nan\n"
     ]
    },
    {
     "data": {
      "text/html": [
       "<div>\n",
       "<style scoped>\n",
       "    .dataframe tbody tr th:only-of-type {\n",
       "        vertical-align: middle;\n",
       "    }\n",
       "\n",
       "    .dataframe tbody tr th {\n",
       "        vertical-align: top;\n",
       "    }\n",
       "\n",
       "    .dataframe thead th {\n",
       "        text-align: right;\n",
       "    }\n",
       "</style>\n",
       "<table border=\"1\" class=\"dataframe\">\n",
       "  <thead>\n",
       "    <tr style=\"text-align: right;\">\n",
       "      <th></th>\n",
       "      <th>x</th>\n",
       "      <th>y</th>\n",
       "      <th>Indices</th>\n",
       "      <th>MutantID</th>\n",
       "      <th>substrate</th>\n",
       "      <th>substrate_conc_uM</th>\n",
       "      <th>summed_button_BGsub_Button_Quant</th>\n",
       "      <th>EDTA_conc_mM</th>\n",
       "      <th>time_s</th>\n",
       "      <th>kinetic_median_intensities</th>\n",
       "      <th>standard_concentration_uM</th>\n",
       "      <th>standard_median_intensities</th>\n",
       "      <th>standard_popt</th>\n",
       "      <th>kinetic_product_concentration_uM</th>\n",
       "    </tr>\n",
       "  </thead>\n",
       "  <tbody>\n",
       "    <tr>\n",
       "      <th>0</th>\n",
       "      <td>1</td>\n",
       "      <td>1</td>\n",
       "      <td>01,01</td>\n",
       "      <td>BLANK</td>\n",
       "      <td>ATP</td>\n",
       "      <td>25</td>\n",
       "      <td>131388</td>\n",
       "      <td>1</td>\n",
       "      <td>[0, 75, 150, 225, 300, 375, 450, 525, 600, 675...</td>\n",
       "      <td>[14305, 14281, 14296, 14281, 14290, 14237, 143...</td>\n",
       "      <td>[0, 6, 30, 75]</td>\n",
       "      <td>[6036, 11696, 23336, 24035]</td>\n",
       "      <td>[1321.8131942867924, 5.1241972842542225, 17.05...</td>\n",
       "      <td>[9.225, 9.1875, 9.225, 9.1875, 9.1875, 9.15, 9...</td>\n",
       "    </tr>\n",
       "  </tbody>\n",
       "</table>\n",
       "</div>"
      ],
      "text/plain": [
       "   x  y Indices MutantID substrate  substrate_conc_uM  \\\n",
       "0  1  1   01,01    BLANK       ATP                 25   \n",
       "\n",
       "   summed_button_BGsub_Button_Quant  EDTA_conc_mM  \\\n",
       "0                            131388             1   \n",
       "\n",
       "                                              time_s  \\\n",
       "0  [0, 75, 150, 225, 300, 375, 450, 525, 600, 675...   \n",
       "\n",
       "                          kinetic_median_intensities  \\\n",
       "0  [14305, 14281, 14296, 14281, 14290, 14237, 143...   \n",
       "\n",
       "  standard_concentration_uM  standard_median_intensities  \\\n",
       "0            [0, 6, 30, 75]  [6036, 11696, 23336, 24035]   \n",
       "\n",
       "                                       standard_popt  \\\n",
       "0  [1321.8131942867924, 5.1241972842542225, 17.05...   \n",
       "\n",
       "                    kinetic_product_concentration_uM  \n",
       "0  [9.225, 9.1875, 9.225, 9.1875, 9.1875, 9.15, 9...  "
      ]
     },
     "execution_count": 10,
     "metadata": {},
     "output_type": "execute_result"
    }
   ],
   "source": [
    "sq_merged = processing.merge_and_get_product_concs(squeeze_kinetics, squeeze_standards, standard_type='pbp')\n",
    "sq_merged.head(1)"
   ]
  },
  {
   "cell_type": "code",
   "execution_count": 11,
   "metadata": {},
   "outputs": [
    {
     "data": {
      "text/plain": [
       "array([1, 0])"
      ]
     },
     "execution_count": 11,
     "metadata": {},
     "output_type": "execute_result"
    }
   ],
   "source": [
    "sq_merged['EDTA_conc_mM'].unique()"
   ]
  },
  {
   "cell_type": "markdown",
   "id": "eee7397b",
   "metadata": {},
   "source": [
    "# Manual eGFP Flagging (only for [E] above the background)"
   ]
  },
  {
   "cell_type": "code",
   "execution_count": null,
   "id": "e144553d",
   "metadata": {},
   "outputs": [],
   "source": [
    "# Point to directory for culling record export\n",
    "culling_export_directory = '/Users/micaholivas/Desktop/Stanford/Research/Projects/Salesforce_Progen_Predictions/Small_ACYP_Library/4_Experiments/230207/Interpretation'\n",
    "\n",
    "# Initialize row and column numbers\n",
    "NUM_ROWS = 56\n",
    "NUM_COLS = 32\n",
    "\n",
    "# Create button grid and display\n",
    "button_grid, flagged_set, button_stamps = processing.manual_culling(sq_merged, egfp_button_summary_image_path, NUM_ROWS, NUM_COLS, culling_export_directory)\n",
    "display(button_grid)"
   ]
  },
  {
   "attachments": {},
   "cell_type": "markdown",
   "metadata": {},
   "source": [
    "Close button finder, then add culling flag to merged DataFrame and export culling record"
   ]
  },
  {
   "cell_type": "code",
   "execution_count": null,
   "id": "7ef23ce0",
   "metadata": {},
   "outputs": [],
   "source": [
    "# close button grid if variable exists\n",
    "if type(button_grid) == type(None):\n",
    "    pass\n",
    "else:\n",
    "    button_grid.close()\n",
    "\n",
    "# Update sq_merged with flagged chambers and export culling record\n",
    "sq_merged = processing.handle_flagged_chambers(sq_merged, flagged_set, culling_export_directory)"
   ]
  },
  {
   "attachments": {},
   "cell_type": "markdown",
   "metadata": {},
   "source": [
    "# Calculate initial rates\n",
    "To calculate initial rates for each substrate condition, we apply an algorithm adapted from page 27 of the SI in Markin, Mokhtari et al. 2020"
   ]
  },
  {
   "cell_type": "code",
   "execution_count": null,
   "metadata": {},
   "outputs": [],
   "source": [
    "sq_merged = processing.get_initial_rates(sq_merged, pbp_conc=30)"
   ]
  },
  {
   "cell_type": "markdown",
   "metadata": {},
   "source": [
    "# Michaelis-Menten curve fitting"
   ]
  },
  {
   "attachments": {},
   "cell_type": "markdown",
   "metadata": {},
   "source": [
    "To perform the fitting, we apply another \"squeeze\" to create columns for the substrate concentration series and initial rate series. Scale initial rates by enzyme concentration. If there is no measurement for a zero substrate condition, a zero placeholder is added to the beginning of the substrate conc and initial rate lists."
   ]
  },
  {
   "cell_type": "code",
   "execution_count": null,
   "metadata": {},
   "outputs": [],
   "source": [
    "squeeze_mm = processing.fit_michaelis_menten(sq_merged, exclude_concs=None)"
   ]
  },
  {
   "attachments": {},
   "cell_type": "markdown",
   "metadata": {},
   "source": [
    "# Inhibition "
   ]
  },
  {
   "cell_type": "code",
   "execution_count": null,
   "metadata": {},
   "outputs": [],
   "source": [
    "# constant substrate concentration with increasing inhibitor concentration\n",
    "# should be similar to unfolding curves (normalize to 0uM inhibitor and plot y axis in linear scale)\n"
   ]
  },
  {
   "cell_type": "markdown",
   "metadata": {},
   "source": [
    "# Calculate local background ratio\n",
    "Add as a row in the by-chamber, by-substrate concentration dataframe, then squeeze into a list in the MM dataframe "
   ]
  },
  {
   "cell_type": "markdown",
   "metadata": {},
   "source": [
    "Next, iterate row-wise across the dataframe and compute the local background ratio. This algorithm is as follows: \n",
    "    1. for each chamber, store the intial rate for the highest substrate concentration condition\n",
    "    2. coerce all rates below 0.00001 to zero\n",
    "    3. store the rates in the above and below chambers\n",
    "        2.1. \n",
    "        2.2. average rates"
   ]
  },
  {
   "cell_type": "code",
   "execution_count": null,
   "metadata": {},
   "outputs": [],
   "source": [
    "squeeze_mm, sq_merged = processing.calculate_local_bg_ratio(squeeze_mm, sq_merged, device_rows=device_rows, exclude_concs=[100, 75])\n",
    "squeeze_mm.head(5)"
   ]
  },
  {
   "cell_type": "markdown",
   "metadata": {},
   "source": [
    "# Print PDFs"
   ]
  },
  {
   "attachments": {},
   "cell_type": "markdown",
   "metadata": {},
   "source": [
    "Generate one experiment-level summary PDF and one PDF per chamber with the following plots:\n",
    "1. **Progress curves** for each substrate condition with linear initial rate fits\n",
    "2. **Standard curve** \n",
    "4. **Michaelis-Menten fits** to each substrate condition\n",
    "\n",
    "PDFs are exported to a `PDF` directory in the specified export directory."
   ]
  },
  {
   "cell_type": "code",
   "execution_count": null,
   "metadata": {},
   "outputs": [],
   "source": [
    "processing.plot_chip_summary(squeeze_mm=squeeze_mm, sq_merged=sq_merged, squeeze_standards=squeeze_standards, squeeze_kinetics=squeeze_kinetics, button_stamps=button_stamps, device_columns=device_columns, device_rows=device_rows, export_path_root=export_path_root, experimental_day=experimental_day, experiment_name=experiment_name, exclude_concs=[])"
   ]
  },
  {
   "cell_type": "markdown",
   "metadata": {},
   "source": [
    "#### Merge PDFs"
   ]
  },
  {
   "cell_type": "code",
   "execution_count": null,
   "metadata": {},
   "outputs": [],
   "source": [
    "processing.merge_pdfs(export_path_root=export_path_root)"
   ]
  },
  {
   "cell_type": "markdown",
   "metadata": {},
   "source": [
    "# Export Data"
   ]
  },
  {
   "cell_type": "code",
   "execution_count": null,
   "metadata": {},
   "outputs": [],
   "source": [
    "processing.export_data(sq_merged, sq_merged, export_path_root, experimental_day, setup, device, substrate='Multiple Substrates', experiment_name=experiment_name)"
   ]
  },
  {
   "cell_type": "code",
   "execution_count": null,
   "metadata": {},
   "outputs": [],
   "source": [
    "sq_merged['EDTA_conc_mM'].unique()"
   ]
  },
  {
   "cell_type": "code",
   "execution_count": 12,
   "metadata": {},
   "outputs": [],
   "source": [
    "import pandas as pd\n",
    "\n",
    "# export data to csv\n",
    "sq_merged.to_csv(export_path_root + '/' + experimental_day + '_' + setup + '_' + device + '_' + experiment_name + '_sq_merged.csv')"
   ]
  }
 ],
 "metadata": {
  "kernelspec": {
   "display_name": "Python 3 (ipykernel)",
   "language": "python",
   "name": "python3"
  },
  "language_info": {
   "codemirror_mode": {
    "name": "ipython",
    "version": 3
   },
   "file_extension": ".py",
   "mimetype": "text/x-python",
   "name": "python",
   "nbconvert_exporter": "python",
   "pygments_lexer": "ipython3",
   "version": "3.8.13"
  },
  "vscode": {
   "interpreter": {
    "hash": "7d554d675da1053c03ba9b4c925194630c0caa9904242dfd9f793ca6ca18d72e"
   }
  }
 },
 "nbformat": 4,
 "nbformat_minor": 2
}

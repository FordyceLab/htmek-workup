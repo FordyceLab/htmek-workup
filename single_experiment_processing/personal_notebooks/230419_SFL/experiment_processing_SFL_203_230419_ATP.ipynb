{
 "cells": [
  {
   "cell_type": "markdown",
   "metadata": {},
   "source": [
    "# HT-MEK Data Processing Workbook\n",
    "Author: Micah Olivas"
   ]
  },
  {
   "cell_type": "code",
   "execution_count": 1,
   "metadata": {},
   "outputs": [
    {
     "name": "stdout",
     "output_type": "stream",
     "text": [
      "INFO: Pandarallel will run on 8 workers.\n",
      "INFO: Pandarallel will use standard multiprocessing data transfer (pipe) to transfer data between the main process and workers.\n"
     ]
    }
   ],
   "source": [
    "# This will autoreload imported modules\n",
    "%load_ext autoreload\n",
    "%autoreload 2\n",
    "\n",
    "# Import modules\n",
    "from experiment_processing import processing\n",
    "\n",
    "# Set up parallel processing\n",
    "from pandarallel import pandarallel\n",
    "processing.pandarallel.initialize(progress_bar=True)"
   ]
  },
  {
   "cell_type": "markdown",
   "metadata": {},
   "source": [
    "# Import kinetic and standard series data"
   ]
  },
  {
   "cell_type": "markdown",
   "metadata": {},
   "source": [
    "Read raw kinetic and standards data with Pandas"
   ]
  },
  {
   "cell_type": "code",
   "execution_count": 2,
   "metadata": {},
   "outputs": [
    {
     "data": {
      "text/html": [
       "<div>\n",
       "<style scoped>\n",
       "    .dataframe tbody tr th:only-of-type {\n",
       "        vertical-align: middle;\n",
       "    }\n",
       "\n",
       "    .dataframe tbody tr th {\n",
       "        vertical-align: top;\n",
       "    }\n",
       "\n",
       "    .dataframe thead th {\n",
       "        text-align: right;\n",
       "    }\n",
       "</style>\n",
       "<table border=\"1\" class=\"dataframe\">\n",
       "  <thead>\n",
       "    <tr style=\"text-align: right;\">\n",
       "      <th></th>\n",
       "      <th>x</th>\n",
       "      <th>y</th>\n",
       "      <th>median_chamber</th>\n",
       "      <th>sum_chamber</th>\n",
       "      <th>std_chamber</th>\n",
       "      <th>x_center_chamber</th>\n",
       "      <th>y_center_chamber</th>\n",
       "      <th>radius_chamber</th>\n",
       "      <th>xslice</th>\n",
       "      <th>yslice</th>\n",
       "      <th>...</th>\n",
       "      <th>radius_button_disk_Button_Quant</th>\n",
       "      <th>median_button_annulus_Button_Quant</th>\n",
       "      <th>summed_button_annulus_normed_Button_Quant</th>\n",
       "      <th>std_button_annulus_localBG_Button_Quant</th>\n",
       "      <th>inner_radius_button_annulus_Button_Quant</th>\n",
       "      <th>outer_radius_button_annulus_Button_Quant</th>\n",
       "      <th>xslice_Button_Quant</th>\n",
       "      <th>yslice_Button_Quant</th>\n",
       "      <th>id_Button_Quant</th>\n",
       "      <th>series_index</th>\n",
       "    </tr>\n",
       "  </thead>\n",
       "  <tbody>\n",
       "    <tr>\n",
       "      <th>0</th>\n",
       "      <td>1</td>\n",
       "      <td>1</td>\n",
       "      <td>6993</td>\n",
       "      <td>22225843</td>\n",
       "      <td>1517</td>\n",
       "      <td>49</td>\n",
       "      <td>41</td>\n",
       "      <td>33</td>\n",
       "      <td>(392, 492)</td>\n",
       "      <td>(442, 542)</td>\n",
       "      <td>...</td>\n",
       "      <td>15</td>\n",
       "      <td>5951</td>\n",
       "      <td>4220914</td>\n",
       "      <td>126</td>\n",
       "      <td>15</td>\n",
       "      <td>15</td>\n",
       "      <td>(392, 492)</td>\n",
       "      <td>(442, 542)</td>\n",
       "      <td>1C8_phorikoshii_pross_2</td>\n",
       "      <td>50uM_ATP_d2</td>\n",
       "    </tr>\n",
       "    <tr>\n",
       "      <th>1</th>\n",
       "      <td>1</td>\n",
       "      <td>1</td>\n",
       "      <td>6470</td>\n",
       "      <td>20690315</td>\n",
       "      <td>1336</td>\n",
       "      <td>49</td>\n",
       "      <td>41</td>\n",
       "      <td>33</td>\n",
       "      <td>(392, 492)</td>\n",
       "      <td>(442, 542)</td>\n",
       "      <td>...</td>\n",
       "      <td>15</td>\n",
       "      <td>5951</td>\n",
       "      <td>4220914</td>\n",
       "      <td>126</td>\n",
       "      <td>15</td>\n",
       "      <td>15</td>\n",
       "      <td>(392, 492)</td>\n",
       "      <td>(442, 542)</td>\n",
       "      <td>1C8_phorikoshii_pross_2</td>\n",
       "      <td>50uM_ATP_d2</td>\n",
       "    </tr>\n",
       "    <tr>\n",
       "      <th>2</th>\n",
       "      <td>1</td>\n",
       "      <td>1</td>\n",
       "      <td>7537</td>\n",
       "      <td>23804916</td>\n",
       "      <td>1719</td>\n",
       "      <td>49</td>\n",
       "      <td>41</td>\n",
       "      <td>33</td>\n",
       "      <td>(392, 492)</td>\n",
       "      <td>(442, 542)</td>\n",
       "      <td>...</td>\n",
       "      <td>15</td>\n",
       "      <td>5951</td>\n",
       "      <td>4220914</td>\n",
       "      <td>126</td>\n",
       "      <td>15</td>\n",
       "      <td>15</td>\n",
       "      <td>(392, 492)</td>\n",
       "      <td>(442, 542)</td>\n",
       "      <td>1C8_phorikoshii_pross_2</td>\n",
       "      <td>50uM_ATP_d2</td>\n",
       "    </tr>\n",
       "    <tr>\n",
       "      <th>3</th>\n",
       "      <td>1</td>\n",
       "      <td>1</td>\n",
       "      <td>9221</td>\n",
       "      <td>28367873</td>\n",
       "      <td>2433</td>\n",
       "      <td>49</td>\n",
       "      <td>41</td>\n",
       "      <td>33</td>\n",
       "      <td>(392, 492)</td>\n",
       "      <td>(442, 542)</td>\n",
       "      <td>...</td>\n",
       "      <td>15</td>\n",
       "      <td>5951</td>\n",
       "      <td>4220914</td>\n",
       "      <td>126</td>\n",
       "      <td>15</td>\n",
       "      <td>15</td>\n",
       "      <td>(392, 492)</td>\n",
       "      <td>(442, 542)</td>\n",
       "      <td>1C8_phorikoshii_pross_2</td>\n",
       "      <td>50uM_ATP_d2</td>\n",
       "    </tr>\n",
       "    <tr>\n",
       "      <th>4</th>\n",
       "      <td>1</td>\n",
       "      <td>1</td>\n",
       "      <td>6834</td>\n",
       "      <td>21720493</td>\n",
       "      <td>1453</td>\n",
       "      <td>49</td>\n",
       "      <td>41</td>\n",
       "      <td>33</td>\n",
       "      <td>(392, 492)</td>\n",
       "      <td>(442, 542)</td>\n",
       "      <td>...</td>\n",
       "      <td>15</td>\n",
       "      <td>5951</td>\n",
       "      <td>4220914</td>\n",
       "      <td>126</td>\n",
       "      <td>15</td>\n",
       "      <td>15</td>\n",
       "      <td>(392, 492)</td>\n",
       "      <td>(442, 542)</td>\n",
       "      <td>1C8_phorikoshii_pross_2</td>\n",
       "      <td>50uM_ATP_d2</td>\n",
       "    </tr>\n",
       "  </tbody>\n",
       "</table>\n",
       "<p>5 rows × 28 columns</p>\n",
       "</div>"
      ],
      "text/plain": [
       "   x  y  median_chamber  sum_chamber  std_chamber  x_center_chamber  \\\n",
       "0  1  1            6993     22225843         1517                49   \n",
       "1  1  1            6470     20690315         1336                49   \n",
       "2  1  1            7537     23804916         1719                49   \n",
       "3  1  1            9221     28367873         2433                49   \n",
       "4  1  1            6834     21720493         1453                49   \n",
       "\n",
       "   y_center_chamber  radius_chamber      xslice      yslice  ...  \\\n",
       "0                41              33  (392, 492)  (442, 542)  ...   \n",
       "1                41              33  (392, 492)  (442, 542)  ...   \n",
       "2                41              33  (392, 492)  (442, 542)  ...   \n",
       "3                41              33  (392, 492)  (442, 542)  ...   \n",
       "4                41              33  (392, 492)  (442, 542)  ...   \n",
       "\n",
       "  radius_button_disk_Button_Quant  median_button_annulus_Button_Quant  \\\n",
       "0                              15                                5951   \n",
       "1                              15                                5951   \n",
       "2                              15                                5951   \n",
       "3                              15                                5951   \n",
       "4                              15                                5951   \n",
       "\n",
       "   summed_button_annulus_normed_Button_Quant  \\\n",
       "0                                    4220914   \n",
       "1                                    4220914   \n",
       "2                                    4220914   \n",
       "3                                    4220914   \n",
       "4                                    4220914   \n",
       "\n",
       "   std_button_annulus_localBG_Button_Quant  \\\n",
       "0                                      126   \n",
       "1                                      126   \n",
       "2                                      126   \n",
       "3                                      126   \n",
       "4                                      126   \n",
       "\n",
       "   inner_radius_button_annulus_Button_Quant  \\\n",
       "0                                        15   \n",
       "1                                        15   \n",
       "2                                        15   \n",
       "3                                        15   \n",
       "4                                        15   \n",
       "\n",
       "   outer_radius_button_annulus_Button_Quant  xslice_Button_Quant  \\\n",
       "0                                        15           (392, 492)   \n",
       "1                                        15           (392, 492)   \n",
       "2                                        15           (392, 492)   \n",
       "3                                        15           (392, 492)   \n",
       "4                                        15           (392, 492)   \n",
       "\n",
       "   yslice_Button_Quant          id_Button_Quant  series_index  \n",
       "0           (442, 542)  1C8_phorikoshii_pross_2   50uM_ATP_d2  \n",
       "1           (442, 542)  1C8_phorikoshii_pross_2   50uM_ATP_d2  \n",
       "2           (442, 542)  1C8_phorikoshii_pross_2   50uM_ATP_d2  \n",
       "3           (442, 542)  1C8_phorikoshii_pross_2   50uM_ATP_d2  \n",
       "4           (442, 542)  1C8_phorikoshii_pross_2   50uM_ATP_d2  \n",
       "\n",
       "[5 rows x 28 columns]"
      ]
     },
     "execution_count": 2,
     "metadata": {},
     "output_type": "execute_result"
    }
   ],
   "source": [
    "# csv of kinetic data from processing notebook\n",
    "kinetic_data_path = '/Volumes/Micah_Data/HT-MEK_data/ACYP/230415_SFL_ACYPs/Assays/ATP/d2_TitrationSeries_Analysis.csv.bz2'\n",
    "\n",
    "# csv of standard data from processing notebook\n",
    "standard_data_path = '/Volumes/Micah_Data/HT-MEK_data/ACYP/230415_SFL_ACYPs/Standards/Analysis/d2_pbp_StandardSeries_Analysis.csv.bz2'\n",
    "\n",
    "# csv of egfp data from processing notebook\n",
    "egfp_data_path = '/Volumes/Micah_Data/HT-MEK_data/ACYP/230415_SFL_ACYPs/egfp/StitchedImagesGFP_Summary.csv.bz2'\n",
    "\n",
    "# path to egfp summary image for image segmentation and manual chamber culling\n",
    "egfp_button_summary_image_path = '/Volumes/Micah_Data/HT-MEK_data/ACYP/230415_SFL_ACYPs/egfp/20230416-193203-d2_egfp_post_binding_quant/egfp/StitchedImages/SummaryImages/Summary_StitchedImg_100_egfp_0.tif'\n",
    "\n",
    "# path to the folder where you want to save the exported data\n",
    "export_path_root = \"/Volumes/Micah_Data/HT-MEK_data/ACYP/230415_SFL_ACYPs/Interpretation\"\n",
    "\n",
    "\n",
    "\n",
    "# experiment information\n",
    "experimental_day = '230419'\n",
    "experiment_name = 'AcyP_SFL_203'\n",
    "setup = 'S2'\n",
    "device = 'd2'\n",
    "egfp_slope = 188847\n",
    "substrate = 'ATP'\n",
    "pbp_conc = 30\n",
    "all_substrate_concs = [50, 100, 250, 500]\n",
    "device_columns = 32\n",
    "device_rows = 56\n",
    "\n",
    "\n",
    "\n",
    "# Create dataframes for kinetic and standard series\n",
    "kinetic_data = processing.pd.read_csv(kinetic_data_path)\n",
    "standard_data = processing.pd.read_csv(standard_data_path)\n",
    "egfp_data = processing.pd.read_csv(egfp_data_path)\n",
    "standard_data = standard_data.dropna()\n",
    "export_path_root = export_path_root + '/' + substrate\n",
    "\n",
    "\n",
    "# Print kinetic data head\n",
    "kinetic_data.head()"
   ]
  },
  {
   "attachments": {},
   "cell_type": "markdown",
   "metadata": {},
   "source": [
    "**Development**: Extract assay data from series index; if you don't want to use this, comment out the next cell."
   ]
  },
  {
   "cell_type": "code",
   "execution_count": 3,
   "metadata": {},
   "outputs": [
    {
     "data": {
      "text/html": [
       "<div>\n",
       "<style scoped>\n",
       "    .dataframe tbody tr th:only-of-type {\n",
       "        vertical-align: middle;\n",
       "    }\n",
       "\n",
       "    .dataframe tbody tr th {\n",
       "        vertical-align: top;\n",
       "    }\n",
       "\n",
       "    .dataframe thead th {\n",
       "        text-align: right;\n",
       "    }\n",
       "</style>\n",
       "<table border=\"1\" class=\"dataframe\">\n",
       "  <thead>\n",
       "    <tr style=\"text-align: right;\">\n",
       "      <th></th>\n",
       "      <th>x</th>\n",
       "      <th>y</th>\n",
       "      <th>median_chamber</th>\n",
       "      <th>sum_chamber</th>\n",
       "      <th>std_chamber</th>\n",
       "      <th>x_center_chamber</th>\n",
       "      <th>y_center_chamber</th>\n",
       "      <th>radius_chamber</th>\n",
       "      <th>xslice</th>\n",
       "      <th>yslice</th>\n",
       "      <th>...</th>\n",
       "      <th>summed_button_annulus_normed_Button_Quant</th>\n",
       "      <th>std_button_annulus_localBG_Button_Quant</th>\n",
       "      <th>inner_radius_button_annulus_Button_Quant</th>\n",
       "      <th>outer_radius_button_annulus_Button_Quant</th>\n",
       "      <th>xslice_Button_Quant</th>\n",
       "      <th>yslice_Button_Quant</th>\n",
       "      <th>id_Button_Quant</th>\n",
       "      <th>series_index</th>\n",
       "      <th>substrate_conc_uM</th>\n",
       "      <th>substrate</th>\n",
       "    </tr>\n",
       "  </thead>\n",
       "  <tbody>\n",
       "    <tr>\n",
       "      <th>0</th>\n",
       "      <td>1</td>\n",
       "      <td>1</td>\n",
       "      <td>6993</td>\n",
       "      <td>22225843</td>\n",
       "      <td>1517</td>\n",
       "      <td>49</td>\n",
       "      <td>41</td>\n",
       "      <td>33</td>\n",
       "      <td>(392, 492)</td>\n",
       "      <td>(442, 542)</td>\n",
       "      <td>...</td>\n",
       "      <td>4220914</td>\n",
       "      <td>126</td>\n",
       "      <td>15</td>\n",
       "      <td>15</td>\n",
       "      <td>(392, 492)</td>\n",
       "      <td>(442, 542)</td>\n",
       "      <td>1C8_phorikoshii_pross_2</td>\n",
       "      <td>50uM_ATP_d2</td>\n",
       "      <td>50</td>\n",
       "      <td>ATP</td>\n",
       "    </tr>\n",
       "    <tr>\n",
       "      <th>1</th>\n",
       "      <td>1</td>\n",
       "      <td>1</td>\n",
       "      <td>6470</td>\n",
       "      <td>20690315</td>\n",
       "      <td>1336</td>\n",
       "      <td>49</td>\n",
       "      <td>41</td>\n",
       "      <td>33</td>\n",
       "      <td>(392, 492)</td>\n",
       "      <td>(442, 542)</td>\n",
       "      <td>...</td>\n",
       "      <td>4220914</td>\n",
       "      <td>126</td>\n",
       "      <td>15</td>\n",
       "      <td>15</td>\n",
       "      <td>(392, 492)</td>\n",
       "      <td>(442, 542)</td>\n",
       "      <td>1C8_phorikoshii_pross_2</td>\n",
       "      <td>50uM_ATP_d2</td>\n",
       "      <td>50</td>\n",
       "      <td>ATP</td>\n",
       "    </tr>\n",
       "    <tr>\n",
       "      <th>2</th>\n",
       "      <td>1</td>\n",
       "      <td>1</td>\n",
       "      <td>7537</td>\n",
       "      <td>23804916</td>\n",
       "      <td>1719</td>\n",
       "      <td>49</td>\n",
       "      <td>41</td>\n",
       "      <td>33</td>\n",
       "      <td>(392, 492)</td>\n",
       "      <td>(442, 542)</td>\n",
       "      <td>...</td>\n",
       "      <td>4220914</td>\n",
       "      <td>126</td>\n",
       "      <td>15</td>\n",
       "      <td>15</td>\n",
       "      <td>(392, 492)</td>\n",
       "      <td>(442, 542)</td>\n",
       "      <td>1C8_phorikoshii_pross_2</td>\n",
       "      <td>50uM_ATP_d2</td>\n",
       "      <td>50</td>\n",
       "      <td>ATP</td>\n",
       "    </tr>\n",
       "    <tr>\n",
       "      <th>3</th>\n",
       "      <td>1</td>\n",
       "      <td>1</td>\n",
       "      <td>9221</td>\n",
       "      <td>28367873</td>\n",
       "      <td>2433</td>\n",
       "      <td>49</td>\n",
       "      <td>41</td>\n",
       "      <td>33</td>\n",
       "      <td>(392, 492)</td>\n",
       "      <td>(442, 542)</td>\n",
       "      <td>...</td>\n",
       "      <td>4220914</td>\n",
       "      <td>126</td>\n",
       "      <td>15</td>\n",
       "      <td>15</td>\n",
       "      <td>(392, 492)</td>\n",
       "      <td>(442, 542)</td>\n",
       "      <td>1C8_phorikoshii_pross_2</td>\n",
       "      <td>50uM_ATP_d2</td>\n",
       "      <td>50</td>\n",
       "      <td>ATP</td>\n",
       "    </tr>\n",
       "    <tr>\n",
       "      <th>4</th>\n",
       "      <td>1</td>\n",
       "      <td>1</td>\n",
       "      <td>6834</td>\n",
       "      <td>21720493</td>\n",
       "      <td>1453</td>\n",
       "      <td>49</td>\n",
       "      <td>41</td>\n",
       "      <td>33</td>\n",
       "      <td>(392, 492)</td>\n",
       "      <td>(442, 542)</td>\n",
       "      <td>...</td>\n",
       "      <td>4220914</td>\n",
       "      <td>126</td>\n",
       "      <td>15</td>\n",
       "      <td>15</td>\n",
       "      <td>(392, 492)</td>\n",
       "      <td>(442, 542)</td>\n",
       "      <td>1C8_phorikoshii_pross_2</td>\n",
       "      <td>50uM_ATP_d2</td>\n",
       "      <td>50</td>\n",
       "      <td>ATP</td>\n",
       "    </tr>\n",
       "  </tbody>\n",
       "</table>\n",
       "<p>5 rows × 30 columns</p>\n",
       "</div>"
      ],
      "text/plain": [
       "   x  y  median_chamber  sum_chamber  std_chamber  x_center_chamber  \\\n",
       "0  1  1            6993     22225843         1517                49   \n",
       "1  1  1            6470     20690315         1336                49   \n",
       "2  1  1            7537     23804916         1719                49   \n",
       "3  1  1            9221     28367873         2433                49   \n",
       "4  1  1            6834     21720493         1453                49   \n",
       "\n",
       "   y_center_chamber  radius_chamber      xslice      yslice  ...  \\\n",
       "0                41              33  (392, 492)  (442, 542)  ...   \n",
       "1                41              33  (392, 492)  (442, 542)  ...   \n",
       "2                41              33  (392, 492)  (442, 542)  ...   \n",
       "3                41              33  (392, 492)  (442, 542)  ...   \n",
       "4                41              33  (392, 492)  (442, 542)  ...   \n",
       "\n",
       "  summed_button_annulus_normed_Button_Quant  \\\n",
       "0                                   4220914   \n",
       "1                                   4220914   \n",
       "2                                   4220914   \n",
       "3                                   4220914   \n",
       "4                                   4220914   \n",
       "\n",
       "   std_button_annulus_localBG_Button_Quant  \\\n",
       "0                                      126   \n",
       "1                                      126   \n",
       "2                                      126   \n",
       "3                                      126   \n",
       "4                                      126   \n",
       "\n",
       "   inner_radius_button_annulus_Button_Quant  \\\n",
       "0                                        15   \n",
       "1                                        15   \n",
       "2                                        15   \n",
       "3                                        15   \n",
       "4                                        15   \n",
       "\n",
       "   outer_radius_button_annulus_Button_Quant  xslice_Button_Quant  \\\n",
       "0                                        15           (392, 492)   \n",
       "1                                        15           (392, 492)   \n",
       "2                                        15           (392, 492)   \n",
       "3                                        15           (392, 492)   \n",
       "4                                        15           (392, 492)   \n",
       "\n",
       "   yslice_Button_Quant          id_Button_Quant  series_index  \\\n",
       "0           (442, 542)  1C8_phorikoshii_pross_2   50uM_ATP_d2   \n",
       "1           (442, 542)  1C8_phorikoshii_pross_2   50uM_ATP_d2   \n",
       "2           (442, 542)  1C8_phorikoshii_pross_2   50uM_ATP_d2   \n",
       "3           (442, 542)  1C8_phorikoshii_pross_2   50uM_ATP_d2   \n",
       "4           (442, 542)  1C8_phorikoshii_pross_2   50uM_ATP_d2   \n",
       "\n",
       "   substrate_conc_uM  substrate  \n",
       "0                 50        ATP  \n",
       "1                 50        ATP  \n",
       "2                 50        ATP  \n",
       "3                 50        ATP  \n",
       "4                 50        ATP  \n",
       "\n",
       "[5 rows x 30 columns]"
      ]
     },
     "execution_count": 3,
     "metadata": {},
     "output_type": "execute_result"
    }
   ],
   "source": [
    "# use regex pattern to extract substrate and condition concentrations from the series_index string such as '25uM_ATP_1mM_EDTA'\n",
    "tags = ['substrate_conc_uM', 'substrate']\n",
    "series_index_pattern = r'(?P<%s>\\d+)uM_(?P<%s>\\w+)_' % (tags[0], tags[1])\n",
    "\n",
    "# replace the sequence \"no\" in the series_index column with \"0\" to make it easier to convert to numeric\n",
    "kinetic_data['series_index'] = kinetic_data['series_index'].str.replace('no', '0mM')\n",
    "\n",
    "# apply regex pattern to each string in the \"text\" column and create new columns\n",
    "kinetic_data['series_index'].str.extract(series_index_pattern)\n",
    "\n",
    "# extract the new columns from the regex pattern and convert numeric columns to float\n",
    "kinetic_data[tags] = kinetic_data['series_index'].str.extract(series_index_pattern)\n",
    "kinetic_data[tags] = kinetic_data[tags].apply(processing.pd.to_numeric, errors='ignore')\n",
    "kinetic_data.head()"
   ]
  },
  {
   "cell_type": "code",
   "execution_count": 4,
   "metadata": {},
   "outputs": [],
   "source": [
    "# Format all dataframes\n",
    "standard_data, kinetic_data = processing.format_data(standard_data=standard_data, kinetic_data=kinetic_data, egfp_data=egfp_data)"
   ]
  },
  {
   "cell_type": "markdown",
   "metadata": {},
   "source": [
    "## \"Squeeze\" DataFrames"
   ]
  },
  {
   "cell_type": "markdown",
   "metadata": {},
   "source": [
    "At this point, our DataFrames are in a long format: each row of kinetic_data corresponds to an individual timepoint in the kinetic assays, while each row of standard_data corresponds to an individual standard concentration. To support vectorized curve fitting operations later, we want to flatten or \"squeeze\" rows of each DataFrame into series (e.g. time, intensity, standard concentration) by chamber."
   ]
  },
  {
   "cell_type": "code",
   "execution_count": 5,
   "metadata": {},
   "outputs": [],
   "source": [
    "kinetic_data['MutantID'] = kinetic_data['id'].astype(str)"
   ]
  },
  {
   "cell_type": "code",
   "execution_count": 6,
   "metadata": {},
   "outputs": [
    {
     "data": {
      "text/html": [
       "<div>\n",
       "<style scoped>\n",
       "    .dataframe tbody tr th:only-of-type {\n",
       "        vertical-align: middle;\n",
       "    }\n",
       "\n",
       "    .dataframe tbody tr th {\n",
       "        vertical-align: top;\n",
       "    }\n",
       "\n",
       "    .dataframe thead th {\n",
       "        text-align: right;\n",
       "    }\n",
       "</style>\n",
       "<table border=\"1\" class=\"dataframe\">\n",
       "  <thead>\n",
       "    <tr style=\"text-align: right;\">\n",
       "      <th></th>\n",
       "      <th>x</th>\n",
       "      <th>y</th>\n",
       "      <th>Indices</th>\n",
       "      <th>MutantID</th>\n",
       "      <th>substrate</th>\n",
       "      <th>substrate_conc_uM</th>\n",
       "      <th>summed_button_BGsub_Button_Quant</th>\n",
       "      <th>time_s</th>\n",
       "      <th>kinetic_median_intensities</th>\n",
       "    </tr>\n",
       "  </thead>\n",
       "  <tbody>\n",
       "    <tr>\n",
       "      <th>0</th>\n",
       "      <td>1</td>\n",
       "      <td>1</td>\n",
       "      <td>01,01</td>\n",
       "      <td>1C8_phorikoshii_pross_2</td>\n",
       "      <td>ATP</td>\n",
       "      <td>50</td>\n",
       "      <td>5252210</td>\n",
       "      <td>[0, 75, 150, 225, 300, 375, 450, 525, 600, 675...</td>\n",
       "      <td>[6208, 6306, 6365, 6470, 6541, 6654, 6747, 683...</td>\n",
       "    </tr>\n",
       "    <tr>\n",
       "      <th>1</th>\n",
       "      <td>1</td>\n",
       "      <td>1</td>\n",
       "      <td>01,01</td>\n",
       "      <td>1C8_phorikoshii_pross_2</td>\n",
       "      <td>ATP</td>\n",
       "      <td>100</td>\n",
       "      <td>5252210</td>\n",
       "      <td>[0, 75, 150, 225, 300, 375, 450, 525, 600, 675...</td>\n",
       "      <td>[6670, 6792, 6915, 7007, 7137, 7233, 7336, 744...</td>\n",
       "    </tr>\n",
       "  </tbody>\n",
       "</table>\n",
       "</div>"
      ],
      "text/plain": [
       "   x  y Indices                 MutantID substrate  substrate_conc_uM  \\\n",
       "0  1  1   01,01  1C8_phorikoshii_pross_2       ATP                 50   \n",
       "1  1  1   01,01  1C8_phorikoshii_pross_2       ATP                100   \n",
       "\n",
       "   summed_button_BGsub_Button_Quant  \\\n",
       "0                           5252210   \n",
       "1                           5252210   \n",
       "\n",
       "                                              time_s  \\\n",
       "0  [0, 75, 150, 225, 300, 375, 450, 525, 600, 675...   \n",
       "1  [0, 75, 150, 225, 300, 375, 450, 525, 600, 675...   \n",
       "\n",
       "                          kinetic_median_intensities  \n",
       "0  [6208, 6306, 6365, 6470, 6541, 6654, 6747, 683...  \n",
       "1  [6670, 6792, 6915, 7007, 7137, 7233, 7336, 744...  "
      ]
     },
     "metadata": {},
     "output_type": "display_data"
    }
   ],
   "source": [
    "squeeze_kinetics = processing.squeeze_kinetics(kinetic_data, additional_columns=[])"
   ]
  },
  {
   "attachments": {},
   "cell_type": "markdown",
   "metadata": {},
   "source": [
    "\"Squeeze\" standard data to serialize standard concetrations. Plot representative standard curves"
   ]
  },
  {
   "cell_type": "code",
   "execution_count": 7,
   "metadata": {},
   "outputs": [
    {
     "data": {
      "text/html": [
       "<div>\n",
       "<style scoped>\n",
       "    .dataframe tbody tr th:only-of-type {\n",
       "        vertical-align: middle;\n",
       "    }\n",
       "\n",
       "    .dataframe tbody tr th {\n",
       "        vertical-align: top;\n",
       "    }\n",
       "\n",
       "    .dataframe thead th {\n",
       "        text-align: right;\n",
       "    }\n",
       "</style>\n",
       "<table border=\"1\" class=\"dataframe\">\n",
       "  <thead>\n",
       "    <tr style=\"text-align: right;\">\n",
       "      <th></th>\n",
       "      <th>x</th>\n",
       "      <th>y</th>\n",
       "      <th>Indices</th>\n",
       "      <th>standard_concentration_uM</th>\n",
       "      <th>standard_median_intensities</th>\n",
       "    </tr>\n",
       "  </thead>\n",
       "  <tbody>\n",
       "    <tr>\n",
       "      <th>0</th>\n",
       "      <td>1</td>\n",
       "      <td>1</td>\n",
       "      <td>01,01</td>\n",
       "      <td>[1, 3, 6, 15, 30, 75]</td>\n",
       "      <td>[2568, 15498, 12956, 20596, 23836, 24427]</td>\n",
       "    </tr>\n",
       "    <tr>\n",
       "      <th>1</th>\n",
       "      <td>1</td>\n",
       "      <td>2</td>\n",
       "      <td>01,02</td>\n",
       "      <td>[1, 3, 6, 15, 30, 75]</td>\n",
       "      <td>[3641, 15630, 13374, 20982, 24458, 25124]</td>\n",
       "    </tr>\n",
       "    <tr>\n",
       "      <th>2</th>\n",
       "      <td>1</td>\n",
       "      <td>3</td>\n",
       "      <td>01,03</td>\n",
       "      <td>[1, 3, 6, 15, 30, 75]</td>\n",
       "      <td>[4721, 15659, 13648, 21141, 24649, 25307]</td>\n",
       "    </tr>\n",
       "    <tr>\n",
       "      <th>3</th>\n",
       "      <td>1</td>\n",
       "      <td>4</td>\n",
       "      <td>01,04</td>\n",
       "      <td>[1, 3, 6, 15, 30, 75]</td>\n",
       "      <td>[6231, 14957, 13297, 20228, 23503, 24236]</td>\n",
       "    </tr>\n",
       "  </tbody>\n",
       "</table>\n",
       "</div>"
      ],
      "text/plain": [
       "   x  y Indices standard_concentration_uM  \\\n",
       "0  1  1   01,01     [1, 3, 6, 15, 30, 75]   \n",
       "1  1  2   01,02     [1, 3, 6, 15, 30, 75]   \n",
       "2  1  3   01,03     [1, 3, 6, 15, 30, 75]   \n",
       "3  1  4   01,04     [1, 3, 6, 15, 30, 75]   \n",
       "\n",
       "                 standard_median_intensities  \n",
       "0  [2568, 15498, 12956, 20596, 23836, 24427]  \n",
       "1  [3641, 15630, 13374, 20982, 24458, 25124]  \n",
       "2  [4721, 15659, 13648, 21141, 24649, 25307]  \n",
       "3  [6231, 14957, 13297, 20228, 23503, 24236]  "
      ]
     },
     "metadata": {},
     "output_type": "display_data"
    },
    {
     "data": {
      "image/png": "[encoded data removed]",
      "text/plain": [
       "<Figure size 432x288 with 1 Axes>"
      ]
     },
     "metadata": {
      "needs_background": "light"
     },
     "output_type": "display_data"
    }
   ],
   "source": [
    "squeeze_standards = processing.squeeze_standard(standard_data)"
   ]
  },
  {
   "cell_type": "markdown",
   "metadata": {},
   "source": [
    "## Calculate enzyme concentration from eGFP fluorescence"
   ]
  },
  {
   "cell_type": "code",
   "execution_count": 8,
   "metadata": {},
   "outputs": [],
   "source": [
    "squeeze_kinetics['EnzymeConc'] = squeeze_kinetics['summed_button_BGsub_Button_Quant']/egfp_slope"
   ]
  },
  {
   "cell_type": "markdown",
   "metadata": {},
   "source": [
    "## Fit PBP Standard Curves"
   ]
  },
  {
   "cell_type": "markdown",
   "metadata": {},
   "source": [
    "To fit the PBP standard curve, we need to optimize a nonlinear least squares fit based on the following single-site binding isotherm for the phosphate sensor:\n",
    "\n",
    "$I([Pi]) = 0.5A(KD +[Pi]+[PS]-\\sqrt{(KD +[PS]+[Pi])^2 - 4[PS][Pi]}) + I(0μM)$\n",
    "\n",
    "where $I([Pi])$ is the median fluorescence at a given $[Pi]$, $[PS]$ is the concentration of PBP, $K_D$ is the dissociation constant of Pi from PBP, $A$ is the scaling factor necessary to relate fraction PBP bound to observed fluorescence, and $I(0μM[Pi])$ is the median fluorescence intensity of PBP in the absence of added Pi."
   ]
  },
  {
   "cell_type": "markdown",
   "metadata": {},
   "source": [
    "To find product concentrations from measured intensities, we need to invert this isotherm. For this, we use the package `sympy`, which has a nice suite of tools for symbolic math."
   ]
  },
  {
   "cell_type": "code",
   "execution_count": 9,
   "metadata": {},
   "outputs": [],
   "source": [
    "# A, KD, P_i, PS, I_0uMP_i, I_P_i = symbols('A KD P_i PS I_0uMP_i I_P_i')\n",
    "\n",
    "# isotherm_inverse = solve(0.5 * A * (KD + P_i + PS - ((KD + PS + P_i)**2 - 4*PS*P_i)**(1/2)) + I_0uMP_i - I_P_i, P_i)\n",
    "# print('Inverse of isotherm:', isotherm_inverse)"
   ]
  },
  {
   "cell_type": "markdown",
   "metadata": {},
   "source": [
    "If we would like to fit the inverse, we can simply copy this function into the following cell to perform the nonlinear least squares fit. Instead, we will densely interpolate the curve fits for each chamber and use the interpolations to approximate `[Pi]` concentration. The following function optimizes a least squares fit for each standard curve in each chamber and stores the optimum paramters as a list [`A, KD, PS, I_0uMP_i`] in the column `standard_popt`."
   ]
  },
  {
   "cell_type": "markdown",
   "metadata": {},
   "source": [
    "Now, let's check a few of the curve fits to make sure they look appropriate"
   ]
  },
  {
   "cell_type": "code",
   "execution_count": 10,
   "metadata": {},
   "outputs": [
    {
     "name": "stdout",
     "output_type": "stream",
     "text": [
      "Performing curve fits...\n",
      "Some curve fits may fail, this is expected and will be replaced with NaNs\n"
     ]
    },
    {
     "data": {
      "application/vnd.jupyter.widget-view+json": {
       "model_id": "7b340aab42f14c7f8d127f01901b18db",
       "version_major": 2,
       "version_minor": 0
      },
      "text/plain": [
       "VBox(children=(HBox(children=(IntProgress(value=0, description='0.00%', max=224), Label(value='0 / 224'))), HB…"
      ]
     },
     "metadata": {},
     "output_type": "display_data"
    },
    {
     "data": {
      "image/png": "[encoded data removed]",
      "text/plain": [
       "<Figure size 864x216 with 4 Axes>"
      ]
     },
     "metadata": {
      "needs_background": "light"
     },
     "output_type": "display_data"
    }
   ],
   "source": [
    "squeeze_standards = processing.standard_curve_fit(squeeze_standards, standard_type='pbp')"
   ]
  },
  {
   "cell_type": "markdown",
   "metadata": {},
   "source": [
    "## Merge dataframes"
   ]
  },
  {
   "cell_type": "markdown",
   "metadata": {},
   "source": [
    "Next we merge the standard and kinetic data on the chamber Indices and substrate columns and convert the kinetic median intensities to product concentrations using the standard curve slope. To convert median assay intensities to product concentrations, we interpolate the curve fit and generate a lookup dictionary. This method should be replaced with a rigorous interpolation, but it will do for now."
   ]
  },
  {
   "cell_type": "code",
   "execution_count": 22,
   "metadata": {},
   "outputs": [
    {
     "name": "stdout",
     "output_type": "stream",
     "text": [
      "Calculating product concentrations...\n",
      "(If interpolating, this will take longer than the curve fitting step)\n"
     ]
    },
    {
     "data": {
      "application/vnd.jupyter.widget-view+json": {
       "model_id": "9ef78848209c4fa3b53466e7c03b0f7c",
       "version_major": 2,
       "version_minor": 0
      },
      "text/plain": [
       "VBox(children=(HBox(children=(IntProgress(value=0, description='0.00%', max=896), Label(value='0 / 896'))), HB…"
      ]
     },
     "metadata": {},
     "output_type": "display_data"
    },
    {
     "name": "stdout",
     "output_type": "stream",
     "text": [
      "Curve fit failed for chamber: 10,55\n",
      "nan\n",
      "Curve fit failed for chamber: 10,55\n",
      "nan\n",
      "Curve fit failed for chamber: 10,55\n",
      "nan\n",
      "Curve fit failed for chamber: 10,55\n",
      "nan\n"
     ]
    },
    {
     "data": {
      "text/html": [
       "<div>\n",
       "<style scoped>\n",
       "    .dataframe tbody tr th:only-of-type {\n",
       "        vertical-align: middle;\n",
       "    }\n",
       "\n",
       "    .dataframe tbody tr th {\n",
       "        vertical-align: top;\n",
       "    }\n",
       "\n",
       "    .dataframe thead th {\n",
       "        text-align: right;\n",
       "    }\n",
       "</style>\n",
       "<table border=\"1\" class=\"dataframe\">\n",
       "  <thead>\n",
       "    <tr style=\"text-align: right;\">\n",
       "      <th></th>\n",
       "      <th>x</th>\n",
       "      <th>y</th>\n",
       "      <th>Indices</th>\n",
       "      <th>MutantID</th>\n",
       "      <th>substrate</th>\n",
       "      <th>substrate_conc_uM</th>\n",
       "      <th>summed_button_BGsub_Button_Quant</th>\n",
       "      <th>time_s</th>\n",
       "      <th>kinetic_median_intensities</th>\n",
       "      <th>EnzymeConc</th>\n",
       "      <th>standard_concentration_uM</th>\n",
       "      <th>standard_median_intensities</th>\n",
       "      <th>standard_popt</th>\n",
       "      <th>kinetic_product_concentration_uM</th>\n",
       "    </tr>\n",
       "  </thead>\n",
       "  <tbody>\n",
       "    <tr>\n",
       "      <th>0</th>\n",
       "      <td>1</td>\n",
       "      <td>1</td>\n",
       "      <td>01,01</td>\n",
       "      <td>1C8_phorikoshii_pross_2</td>\n",
       "      <td>ATP</td>\n",
       "      <td>50</td>\n",
       "      <td>5252210</td>\n",
       "      <td>[0, 75, 150, 225, 300, 375, 450, 525, 600, 675...</td>\n",
       "      <td>[6208, 6306, 6365, 6470, 6541, 6654, 6747, 683...</td>\n",
       "      <td>27.811985</td>\n",
       "      <td>[1, 3, 6, 15, 30, 75]</td>\n",
       "      <td>[2568, 15498, 12956, 20596, 23836, 24427]</td>\n",
       "      <td>[2072.1299809239877, 1.757801011358948, 10.000...</td>\n",
       "      <td>[0.8375000000000004, 0.9225000000000012, 0.965...</td>\n",
       "    </tr>\n",
       "  </tbody>\n",
       "</table>\n",
       "</div>"
      ],
      "text/plain": [
       "   x  y Indices                 MutantID substrate  substrate_conc_uM  \\\n",
       "0  1  1   01,01  1C8_phorikoshii_pross_2       ATP                 50   \n",
       "\n",
       "   summed_button_BGsub_Button_Quant  \\\n",
       "0                           5252210   \n",
       "\n",
       "                                              time_s  \\\n",
       "0  [0, 75, 150, 225, 300, 375, 450, 525, 600, 675...   \n",
       "\n",
       "                          kinetic_median_intensities  EnzymeConc  \\\n",
       "0  [6208, 6306, 6365, 6470, 6541, 6654, 6747, 683...   27.811985   \n",
       "\n",
       "  standard_concentration_uM                standard_median_intensities  \\\n",
       "0     [1, 3, 6, 15, 30, 75]  [2568, 15498, 12956, 20596, 23836, 24427]   \n",
       "\n",
       "                                       standard_popt  \\\n",
       "0  [2072.1299809239877, 1.757801011358948, 10.000...   \n",
       "\n",
       "                    kinetic_product_concentration_uM  \n",
       "0  [0.8375000000000004, 0.9225000000000012, 0.965...  "
      ]
     },
     "execution_count": 22,
     "metadata": {},
     "output_type": "execute_result"
    }
   ],
   "source": [
    "sq_merged = processing.merge_and_get_product_concs(squeeze_kinetics, squeeze_standards, standard_type='pbp')\n",
    "sq_merged.head(1)"
   ]
  },
  {
   "cell_type": "markdown",
   "id": "eee7397b",
   "metadata": {},
   "source": [
    "# Manual eGFP Flagging (only for [E] above the background)"
   ]
  },
  {
   "cell_type": "code",
   "execution_count": 23,
   "id": "e144553d",
   "metadata": {},
   "outputs": [
    {
     "name": "stdout",
     "output_type": "stream",
     "text": [
      "Culling record found: .../ACYP/230415_SFL_ACYPs/egfp Culling/manual_culling_record.csv. \n",
      "Loaded culling record.\n"
     ]
    },
    {
     "data": {
      "text/plain": [
       "None"
      ]
     },
     "metadata": {},
     "output_type": "display_data"
    }
   ],
   "source": [
    "# Point to directory for culling record export\n",
    "culling_export_directory = '/Volumes/Micah_Data/HT-MEK_data/ACYP/230415_SFL_ACYPs/egfp Culling'\n",
    "\n",
    "# Initialize row and column numbers\n",
    "NUM_ROWS = 56\n",
    "NUM_COLS = 32\n",
    "\n",
    "# Create button grid and display\n",
    "button_grid, flagged_set, button_stamps = processing.manual_culling(sq_merged, egfp_button_summary_image_path, NUM_ROWS, NUM_COLS, culling_export_directory)\n",
    "display(button_grid)"
   ]
  },
  {
   "attachments": {},
   "cell_type": "markdown",
   "metadata": {},
   "source": [
    "Close button finder, then add culling flag to merged DataFrame and export culling record"
   ]
  },
  {
   "cell_type": "code",
   "execution_count": 24,
   "id": "7ef23ce0",
   "metadata": {},
   "outputs": [],
   "source": [
    "# close button grid if variable exists\n",
    "if type(button_grid) == type(None):\n",
    "    pass\n",
    "else:\n",
    "    button_grid.close()\n",
    "\n",
    "# Update sq_merged with flagged chambers and export culling record\n",
    "sq_merged = processing.handle_flagged_chambers(sq_merged, flagged_set, culling_export_directory)"
   ]
  },
  {
   "attachments": {},
   "cell_type": "markdown",
   "metadata": {},
   "source": [
    "# Calculate initial rates\n",
    "To calculate initial rates for each substrate condition, we apply an algorithm adapted from page 27 of the SI in Markin, Mokhtari et al. 2020"
   ]
  },
  {
   "cell_type": "code",
   "execution_count": 35,
   "metadata": {},
   "outputs": [
    {
     "data": {
      "text/plain": [
       "[50, 100, 250, 500]"
      ]
     },
     "execution_count": 35,
     "metadata": {},
     "output_type": "execute_result"
    }
   ],
   "source": [
    "sorted(list(set(sq_merged['substrate_conc_uM'])))"
   ]
  },
  {
   "cell_type": "code",
   "execution_count": 46,
   "metadata": {},
   "outputs": [
    {
     "name": "stdout",
     "output_type": "stream",
     "text": [
      "Fitting initial rates...\n",
      "Done fitting initial rates. Adding results to dataframe...\n",
      "Plotting progress curves for one random library member...\n"
     ]
    },
    {
     "data": {
      "image/png": "[encoded data removed]",
      "text/plain": [
       "<Figure size 720x216 with 4 Axes>"
      ]
     },
     "metadata": {
      "needs_background": "light"
     },
     "output_type": "display_data"
    }
   ],
   "source": [
    "sq_merged = processing.get_initial_rates(sq_merged, pbp_conc=30)"
   ]
  },
  {
   "cell_type": "markdown",
   "metadata": {},
   "source": [
    "# Michaelis-Menten curve fitting"
   ]
  },
  {
   "attachments": {},
   "cell_type": "markdown",
   "metadata": {},
   "source": [
    "To perform the fitting, we apply another \"squeeze\" to create columns for the substrate concentration series and initial rate series. Scale initial rates by enzyme concentration. If there is no measurement for a zero substrate condition, a zero placeholder is added to the beginning of the substrate conc and initial rate lists."
   ]
  },
  {
   "cell_type": "code",
   "execution_count": 47,
   "metadata": {},
   "outputs": [
    {
     "name": "stdout",
     "output_type": "stream",
     "text": [
      "Fitting Michaelis-Menten curves...\n"
     ]
    },
    {
     "data": {
      "application/vnd.jupyter.widget-view+json": {
       "model_id": "46c55dd83ca946f9a47682ce72b48e8a",
       "version_major": 2,
       "version_minor": 0
      },
      "text/plain": [
       "VBox(children=(HBox(children=(IntProgress(value=0, description='0.00%', max=224), Label(value='0 / 224'))), HB…"
      ]
     },
     "metadata": {},
     "output_type": "display_data"
    },
    {
     "name": "stdout",
     "output_type": "stream",
     "text": [
      "Done fitting Michaelis-Menten curves.\n",
      "Plotting examples...\n"
     ]
    },
    {
     "data": {
      "image/png": "[encoded data removed]",
      "text/plain": [
       "<Figure size 1440x216 with 4 Axes>"
      ]
     },
     "metadata": {
      "needs_background": "light"
     },
     "output_type": "display_data"
    }
   ],
   "source": [
    "squeeze_mm = processing.fit_michaelis_menten(sq_merged, exclude_concs=[])"
   ]
  },
  {
   "attachments": {},
   "cell_type": "markdown",
   "metadata": {},
   "source": [
    "# Inhibition "
   ]
  },
  {
   "cell_type": "code",
   "execution_count": 48,
   "metadata": {},
   "outputs": [],
   "source": [
    "# constant substrate concentration with increasing inhibitor concentration\n",
    "# should be similar to unfolding curves (normalize to 0uM inhibitor and plot y axis in linear scale)\n"
   ]
  },
  {
   "cell_type": "markdown",
   "metadata": {},
   "source": [
    "# Calculate local background ratio\n",
    "Add as a row in the by-chamber, by-substrate concentration dataframe, then squeeze into a list in the MM dataframe "
   ]
  },
  {
   "cell_type": "markdown",
   "metadata": {},
   "source": [
    "Next, iterate row-wise across the dataframe and compute the local background ratio. This algorithm is as follows: \n",
    "    1. for each chamber, store the intial rate for the highest substrate concentration condition\n",
    "    2. coerce all rates below 0.00001 to zero\n",
    "    3. store the rates in the above and below chambers\n",
    "        2.1. \n",
    "        2.2. average rates"
   ]
  },
  {
   "cell_type": "code",
   "execution_count": 49,
   "metadata": {},
   "outputs": [
    {
     "name": "stderr",
     "output_type": "stream",
     "text": [
      "/Users/micaholivas/Desktop/htmek_processing/experiment_processing/processing.py:925: SettingWithCopyWarning: \n",
      "A value is trying to be set on a copy of a slice from a DataFrame.\n",
      "Try using .loc[row_indexer,col_indexer] = value instead\n",
      "\n",
      "See the caveats in the documentation: https://pandas.pydata.org/pandas-docs/stable/user_guide/indexing.html#returning-a-view-versus-a-copy\n",
      "  local_bg_df['index_tuple'] = local_bg_df.apply(lambda row: (row.x, row.y), axis=1)\n"
     ]
    },
    {
     "data": {
      "text/html": [
       "<div>\n",
       "<style scoped>\n",
       "    .dataframe tbody tr th:only-of-type {\n",
       "        vertical-align: middle;\n",
       "    }\n",
       "\n",
       "    .dataframe tbody tr th {\n",
       "        vertical-align: top;\n",
       "    }\n",
       "\n",
       "    .dataframe thead th {\n",
       "        text-align: right;\n",
       "    }\n",
       "</style>\n",
       "<table border=\"1\" class=\"dataframe\">\n",
       "  <thead>\n",
       "    <tr style=\"text-align: right;\">\n",
       "      <th></th>\n",
       "      <th>x</th>\n",
       "      <th>y</th>\n",
       "      <th>Indices</th>\n",
       "      <th>MutantID</th>\n",
       "      <th>substrate</th>\n",
       "      <th>EnzymeConc</th>\n",
       "      <th>egfp_manual_flag</th>\n",
       "      <th>substrate_concs</th>\n",
       "      <th>initial_rates</th>\n",
       "      <th>KM_fit</th>\n",
       "      <th>vmax_fit</th>\n",
       "      <th>kcat_fit</th>\n",
       "      <th>kcat_over_KM_fit</th>\n",
       "      <th>local_bg_ratio</th>\n",
       "    </tr>\n",
       "  </thead>\n",
       "  <tbody>\n",
       "    <tr>\n",
       "      <th>0</th>\n",
       "      <td>1</td>\n",
       "      <td>1</td>\n",
       "      <td>01,01</td>\n",
       "      <td>1C8_phorikoshii_pross_2</td>\n",
       "      <td>ATP</td>\n",
       "      <td>27.811985</td>\n",
       "      <td>False</td>\n",
       "      <td>[0, 50, 100, 250, 500]</td>\n",
       "      <td>[0, 0.0005666666666666576, 0.00085000000000000...</td>\n",
       "      <td>702.731091</td>\n",
       "      <td>0.006756</td>\n",
       "      <td>0.242931</td>\n",
       "      <td>345.695181</td>\n",
       "      <td>0.000000</td>\n",
       "    </tr>\n",
       "    <tr>\n",
       "      <th>1</th>\n",
       "      <td>1</td>\n",
       "      <td>2</td>\n",
       "      <td>01,02</td>\n",
       "      <td>BLANK</td>\n",
       "      <td>ATP</td>\n",
       "      <td>0.102914</td>\n",
       "      <td>False</td>\n",
       "      <td>[0, 50, 100, 250, 500]</td>\n",
       "      <td>[0, 0.00028333333333333433, -7.912522249628998...</td>\n",
       "      <td>34002.867522</td>\n",
       "      <td>0.004836</td>\n",
       "      <td>46.987376</td>\n",
       "      <td>1381.865105</td>\n",
       "      <td>-0.000000</td>\n",
       "    </tr>\n",
       "    <tr>\n",
       "      <th>2</th>\n",
       "      <td>1</td>\n",
       "      <td>3</td>\n",
       "      <td>01,03</td>\n",
       "      <td>2A4_sbenthica_lowlambda_highid_7</td>\n",
       "      <td>ATP</td>\n",
       "      <td>46.614042</td>\n",
       "      <td>False</td>\n",
       "      <td>[0, 50, 100, 250, 500]</td>\n",
       "      <td>[0, 0.0005666666666666603, 0.00056666666666667...</td>\n",
       "      <td>41.103713</td>\n",
       "      <td>0.000931</td>\n",
       "      <td>0.019962</td>\n",
       "      <td>485.650944</td>\n",
       "      <td>1.000000</td>\n",
       "    </tr>\n",
       "    <tr>\n",
       "      <th>3</th>\n",
       "      <td>1</td>\n",
       "      <td>4</td>\n",
       "      <td>01,04</td>\n",
       "      <td>BLANK</td>\n",
       "      <td>ATP</td>\n",
       "      <td>0.597261</td>\n",
       "      <td>False</td>\n",
       "      <td>[0, 50, 100, 250, 500]</td>\n",
       "      <td>[0, 0.0008499999999999991, 0.00113333333333333...</td>\n",
       "      <td>63.797249</td>\n",
       "      <td>0.001864</td>\n",
       "      <td>3.120237</td>\n",
       "      <td>48908.639781</td>\n",
       "      <td>0.599647</td>\n",
       "    </tr>\n",
       "    <tr>\n",
       "      <th>4</th>\n",
       "      <td>1</td>\n",
       "      <td>5</td>\n",
       "      <td>01,05</td>\n",
       "      <td>1G1_phorikoshii_lowlambda_lowid_8</td>\n",
       "      <td>ATP</td>\n",
       "      <td>39.964596</td>\n",
       "      <td>False</td>\n",
       "      <td>[0, 50, 100, 250, 500]</td>\n",
       "      <td>[0, 0.0014166666666666718, 0.00198333333333333...</td>\n",
       "      <td>247.276015</td>\n",
       "      <td>0.007074</td>\n",
       "      <td>0.177006</td>\n",
       "      <td>715.822203</td>\n",
       "      <td>2.268235</td>\n",
       "    </tr>\n",
       "  </tbody>\n",
       "</table>\n",
       "</div>"
      ],
      "text/plain": [
       "   x  y Indices                           MutantID substrate  EnzymeConc  \\\n",
       "0  1  1   01,01            1C8_phorikoshii_pross_2       ATP   27.811985   \n",
       "1  1  2   01,02                              BLANK       ATP    0.102914   \n",
       "2  1  3   01,03   2A4_sbenthica_lowlambda_highid_7       ATP   46.614042   \n",
       "3  1  4   01,04                              BLANK       ATP    0.597261   \n",
       "4  1  5   01,05  1G1_phorikoshii_lowlambda_lowid_8       ATP   39.964596   \n",
       "\n",
       "   egfp_manual_flag         substrate_concs  \\\n",
       "0             False  [0, 50, 100, 250, 500]   \n",
       "1             False  [0, 50, 100, 250, 500]   \n",
       "2             False  [0, 50, 100, 250, 500]   \n",
       "3             False  [0, 50, 100, 250, 500]   \n",
       "4             False  [0, 50, 100, 250, 500]   \n",
       "\n",
       "                                       initial_rates        KM_fit  vmax_fit  \\\n",
       "0  [0, 0.0005666666666666576, 0.00085000000000000...    702.731091  0.006756   \n",
       "1  [0, 0.00028333333333333433, -7.912522249628998...  34002.867522  0.004836   \n",
       "2  [0, 0.0005666666666666603, 0.00056666666666667...     41.103713  0.000931   \n",
       "3  [0, 0.0008499999999999991, 0.00113333333333333...     63.797249  0.001864   \n",
       "4  [0, 0.0014166666666666718, 0.00198333333333333...    247.276015  0.007074   \n",
       "\n",
       "    kcat_fit  kcat_over_KM_fit  local_bg_ratio  \n",
       "0   0.242931        345.695181        0.000000  \n",
       "1  46.987376       1381.865105       -0.000000  \n",
       "2   0.019962        485.650944        1.000000  \n",
       "3   3.120237      48908.639781        0.599647  \n",
       "4   0.177006        715.822203        2.268235  "
      ]
     },
     "execution_count": 49,
     "metadata": {},
     "output_type": "execute_result"
    }
   ],
   "source": [
    "squeeze_mm, sq_merged = processing.calculate_local_bg_ratio(squeeze_mm, sq_merged, device_rows=device_rows, exclude_concs=[100, 75])\n",
    "squeeze_mm.head(5)"
   ]
  },
  {
   "cell_type": "markdown",
   "metadata": {},
   "source": [
    "# Print PDFs"
   ]
  },
  {
   "attachments": {},
   "cell_type": "markdown",
   "metadata": {},
   "source": [
    "Generate one experiment-level summary PDF and one PDF per chamber with the following plots:\n",
    "1. **Progress curves** for each substrate condition with linear initial rate fits\n",
    "2. **Standard curve** \n",
    "4. **Michaelis-Menten fits** to each substrate condition\n",
    "\n",
    "PDFs are exported to a `PDF` directory in the specified export directory."
   ]
  },
  {
   "cell_type": "code",
   "execution_count": 69,
   "metadata": {},
   "outputs": [
    {
     "name": "stdout",
     "output_type": "stream",
     "text": [
      "15 [-4.7725, -3.0725, -0.9900000000000002, 1.7725000000000009, 4.4925000000000015, 6.872500000000002, 9.21, 11.165000000000003, 12.780000000000001, 14.225000000000001, 16.520000000000003, 19.1125, 20.472500000000004, 20.472500000000004, 20.472500000000004]\n",
      "15 [0, 75, 150, 225, 300, 375, 450, 525, 600, 675, 825, 1125, 1725, 2625, 3825]\n",
      "15 [-4.135, -2.5199999999999996, -0.7774999999999999, 1.3475000000000001, 3.4725, 5.427500000000002, 7.170000000000002, 8.700000000000003, 10.102500000000003, 11.335, 13.46, 16.605, 19.707500000000003, 20.472500000000004, 20.472500000000004]\n",
      "15 [0, 75, 150, 225, 300, 375, 450, 525, 600, 675, 825, 1125, 1725, 2625, 3825]\n",
      "15 [-1.7974999999999994, 0.2425000000000015, 1.5600000000000005, 3.2600000000000016, 4.960000000000001, 6.490000000000002, 7.850000000000001, 9.082500000000003, 10.1875, 11.080000000000002, 12.865000000000002, 15.500000000000004, 18.560000000000002, 20.472500000000004, 20.472500000000004]\n",
      "15 [0, 75, 150, 225, 300, 375, 450, 525, 600, 675, 825, 1125, 1725, 2625, 3825]\n",
      "15 [1.6875, 4.152500000000002, 5.300000000000001, 6.702500000000001, 8.0625, 9.252500000000001, 10.315000000000001, 11.207500000000003, 12.057500000000001, 12.7375, 14.055000000000003, 16.095000000000002, 18.4325, 19.962500000000002, 20.472500000000004]\n",
      "15 [0, 75, 150, 225, 300, 375, 450, 525, 600, 675, 825, 1125, 1725, 2625, 3825]\n"
     ]
    }
   ],
   "source": [
    "x = 10\n",
    "y = 53\n",
    "\n",
    "# print the length of the value in each column for the given x and y\n",
    "dat = sq_merged[(sq_merged['x'] == x) & (sq_merged['y'] == y)]\n",
    "for idx, row in dat.iterrows():\n",
    "    # for col in dat.columns:\n",
    "    #     # print(col, len(str(row[col])))\n",
    "    print(len(row.kinetic_product_concentration_uM), row.kinetic_product_concentration_uM)\n",
    "    print(len(row.time_s), row.time_s)"
   ]
  },
  {
   "cell_type": "code",
   "execution_count": 70,
   "metadata": {},
   "outputs": [
    {
     "data": {
      "text/plain": [
       "1"
      ]
     },
     "execution_count": 70,
     "metadata": {},
     "output_type": "execute_result"
    }
   ],
   "source": [
    "(1,2)[0]"
   ]
  },
  {
   "cell_type": "code",
   "execution_count": 74,
   "metadata": {},
   "outputs": [
    {
     "name": "stderr",
     "output_type": "stream",
     "text": [
      "/Users/micaholivas/Desktop/htmek_processing/experiment_processing/processing.py:1066: MatplotlibDeprecationWarning: The 'norm' parameter to Colorbar has no effect because it is overridden by the mappable; it is deprecated since 3.3 and will be removed two minor releases later.\n",
      "  norm = matplotlib.colors.Normalize(vmin=0, vmax=100)\n"
     ]
    },
    {
     "data": {
      "image/png": "[encoded data removed]",
      "text/plain": [
       "<Figure size 720x720 with 5 Axes>"
      ]
     },
     "metadata": {
      "needs_background": "light"
     },
     "output_type": "display_data"
    },
    {
     "name": "stderr",
     "output_type": "stream",
     "text": [
      "Processing (10, 54):   1%|▏         | 25/1792 [00:16<24:22,  1.21it/s]/Users/micaholivas/Desktop/htmek_processing/experiment_processing/processing.py:1262: UserWarning: Attempting to set identical bottom == top == 0 results in singular transformations; automatically expanding.\n",
      "  ax_mm_curve.set_ylim([0, max(ydata)*1.2])\n",
      "Processing (32, 42):  34%|███▍      | 607/1792 [13:04<25:32,  1.29s/it]   \n"
     ]
    }
   ],
   "source": [
    "processing.plot_chip_summary(starting_chamber=(10, 30), squeeze_mm=squeeze_mm, sq_merged=sq_merged, squeeze_standards=squeeze_standards, squeeze_kinetics=squeeze_kinetics, button_stamps=button_stamps, device_columns=device_columns, device_rows=device_rows, export_path_root=export_path_root, experimental_day=experimental_day, experiment_name=experiment_name, pbp_conc=pbp_conc, exclude_concs=[], substrate=substrate)"
   ]
  },
  {
   "cell_type": "markdown",
   "metadata": {},
   "source": [
    "#### Merge PDFs"
   ]
  },
  {
   "cell_type": "code",
   "execution_count": null,
   "metadata": {},
   "outputs": [],
   "source": [
    "processing.merge_pdfs(export_path_root=export_path_root, substrate=substrate, experimental_day=experimental_day)"
   ]
  },
  {
   "cell_type": "markdown",
   "metadata": {},
   "source": [
    "# Export Data"
   ]
  },
  {
   "cell_type": "code",
   "execution_count": null,
   "metadata": {},
   "outputs": [],
   "source": [
    "processing.export_data(sq_merged, squeeze_mm, export_path_root, experimental_day, setup, device, substrate=substrate, experiment_name=experiment_name)"
   ]
  }
 ],
 "metadata": {
  "kernelspec": {
   "display_name": "Python 3 (ipykernel)",
   "language": "python",
   "name": "python3"
  },
  "language_info": {
   "codemirror_mode": {
    "name": "ipython",
    "version": 3
   },
   "file_extension": ".py",
   "mimetype": "text/x-python",
   "name": "python",
   "nbconvert_exporter": "python",
   "pygments_lexer": "ipython3",
   "version": "3.8.13"
  },
  "vscode": {
   "interpreter": {
    "hash": "7d554d675da1053c03ba9b4c925194630c0caa9904242dfd9f793ca6ca18d72e"
   }
  }
 },
 "nbformat": 4,
 "nbformat_minor": 2
}

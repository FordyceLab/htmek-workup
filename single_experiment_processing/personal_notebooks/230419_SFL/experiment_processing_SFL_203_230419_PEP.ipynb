{
 "cells": [
  {
   "cell_type": "markdown",
   "metadata": {},
   "source": [
    "# HT-MEK Data Processing Workbook\n",
    "Author: Micah Olivas"
   ]
  },
  {
   "cell_type": "code",
   "execution_count": 2,
   "metadata": {},
   "outputs": [
    {
     "name": "stdout",
     "output_type": "stream",
     "text": [
      "The autoreload extension is already loaded. To reload it, use:\n",
      "  %reload_ext autoreload\n",
      "INFO: Pandarallel will run on 8 workers.\n",
      "INFO: Pandarallel will use standard multiprocessing data transfer (pipe) to transfer data between the main process and workers.\n"
     ]
    }
   ],
   "source": [
    "# This will autoreload imported modules\n",
    "%load_ext autoreload\n",
    "%autoreload 2\n",
    "\n",
    "# Import modules\n",
    "from experiment_processing import processing\n",
    "\n",
    "# Set up parallel processing\n",
    "from pandarallel import pandarallel\n",
    "processing.pandarallel.initialize(progress_bar=True)"
   ]
  },
  {
   "cell_type": "markdown",
   "metadata": {},
   "source": [
    "# Import kinetic and standard series data"
   ]
  },
  {
   "cell_type": "markdown",
   "metadata": {},
   "source": [
    "Read raw kinetic and standards data with Pandas"
   ]
  },
  {
   "cell_type": "code",
   "execution_count": 34,
   "metadata": {},
   "outputs": [
    {
     "data": {
      "text/html": [
       "<div>\n",
       "<style scoped>\n",
       "    .dataframe tbody tr th:only-of-type {\n",
       "        vertical-align: middle;\n",
       "    }\n",
       "\n",
       "    .dataframe tbody tr th {\n",
       "        vertical-align: top;\n",
       "    }\n",
       "\n",
       "    .dataframe thead th {\n",
       "        text-align: right;\n",
       "    }\n",
       "</style>\n",
       "<table border=\"1\" class=\"dataframe\">\n",
       "  <thead>\n",
       "    <tr style=\"text-align: right;\">\n",
       "      <th></th>\n",
       "      <th>x</th>\n",
       "      <th>y</th>\n",
       "      <th>median_chamber</th>\n",
       "      <th>sum_chamber</th>\n",
       "      <th>std_chamber</th>\n",
       "      <th>x_center_chamber</th>\n",
       "      <th>y_center_chamber</th>\n",
       "      <th>radius_chamber</th>\n",
       "      <th>xslice</th>\n",
       "      <th>yslice</th>\n",
       "      <th>...</th>\n",
       "      <th>radius_button_disk_Button_Quant</th>\n",
       "      <th>median_button_annulus_Button_Quant</th>\n",
       "      <th>summed_button_annulus_normed_Button_Quant</th>\n",
       "      <th>std_button_annulus_localBG_Button_Quant</th>\n",
       "      <th>inner_radius_button_annulus_Button_Quant</th>\n",
       "      <th>outer_radius_button_annulus_Button_Quant</th>\n",
       "      <th>xslice_Button_Quant</th>\n",
       "      <th>yslice_Button_Quant</th>\n",
       "      <th>id_Button_Quant</th>\n",
       "      <th>series_index</th>\n",
       "    </tr>\n",
       "  </thead>\n",
       "  <tbody>\n",
       "    <tr>\n",
       "      <th>0</th>\n",
       "      <td>1</td>\n",
       "      <td>1</td>\n",
       "      <td>5873</td>\n",
       "      <td>18657458</td>\n",
       "      <td>1281</td>\n",
       "      <td>49</td>\n",
       "      <td>41</td>\n",
       "      <td>33</td>\n",
       "      <td>(392, 492)</td>\n",
       "      <td>(442, 542)</td>\n",
       "      <td>...</td>\n",
       "      <td>15</td>\n",
       "      <td>5951</td>\n",
       "      <td>4220914</td>\n",
       "      <td>126</td>\n",
       "      <td>15</td>\n",
       "      <td>15</td>\n",
       "      <td>(392, 492)</td>\n",
       "      <td>(442, 542)</td>\n",
       "      <td>1C8_phorikoshii_pross_2</td>\n",
       "      <td>50uM_PEP_d2</td>\n",
       "    </tr>\n",
       "    <tr>\n",
       "      <th>1</th>\n",
       "      <td>1</td>\n",
       "      <td>1</td>\n",
       "      <td>5731</td>\n",
       "      <td>18313417</td>\n",
       "      <td>1174</td>\n",
       "      <td>49</td>\n",
       "      <td>41</td>\n",
       "      <td>33</td>\n",
       "      <td>(392, 492)</td>\n",
       "      <td>(442, 542)</td>\n",
       "      <td>...</td>\n",
       "      <td>15</td>\n",
       "      <td>5951</td>\n",
       "      <td>4220914</td>\n",
       "      <td>126</td>\n",
       "      <td>15</td>\n",
       "      <td>15</td>\n",
       "      <td>(392, 492)</td>\n",
       "      <td>(442, 542)</td>\n",
       "      <td>1C8_phorikoshii_pross_2</td>\n",
       "      <td>50uM_PEP_d2</td>\n",
       "    </tr>\n",
       "    <tr>\n",
       "      <th>2</th>\n",
       "      <td>1</td>\n",
       "      <td>1</td>\n",
       "      <td>6284</td>\n",
       "      <td>19657493</td>\n",
       "      <td>1520</td>\n",
       "      <td>49</td>\n",
       "      <td>41</td>\n",
       "      <td>33</td>\n",
       "      <td>(392, 492)</td>\n",
       "      <td>(442, 542)</td>\n",
       "      <td>...</td>\n",
       "      <td>15</td>\n",
       "      <td>5951</td>\n",
       "      <td>4220914</td>\n",
       "      <td>126</td>\n",
       "      <td>15</td>\n",
       "      <td>15</td>\n",
       "      <td>(392, 492)</td>\n",
       "      <td>(442, 542)</td>\n",
       "      <td>1C8_phorikoshii_pross_2</td>\n",
       "      <td>50uM_PEP_d2</td>\n",
       "    </tr>\n",
       "    <tr>\n",
       "      <th>3</th>\n",
       "      <td>1</td>\n",
       "      <td>1</td>\n",
       "      <td>5931</td>\n",
       "      <td>18790515</td>\n",
       "      <td>1312</td>\n",
       "      <td>49</td>\n",
       "      <td>41</td>\n",
       "      <td>33</td>\n",
       "      <td>(392, 492)</td>\n",
       "      <td>(442, 542)</td>\n",
       "      <td>...</td>\n",
       "      <td>15</td>\n",
       "      <td>5951</td>\n",
       "      <td>4220914</td>\n",
       "      <td>126</td>\n",
       "      <td>15</td>\n",
       "      <td>15</td>\n",
       "      <td>(392, 492)</td>\n",
       "      <td>(442, 542)</td>\n",
       "      <td>1C8_phorikoshii_pross_2</td>\n",
       "      <td>50uM_PEP_d2</td>\n",
       "    </tr>\n",
       "    <tr>\n",
       "      <th>4</th>\n",
       "      <td>1</td>\n",
       "      <td>1</td>\n",
       "      <td>5747</td>\n",
       "      <td>18368459</td>\n",
       "      <td>1196</td>\n",
       "      <td>49</td>\n",
       "      <td>41</td>\n",
       "      <td>33</td>\n",
       "      <td>(392, 492)</td>\n",
       "      <td>(442, 542)</td>\n",
       "      <td>...</td>\n",
       "      <td>15</td>\n",
       "      <td>5951</td>\n",
       "      <td>4220914</td>\n",
       "      <td>126</td>\n",
       "      <td>15</td>\n",
       "      <td>15</td>\n",
       "      <td>(392, 492)</td>\n",
       "      <td>(442, 542)</td>\n",
       "      <td>1C8_phorikoshii_pross_2</td>\n",
       "      <td>50uM_PEP_d2</td>\n",
       "    </tr>\n",
       "  </tbody>\n",
       "</table>\n",
       "<p>5 rows × 28 columns</p>\n",
       "</div>"
      ],
      "text/plain": [
       "   x  y  median_chamber  sum_chamber  std_chamber  x_center_chamber  \\\n",
       "0  1  1            5873     18657458         1281                49   \n",
       "1  1  1            5731     18313417         1174                49   \n",
       "2  1  1            6284     19657493         1520                49   \n",
       "3  1  1            5931     18790515         1312                49   \n",
       "4  1  1            5747     18368459         1196                49   \n",
       "\n",
       "   y_center_chamber  radius_chamber      xslice      yslice  ...  \\\n",
       "0                41              33  (392, 492)  (442, 542)  ...   \n",
       "1                41              33  (392, 492)  (442, 542)  ...   \n",
       "2                41              33  (392, 492)  (442, 542)  ...   \n",
       "3                41              33  (392, 492)  (442, 542)  ...   \n",
       "4                41              33  (392, 492)  (442, 542)  ...   \n",
       "\n",
       "  radius_button_disk_Button_Quant  median_button_annulus_Button_Quant  \\\n",
       "0                              15                                5951   \n",
       "1                              15                                5951   \n",
       "2                              15                                5951   \n",
       "3                              15                                5951   \n",
       "4                              15                                5951   \n",
       "\n",
       "   summed_button_annulus_normed_Button_Quant  \\\n",
       "0                                    4220914   \n",
       "1                                    4220914   \n",
       "2                                    4220914   \n",
       "3                                    4220914   \n",
       "4                                    4220914   \n",
       "\n",
       "   std_button_annulus_localBG_Button_Quant  \\\n",
       "0                                      126   \n",
       "1                                      126   \n",
       "2                                      126   \n",
       "3                                      126   \n",
       "4                                      126   \n",
       "\n",
       "   inner_radius_button_annulus_Button_Quant  \\\n",
       "0                                        15   \n",
       "1                                        15   \n",
       "2                                        15   \n",
       "3                                        15   \n",
       "4                                        15   \n",
       "\n",
       "   outer_radius_button_annulus_Button_Quant  xslice_Button_Quant  \\\n",
       "0                                        15           (392, 492)   \n",
       "1                                        15           (392, 492)   \n",
       "2                                        15           (392, 492)   \n",
       "3                                        15           (392, 492)   \n",
       "4                                        15           (392, 492)   \n",
       "\n",
       "   yslice_Button_Quant          id_Button_Quant  series_index  \n",
       "0           (442, 542)  1C8_phorikoshii_pross_2   50uM_PEP_d2  \n",
       "1           (442, 542)  1C8_phorikoshii_pross_2   50uM_PEP_d2  \n",
       "2           (442, 542)  1C8_phorikoshii_pross_2   50uM_PEP_d2  \n",
       "3           (442, 542)  1C8_phorikoshii_pross_2   50uM_PEP_d2  \n",
       "4           (442, 542)  1C8_phorikoshii_pross_2   50uM_PEP_d2  \n",
       "\n",
       "[5 rows x 28 columns]"
      ]
     },
     "execution_count": 34,
     "metadata": {},
     "output_type": "execute_result"
    }
   ],
   "source": [
    "# csv of kinetic data from processing notebook\n",
    "kinetic_data_path = '/Volumes/Micah_Data/HT-MEK_data/ACYP/230415_SFL_ACYPs/Assays/PEP/d2_TitrationSeries_Analysis.csv.bz2'\n",
    "\n",
    "# csv of standard data from processing notebook\n",
    "standard_data_path = '/Volumes/Micah_Data/HT-MEK_data/ACYP/230415_SFL_ACYPs/Standards/Analysis/d2_pbp_StandardSeries_Analysis.csv.bz2'\n",
    "\n",
    "# csv of egfp data from processing notebook\n",
    "egfp_data_path = '/Volumes/Micah_Data/HT-MEK_data/ACYP/230415_SFL_ACYPs/egfp/StitchedImagesGFP_Summary.csv.bz2'\n",
    "\n",
    "# path to egfp summary image for image segmentation and manual chamber culling\n",
    "egfp_button_summary_image_path = '/Volumes/Micah_Data/HT-MEK_data/ACYP/230415_SFL_ACYPs/egfp/20230416-193203-d2_egfp_post_binding_quant/egfp/StitchedImages/SummaryImages/Summary_StitchedImg_100_egfp_0.tif'\n",
    "\n",
    "# path to the folder where you want to save the exported data\n",
    "export_path_root = \"/Volumes/Micah_Data/HT-MEK_data/ACYP/230415_SFL_ACYPs/Interpretation\"\n",
    "\n",
    "\n",
    "\n",
    "# experiment information\n",
    "experimental_day = '230419'\n",
    "experiment_name = 'AcyP_SFL_203'\n",
    "setup = 'S2'\n",
    "device = 'd2'\n",
    "egfp_slope = 188847\n",
    "substrate = 'PEP'\n",
    "all_substrate_concs = [50, 100, 250, 500]\n",
    "device_columns = 32\n",
    "device_rows = 56\n",
    "\n",
    "\n",
    "\n",
    "# Create dataframes for kinetic and standard series\n",
    "kinetic_data = processing.pd.read_csv(kinetic_data_path)\n",
    "standard_data = processing.pd.read_csv(standard_data_path)\n",
    "egfp_data = processing.pd.read_csv(egfp_data_path)\n",
    "standard_data = standard_data.dropna()\n",
    "export_path_root = export_path_root + '/' + substrate\n",
    "\n",
    "\n",
    "# Print kinetic data head\n",
    "kinetic_data.head()"
   ]
  },
  {
   "attachments": {},
   "cell_type": "markdown",
   "metadata": {},
   "source": [
    "**Development**: Extract assay data from series index; if you don't want to use this, comment out the next cell."
   ]
  },
  {
   "cell_type": "code",
   "execution_count": 7,
   "metadata": {},
   "outputs": [
    {
     "data": {
      "text/html": [
       "<div>\n",
       "<style scoped>\n",
       "    .dataframe tbody tr th:only-of-type {\n",
       "        vertical-align: middle;\n",
       "    }\n",
       "\n",
       "    .dataframe tbody tr th {\n",
       "        vertical-align: top;\n",
       "    }\n",
       "\n",
       "    .dataframe thead th {\n",
       "        text-align: right;\n",
       "    }\n",
       "</style>\n",
       "<table border=\"1\" class=\"dataframe\">\n",
       "  <thead>\n",
       "    <tr style=\"text-align: right;\">\n",
       "      <th></th>\n",
       "      <th>x</th>\n",
       "      <th>y</th>\n",
       "      <th>median_chamber</th>\n",
       "      <th>sum_chamber</th>\n",
       "      <th>std_chamber</th>\n",
       "      <th>x_center_chamber</th>\n",
       "      <th>y_center_chamber</th>\n",
       "      <th>radius_chamber</th>\n",
       "      <th>xslice</th>\n",
       "      <th>yslice</th>\n",
       "      <th>...</th>\n",
       "      <th>summed_button_annulus_normed_Button_Quant</th>\n",
       "      <th>std_button_annulus_localBG_Button_Quant</th>\n",
       "      <th>inner_radius_button_annulus_Button_Quant</th>\n",
       "      <th>outer_radius_button_annulus_Button_Quant</th>\n",
       "      <th>xslice_Button_Quant</th>\n",
       "      <th>yslice_Button_Quant</th>\n",
       "      <th>id_Button_Quant</th>\n",
       "      <th>series_index</th>\n",
       "      <th>substrate_conc_uM</th>\n",
       "      <th>substrate</th>\n",
       "    </tr>\n",
       "  </thead>\n",
       "  <tbody>\n",
       "    <tr>\n",
       "      <th>0</th>\n",
       "      <td>1</td>\n",
       "      <td>1</td>\n",
       "      <td>5873</td>\n",
       "      <td>18657458</td>\n",
       "      <td>1281</td>\n",
       "      <td>49</td>\n",
       "      <td>41</td>\n",
       "      <td>33</td>\n",
       "      <td>(392, 492)</td>\n",
       "      <td>(442, 542)</td>\n",
       "      <td>...</td>\n",
       "      <td>4220914</td>\n",
       "      <td>126</td>\n",
       "      <td>15</td>\n",
       "      <td>15</td>\n",
       "      <td>(392, 492)</td>\n",
       "      <td>(442, 542)</td>\n",
       "      <td>1C8_phorikoshii_pross_2</td>\n",
       "      <td>50uM_PEP_d2</td>\n",
       "      <td>50</td>\n",
       "      <td>PEP</td>\n",
       "    </tr>\n",
       "    <tr>\n",
       "      <th>1</th>\n",
       "      <td>1</td>\n",
       "      <td>1</td>\n",
       "      <td>5731</td>\n",
       "      <td>18313417</td>\n",
       "      <td>1174</td>\n",
       "      <td>49</td>\n",
       "      <td>41</td>\n",
       "      <td>33</td>\n",
       "      <td>(392, 492)</td>\n",
       "      <td>(442, 542)</td>\n",
       "      <td>...</td>\n",
       "      <td>4220914</td>\n",
       "      <td>126</td>\n",
       "      <td>15</td>\n",
       "      <td>15</td>\n",
       "      <td>(392, 492)</td>\n",
       "      <td>(442, 542)</td>\n",
       "      <td>1C8_phorikoshii_pross_2</td>\n",
       "      <td>50uM_PEP_d2</td>\n",
       "      <td>50</td>\n",
       "      <td>PEP</td>\n",
       "    </tr>\n",
       "    <tr>\n",
       "      <th>2</th>\n",
       "      <td>1</td>\n",
       "      <td>1</td>\n",
       "      <td>6284</td>\n",
       "      <td>19657493</td>\n",
       "      <td>1520</td>\n",
       "      <td>49</td>\n",
       "      <td>41</td>\n",
       "      <td>33</td>\n",
       "      <td>(392, 492)</td>\n",
       "      <td>(442, 542)</td>\n",
       "      <td>...</td>\n",
       "      <td>4220914</td>\n",
       "      <td>126</td>\n",
       "      <td>15</td>\n",
       "      <td>15</td>\n",
       "      <td>(392, 492)</td>\n",
       "      <td>(442, 542)</td>\n",
       "      <td>1C8_phorikoshii_pross_2</td>\n",
       "      <td>50uM_PEP_d2</td>\n",
       "      <td>50</td>\n",
       "      <td>PEP</td>\n",
       "    </tr>\n",
       "    <tr>\n",
       "      <th>3</th>\n",
       "      <td>1</td>\n",
       "      <td>1</td>\n",
       "      <td>5931</td>\n",
       "      <td>18790515</td>\n",
       "      <td>1312</td>\n",
       "      <td>49</td>\n",
       "      <td>41</td>\n",
       "      <td>33</td>\n",
       "      <td>(392, 492)</td>\n",
       "      <td>(442, 542)</td>\n",
       "      <td>...</td>\n",
       "      <td>4220914</td>\n",
       "      <td>126</td>\n",
       "      <td>15</td>\n",
       "      <td>15</td>\n",
       "      <td>(392, 492)</td>\n",
       "      <td>(442, 542)</td>\n",
       "      <td>1C8_phorikoshii_pross_2</td>\n",
       "      <td>50uM_PEP_d2</td>\n",
       "      <td>50</td>\n",
       "      <td>PEP</td>\n",
       "    </tr>\n",
       "    <tr>\n",
       "      <th>4</th>\n",
       "      <td>1</td>\n",
       "      <td>1</td>\n",
       "      <td>5747</td>\n",
       "      <td>18368459</td>\n",
       "      <td>1196</td>\n",
       "      <td>49</td>\n",
       "      <td>41</td>\n",
       "      <td>33</td>\n",
       "      <td>(392, 492)</td>\n",
       "      <td>(442, 542)</td>\n",
       "      <td>...</td>\n",
       "      <td>4220914</td>\n",
       "      <td>126</td>\n",
       "      <td>15</td>\n",
       "      <td>15</td>\n",
       "      <td>(392, 492)</td>\n",
       "      <td>(442, 542)</td>\n",
       "      <td>1C8_phorikoshii_pross_2</td>\n",
       "      <td>50uM_PEP_d2</td>\n",
       "      <td>50</td>\n",
       "      <td>PEP</td>\n",
       "    </tr>\n",
       "  </tbody>\n",
       "</table>\n",
       "<p>5 rows × 30 columns</p>\n",
       "</div>"
      ],
      "text/plain": [
       "   x  y  median_chamber  sum_chamber  std_chamber  x_center_chamber  \\\n",
       "0  1  1            5873     18657458         1281                49   \n",
       "1  1  1            5731     18313417         1174                49   \n",
       "2  1  1            6284     19657493         1520                49   \n",
       "3  1  1            5931     18790515         1312                49   \n",
       "4  1  1            5747     18368459         1196                49   \n",
       "\n",
       "   y_center_chamber  radius_chamber      xslice      yslice  ...  \\\n",
       "0                41              33  (392, 492)  (442, 542)  ...   \n",
       "1                41              33  (392, 492)  (442, 542)  ...   \n",
       "2                41              33  (392, 492)  (442, 542)  ...   \n",
       "3                41              33  (392, 492)  (442, 542)  ...   \n",
       "4                41              33  (392, 492)  (442, 542)  ...   \n",
       "\n",
       "  summed_button_annulus_normed_Button_Quant  \\\n",
       "0                                   4220914   \n",
       "1                                   4220914   \n",
       "2                                   4220914   \n",
       "3                                   4220914   \n",
       "4                                   4220914   \n",
       "\n",
       "   std_button_annulus_localBG_Button_Quant  \\\n",
       "0                                      126   \n",
       "1                                      126   \n",
       "2                                      126   \n",
       "3                                      126   \n",
       "4                                      126   \n",
       "\n",
       "   inner_radius_button_annulus_Button_Quant  \\\n",
       "0                                        15   \n",
       "1                                        15   \n",
       "2                                        15   \n",
       "3                                        15   \n",
       "4                                        15   \n",
       "\n",
       "   outer_radius_button_annulus_Button_Quant  xslice_Button_Quant  \\\n",
       "0                                        15           (392, 492)   \n",
       "1                                        15           (392, 492)   \n",
       "2                                        15           (392, 492)   \n",
       "3                                        15           (392, 492)   \n",
       "4                                        15           (392, 492)   \n",
       "\n",
       "   yslice_Button_Quant          id_Button_Quant  series_index  \\\n",
       "0           (442, 542)  1C8_phorikoshii_pross_2   50uM_PEP_d2   \n",
       "1           (442, 542)  1C8_phorikoshii_pross_2   50uM_PEP_d2   \n",
       "2           (442, 542)  1C8_phorikoshii_pross_2   50uM_PEP_d2   \n",
       "3           (442, 542)  1C8_phorikoshii_pross_2   50uM_PEP_d2   \n",
       "4           (442, 542)  1C8_phorikoshii_pross_2   50uM_PEP_d2   \n",
       "\n",
       "   substrate_conc_uM  substrate  \n",
       "0                 50        PEP  \n",
       "1                 50        PEP  \n",
       "2                 50        PEP  \n",
       "3                 50        PEP  \n",
       "4                 50        PEP  \n",
       "\n",
       "[5 rows x 30 columns]"
      ]
     },
     "execution_count": 7,
     "metadata": {},
     "output_type": "execute_result"
    }
   ],
   "source": [
    "# use regex pattern to extract substrate and condition concentrations from the series_index string such as '25uM_ATP_1mM_EDTA'\n",
    "tags = ['substrate_conc_uM', 'substrate']\n",
    "series_index_pattern = r'(?P<%s>\\d+)uM_(?P<%s>\\w+)_' % (tags[0], tags[1])\n",
    "\n",
    "# replace the sequence \"no\" in the series_index column with \"0\" to make it easier to convert to numeric\n",
    "kinetic_data['series_index'] = kinetic_data['series_index'].str.replace('no', '0mM')\n",
    "\n",
    "# apply regex pattern to each string in the \"text\" column and create new columns\n",
    "kinetic_data['series_index'].str.extract(series_index_pattern)\n",
    "\n",
    "# extract the new columns from the regex pattern and convert numeric columns to float\n",
    "kinetic_data[tags] = kinetic_data['series_index'].str.extract(series_index_pattern)\n",
    "kinetic_data[tags] = kinetic_data[tags].apply(processing.pd.to_numeric, errors='ignore')\n",
    "kinetic_data.head()"
   ]
  },
  {
   "cell_type": "code",
   "execution_count": 8,
   "metadata": {},
   "outputs": [],
   "source": [
    "# Format all dataframes\n",
    "standard_data, kinetic_data = processing.format_data(standard_data=standard_data, kinetic_data=kinetic_data, egfp_data=egfp_data)"
   ]
  },
  {
   "cell_type": "markdown",
   "metadata": {},
   "source": [
    "## \"Squeeze\" DataFrames"
   ]
  },
  {
   "cell_type": "markdown",
   "metadata": {},
   "source": [
    "At this point, our DataFrames are in a long format: each row of kinetic_data corresponds to an individual timepoint in the kinetic assays, while each row of standard_data corresponds to an individual standard concentration. To support vectorized curve fitting operations later, we want to flatten or \"squeeze\" rows of each DataFrame into series (e.g. time, intensity, standard concentration) by chamber."
   ]
  },
  {
   "cell_type": "code",
   "execution_count": 9,
   "metadata": {},
   "outputs": [],
   "source": [
    "kinetic_data['MutantID'] = kinetic_data['id'].astype(str)"
   ]
  },
  {
   "cell_type": "code",
   "execution_count": 10,
   "metadata": {},
   "outputs": [
    {
     "data": {
      "text/html": [
       "<div>\n",
       "<style scoped>\n",
       "    .dataframe tbody tr th:only-of-type {\n",
       "        vertical-align: middle;\n",
       "    }\n",
       "\n",
       "    .dataframe tbody tr th {\n",
       "        vertical-align: top;\n",
       "    }\n",
       "\n",
       "    .dataframe thead th {\n",
       "        text-align: right;\n",
       "    }\n",
       "</style>\n",
       "<table border=\"1\" class=\"dataframe\">\n",
       "  <thead>\n",
       "    <tr style=\"text-align: right;\">\n",
       "      <th></th>\n",
       "      <th>x</th>\n",
       "      <th>y</th>\n",
       "      <th>Indices</th>\n",
       "      <th>MutantID</th>\n",
       "      <th>substrate</th>\n",
       "      <th>substrate_conc_uM</th>\n",
       "      <th>summed_button_BGsub_Button_Quant</th>\n",
       "      <th>time_s</th>\n",
       "      <th>kinetic_median_intensities</th>\n",
       "    </tr>\n",
       "  </thead>\n",
       "  <tbody>\n",
       "    <tr>\n",
       "      <th>0</th>\n",
       "      <td>1</td>\n",
       "      <td>1</td>\n",
       "      <td>01,01</td>\n",
       "      <td>1C8_phorikoshii_pross_2</td>\n",
       "      <td>PEP</td>\n",
       "      <td>50</td>\n",
       "      <td>5252210</td>\n",
       "      <td>[0, 75, 150, 225, 300, 375, 450, 525, 600, 675...</td>\n",
       "      <td>[5725, 5731, 5735, 5747, 5762, 5780, 5825, 582...</td>\n",
       "    </tr>\n",
       "    <tr>\n",
       "      <th>1</th>\n",
       "      <td>1</td>\n",
       "      <td>1</td>\n",
       "      <td>01,01</td>\n",
       "      <td>1C8_phorikoshii_pross_2</td>\n",
       "      <td>PEP</td>\n",
       "      <td>100</td>\n",
       "      <td>5252210</td>\n",
       "      <td>[0, 75, 150, 225, 300, 375, 450, 525, 600, 675...</td>\n",
       "      <td>[6114, 6106, 6066, 6084, 6105, 6110, 6104, 613...</td>\n",
       "    </tr>\n",
       "  </tbody>\n",
       "</table>\n",
       "</div>"
      ],
      "text/plain": [
       "   x  y Indices                 MutantID substrate  substrate_conc_uM  \\\n",
       "0  1  1   01,01  1C8_phorikoshii_pross_2       PEP                 50   \n",
       "1  1  1   01,01  1C8_phorikoshii_pross_2       PEP                100   \n",
       "\n",
       "   summed_button_BGsub_Button_Quant  \\\n",
       "0                           5252210   \n",
       "1                           5252210   \n",
       "\n",
       "                                              time_s  \\\n",
       "0  [0, 75, 150, 225, 300, 375, 450, 525, 600, 675...   \n",
       "1  [0, 75, 150, 225, 300, 375, 450, 525, 600, 675...   \n",
       "\n",
       "                          kinetic_median_intensities  \n",
       "0  [5725, 5731, 5735, 5747, 5762, 5780, 5825, 582...  \n",
       "1  [6114, 6106, 6066, 6084, 6105, 6110, 6104, 613...  "
      ]
     },
     "metadata": {},
     "output_type": "display_data"
    }
   ],
   "source": [
    "squeeze_kinetics = processing.squeeze_kinetics(kinetic_data, additional_columns=[])"
   ]
  },
  {
   "attachments": {},
   "cell_type": "markdown",
   "metadata": {},
   "source": [
    "\"Squeeze\" standard data to serialize standard concetrations. Plot representative standard curves"
   ]
  },
  {
   "cell_type": "code",
   "execution_count": 11,
   "metadata": {},
   "outputs": [
    {
     "data": {
      "text/html": [
       "<div>\n",
       "<style scoped>\n",
       "    .dataframe tbody tr th:only-of-type {\n",
       "        vertical-align: middle;\n",
       "    }\n",
       "\n",
       "    .dataframe tbody tr th {\n",
       "        vertical-align: top;\n",
       "    }\n",
       "\n",
       "    .dataframe thead th {\n",
       "        text-align: right;\n",
       "    }\n",
       "</style>\n",
       "<table border=\"1\" class=\"dataframe\">\n",
       "  <thead>\n",
       "    <tr style=\"text-align: right;\">\n",
       "      <th></th>\n",
       "      <th>x</th>\n",
       "      <th>y</th>\n",
       "      <th>Indices</th>\n",
       "      <th>standard_concentration_uM</th>\n",
       "      <th>standard_median_intensities</th>\n",
       "    </tr>\n",
       "  </thead>\n",
       "  <tbody>\n",
       "    <tr>\n",
       "      <th>0</th>\n",
       "      <td>1</td>\n",
       "      <td>1</td>\n",
       "      <td>01,01</td>\n",
       "      <td>[1, 3, 6, 15, 30, 75]</td>\n",
       "      <td>[2568, 15498, 12956, 20596, 23836, 24427]</td>\n",
       "    </tr>\n",
       "    <tr>\n",
       "      <th>1</th>\n",
       "      <td>1</td>\n",
       "      <td>2</td>\n",
       "      <td>01,02</td>\n",
       "      <td>[1, 3, 6, 15, 30, 75]</td>\n",
       "      <td>[3641, 15630, 13374, 20982, 24458, 25124]</td>\n",
       "    </tr>\n",
       "    <tr>\n",
       "      <th>2</th>\n",
       "      <td>1</td>\n",
       "      <td>3</td>\n",
       "      <td>01,03</td>\n",
       "      <td>[1, 3, 6, 15, 30, 75]</td>\n",
       "      <td>[4721, 15659, 13648, 21141, 24649, 25307]</td>\n",
       "    </tr>\n",
       "    <tr>\n",
       "      <th>3</th>\n",
       "      <td>1</td>\n",
       "      <td>4</td>\n",
       "      <td>01,04</td>\n",
       "      <td>[1, 3, 6, 15, 30, 75]</td>\n",
       "      <td>[6231, 14957, 13297, 20228, 23503, 24236]</td>\n",
       "    </tr>\n",
       "  </tbody>\n",
       "</table>\n",
       "</div>"
      ],
      "text/plain": [
       "   x  y Indices standard_concentration_uM  \\\n",
       "0  1  1   01,01     [1, 3, 6, 15, 30, 75]   \n",
       "1  1  2   01,02     [1, 3, 6, 15, 30, 75]   \n",
       "2  1  3   01,03     [1, 3, 6, 15, 30, 75]   \n",
       "3  1  4   01,04     [1, 3, 6, 15, 30, 75]   \n",
       "\n",
       "                 standard_median_intensities  \n",
       "0  [2568, 15498, 12956, 20596, 23836, 24427]  \n",
       "1  [3641, 15630, 13374, 20982, 24458, 25124]  \n",
       "2  [4721, 15659, 13648, 21141, 24649, 25307]  \n",
       "3  [6231, 14957, 13297, 20228, 23503, 24236]  "
      ]
     },
     "metadata": {},
     "output_type": "display_data"
    },
    {
     "data": {
      "image/png": "[encoded data removed]",
      "text/plain": [
       "<Figure size 432x288 with 1 Axes>"
      ]
     },
     "metadata": {
      "needs_background": "light"
     },
     "output_type": "display_data"
    }
   ],
   "source": [
    "squeeze_standards = processing.squeeze_standard(standard_data)"
   ]
  },
  {
   "cell_type": "markdown",
   "metadata": {},
   "source": [
    "## Calculate enzyme concentration from eGFP fluorescence"
   ]
  },
  {
   "cell_type": "code",
   "execution_count": 12,
   "metadata": {},
   "outputs": [],
   "source": [
    "squeeze_kinetics['EnzymeConc'] = squeeze_kinetics['summed_button_BGsub_Button_Quant']/egfp_slope"
   ]
  },
  {
   "cell_type": "markdown",
   "metadata": {},
   "source": [
    "## Fit PBP Standard Curves"
   ]
  },
  {
   "cell_type": "markdown",
   "metadata": {},
   "source": [
    "To fit the PBP standard curve, we need to optimize a nonlinear least squares fit based on the following single-site binding isotherm for the phosphate sensor:\n",
    "\n",
    "$I([Pi]) = 0.5A(KD +[Pi]+[PS]-\\sqrt{(KD +[PS]+[Pi])^2 - 4[PS][Pi]}) + I(0μM)$\n",
    "\n",
    "where $I([Pi])$ is the median fluorescence at a given $[Pi]$, $[PS]$ is the concentration of PBP, $K_D$ is the dissociation constant of Pi from PBP, $A$ is the scaling factor necessary to relate fraction PBP bound to observed fluorescence, and $I(0μM[Pi])$ is the median fluorescence intensity of PBP in the absence of added Pi."
   ]
  },
  {
   "cell_type": "markdown",
   "metadata": {},
   "source": [
    "To find product concentrations from measured intensities, we need to invert this isotherm. For this, we use the package `sympy`, which has a nice suite of tools for symbolic math."
   ]
  },
  {
   "cell_type": "code",
   "execution_count": 31,
   "metadata": {},
   "outputs": [],
   "source": [
    "# A, KD, P_i, PS, I_0uMP_i, I_P_i = symbols('A KD P_i PS I_0uMP_i I_P_i')\n",
    "\n",
    "# isotherm_inverse = solve(0.5 * A * (KD + P_i + PS - ((KD + PS + P_i)**2 - 4*PS*P_i)**(1/2)) + I_0uMP_i - I_P_i, P_i)\n",
    "# print('Inverse of isotherm:', isotherm_inverse)"
   ]
  },
  {
   "cell_type": "markdown",
   "metadata": {},
   "source": [
    "If we would like to fit the inverse, we can simply copy this function into the following cell to perform the nonlinear least squares fit. Instead, we will densely interpolate the curve fits for each chamber and use the interpolations to approximate `[Pi]` concentration. The following function optimizes a least squares fit for each standard curve in each chamber and stores the optimum paramters as a list [`A, KD, PS, I_0uMP_i`] in the column `standard_popt`."
   ]
  },
  {
   "cell_type": "markdown",
   "metadata": {},
   "source": [
    "Now, let's check a few of the curve fits to make sure they look appropriate"
   ]
  },
  {
   "cell_type": "code",
   "execution_count": 14,
   "metadata": {},
   "outputs": [
    {
     "name": "stdout",
     "output_type": "stream",
     "text": [
      "Performing curve fits...\n",
      "Some curve fits may fail, this is expected and will be replaced with NaNs\n"
     ]
    },
    {
     "data": {
      "application/vnd.jupyter.widget-view+json": {
       "model_id": "581cfd598eec4fa99f8a883db0266247",
       "version_major": 2,
       "version_minor": 0
      },
      "text/plain": [
       "VBox(children=(HBox(children=(IntProgress(value=0, description='0.00%', max=224), Label(value='0 / 224'))), HB…"
      ]
     },
     "metadata": {},
     "output_type": "display_data"
    },
    {
     "data": {
      "image/png": "[encoded data removed]",
      "text/plain": [
       "<Figure size 864x216 with 4 Axes>"
      ]
     },
     "metadata": {
      "needs_background": "light"
     },
     "output_type": "display_data"
    }
   ],
   "source": [
    "squeeze_standards = processing.standard_curve_fit(squeeze_standards, standard_type='pbp')"
   ]
  },
  {
   "cell_type": "markdown",
   "metadata": {},
   "source": [
    "## Merge dataframes"
   ]
  },
  {
   "cell_type": "markdown",
   "metadata": {},
   "source": [
    "Next we merge the standard and kinetic data on the chamber Indices and substrate columns and convert the kinetic median intensities to product concentrations using the standard curve slope. To convert median assay intensities to product concentrations, we interpolate the curve fit and generate a lookup dictionary. This method should be replaced with a rigorous interpolation, but it will do for now."
   ]
  },
  {
   "cell_type": "code",
   "execution_count": 15,
   "metadata": {},
   "outputs": [
    {
     "name": "stdout",
     "output_type": "stream",
     "text": [
      "Calculating product concentrations...\n",
      "(If interpolating, this will take longer than the curve fitting step)\n"
     ]
    },
    {
     "data": {
      "application/vnd.jupyter.widget-view+json": {
       "model_id": "3609bcb6bece43c6846e9ddce0beaec2",
       "version_major": 2,
       "version_minor": 0
      },
      "text/plain": [
       "VBox(children=(HBox(children=(IntProgress(value=0, description='0.00%', max=896), Label(value='0 / 896'))), HB…"
      ]
     },
     "metadata": {},
     "output_type": "display_data"
    },
    {
     "name": "stdout",
     "output_type": "stream",
     "text": [
      "Curve fit failed for chamber: 10,55\n",
      "nan\n",
      "Curve fit failed for chamber: 10,55\n",
      "nan\n",
      "Curve fit failed for chamber: 10,55\n",
      "nan\n",
      "Curve fit failed for chamber: 10,55\n",
      "nan\n"
     ]
    },
    {
     "data": {
      "text/html": [
       "<div>\n",
       "<style scoped>\n",
       "    .dataframe tbody tr th:only-of-type {\n",
       "        vertical-align: middle;\n",
       "    }\n",
       "\n",
       "    .dataframe tbody tr th {\n",
       "        vertical-align: top;\n",
       "    }\n",
       "\n",
       "    .dataframe thead th {\n",
       "        text-align: right;\n",
       "    }\n",
       "</style>\n",
       "<table border=\"1\" class=\"dataframe\">\n",
       "  <thead>\n",
       "    <tr style=\"text-align: right;\">\n",
       "      <th></th>\n",
       "      <th>x</th>\n",
       "      <th>y</th>\n",
       "      <th>Indices</th>\n",
       "      <th>MutantID</th>\n",
       "      <th>substrate</th>\n",
       "      <th>substrate_conc_uM</th>\n",
       "      <th>summed_button_BGsub_Button_Quant</th>\n",
       "      <th>time_s</th>\n",
       "      <th>kinetic_median_intensities</th>\n",
       "      <th>EnzymeConc</th>\n",
       "      <th>standard_concentration_uM</th>\n",
       "      <th>standard_median_intensities</th>\n",
       "      <th>standard_popt</th>\n",
       "      <th>kinetic_product_concentration_uM</th>\n",
       "    </tr>\n",
       "  </thead>\n",
       "  <tbody>\n",
       "    <tr>\n",
       "      <th>0</th>\n",
       "      <td>1</td>\n",
       "      <td>1</td>\n",
       "      <td>01,01</td>\n",
       "      <td>1C8_phorikoshii_pross_2</td>\n",
       "      <td>PEP</td>\n",
       "      <td>50</td>\n",
       "      <td>5252210</td>\n",
       "      <td>[0, 75, 150, 225, 300, 375, 450, 525, 600, 675...</td>\n",
       "      <td>[5725, 5731, 5735, 5747, 5762, 5780, 5825, 582...</td>\n",
       "      <td>27.811985</td>\n",
       "      <td>[1, 3, 6, 15, 30, 75]</td>\n",
       "      <td>[2568, 15498, 12956, 20596, 23836, 24427]</td>\n",
       "      <td>[2072.1299809239877, 1.757801011358948, 10.000...</td>\n",
       "      <td>[0.558, 0.5959999999999999, 0.5959999999999999...</td>\n",
       "    </tr>\n",
       "  </tbody>\n",
       "</table>\n",
       "</div>"
      ],
      "text/plain": [
       "   x  y Indices                 MutantID substrate  substrate_conc_uM  \\\n",
       "0  1  1   01,01  1C8_phorikoshii_pross_2       PEP                 50   \n",
       "\n",
       "   summed_button_BGsub_Button_Quant  \\\n",
       "0                           5252210   \n",
       "\n",
       "                                              time_s  \\\n",
       "0  [0, 75, 150, 225, 300, 375, 450, 525, 600, 675...   \n",
       "\n",
       "                          kinetic_median_intensities  EnzymeConc  \\\n",
       "0  [5725, 5731, 5735, 5747, 5762, 5780, 5825, 582...   27.811985   \n",
       "\n",
       "  standard_concentration_uM                standard_median_intensities  \\\n",
       "0     [1, 3, 6, 15, 30, 75]  [2568, 15498, 12956, 20596, 23836, 24427]   \n",
       "\n",
       "                                       standard_popt  \\\n",
       "0  [2072.1299809239877, 1.757801011358948, 10.000...   \n",
       "\n",
       "                    kinetic_product_concentration_uM  \n",
       "0  [0.558, 0.5959999999999999, 0.5959999999999999...  "
      ]
     },
     "execution_count": 15,
     "metadata": {},
     "output_type": "execute_result"
    }
   ],
   "source": [
    "sq_merged = processing.merge_and_get_product_concs(squeeze_kinetics, squeeze_standards, standard_type='pbp')\n",
    "sq_merged.head(1)"
   ]
  },
  {
   "cell_type": "markdown",
   "id": "eee7397b",
   "metadata": {},
   "source": [
    "# Manual eGFP Flagging (only for [E] above the background)"
   ]
  },
  {
   "cell_type": "code",
   "execution_count": 17,
   "id": "e144553d",
   "metadata": {},
   "outputs": [
    {
     "name": "stdout",
     "output_type": "stream",
     "text": [
      "Culling record found: .../ACYP/230415_SFL_ACYPs/egfp Culling/manual_culling_record.csv. \n",
      "Loaded culling record.\n"
     ]
    },
    {
     "data": {
      "text/plain": [
       "None"
      ]
     },
     "metadata": {},
     "output_type": "display_data"
    }
   ],
   "source": [
    "# Point to directory for culling record export\n",
    "culling_export_directory = '/Volumes/Micah_Data/HT-MEK_data/ACYP/230415_SFL_ACYPs/egfp Culling'\n",
    "\n",
    "# Initialize row and column numbers\n",
    "NUM_ROWS = 56\n",
    "NUM_COLS = 32\n",
    "\n",
    "# Create button grid and display\n",
    "button_grid, flagged_set, button_stamps = processing.manual_culling(sq_merged, egfp_button_summary_image_path, NUM_ROWS, NUM_COLS, culling_export_directory)\n",
    "display(button_grid)"
   ]
  },
  {
   "attachments": {},
   "cell_type": "markdown",
   "metadata": {},
   "source": [
    "Close button finder, then add culling flag to merged DataFrame and export culling record"
   ]
  },
  {
   "cell_type": "code",
   "execution_count": 18,
   "id": "7ef23ce0",
   "metadata": {},
   "outputs": [],
   "source": [
    "# close button grid if variable exists\n",
    "if type(button_grid) == type(None):\n",
    "    pass\n",
    "else:\n",
    "    button_grid.close()\n",
    "\n",
    "# Update sq_merged with flagged chambers and export culling record\n",
    "sq_merged = processing.handle_flagged_chambers(sq_merged, flagged_set, culling_export_directory)"
   ]
  },
  {
   "attachments": {},
   "cell_type": "markdown",
   "metadata": {},
   "source": [
    "# Calculate initial rates\n",
    "To calculate initial rates for each substrate condition, we apply an algorithm adapted from page 27 of the SI in Markin, Mokhtari et al. 2020"
   ]
  },
  {
   "cell_type": "code",
   "execution_count": 29,
   "metadata": {},
   "outputs": [
    {
     "name": "stdout",
     "output_type": "stream",
     "text": [
      "Fitting initial rates...\n",
      "Done fitting initial rates. Adding results to dataframe...\n",
      "Plotting progress curves for one random mutant...\n"
     ]
    },
    {
     "data": {
      "image/png": "[encoded data removed]",
      "text/plain": [
       "<Figure size 720x216 with 4 Axes>"
      ]
     },
     "metadata": {
      "needs_background": "light"
     },
     "output_type": "display_data"
    }
   ],
   "source": [
    "sq_merged = processing.get_initial_rates(sq_merged, pbp_conc=30)"
   ]
  },
  {
   "cell_type": "markdown",
   "metadata": {},
   "source": [
    "# Michaelis-Menten curve fitting"
   ]
  },
  {
   "attachments": {},
   "cell_type": "markdown",
   "metadata": {},
   "source": [
    "To perform the fitting, we apply another \"squeeze\" to create columns for the substrate concentration series and initial rate series. Scale initial rates by enzyme concentration. If there is no measurement for a zero substrate condition, a zero placeholder is added to the beginning of the substrate conc and initial rate lists."
   ]
  },
  {
   "cell_type": "code",
   "execution_count": 31,
   "metadata": {},
   "outputs": [
    {
     "name": "stdout",
     "output_type": "stream",
     "text": [
      "Fitting Michaelis-Menten curves...\n"
     ]
    },
    {
     "data": {
      "application/vnd.jupyter.widget-view+json": {
       "model_id": "337c44f0db7a45c383f75a0eab97273f",
       "version_major": 2,
       "version_minor": 0
      },
      "text/plain": [
       "VBox(children=(HBox(children=(IntProgress(value=0, description='0.00%', max=224), Label(value='0 / 224'))), HB…"
      ]
     },
     "metadata": {},
     "output_type": "display_data"
    },
    {
     "name": "stdout",
     "output_type": "stream",
     "text": [
      "Done fitting Michaelis-Menten curves.\n",
      "Plotting examples...\n"
     ]
    },
    {
     "data": {
      "image/png": "[encoded data removed]",
      "text/plain": [
       "<Figure size 1440x216 with 4 Axes>"
      ]
     },
     "metadata": {
      "needs_background": "light"
     },
     "output_type": "display_data"
    }
   ],
   "source": [
    "squeeze_mm = processing.fit_michaelis_menten(sq_merged, exclude_concs=[75,100])"
   ]
  },
  {
   "attachments": {},
   "cell_type": "markdown",
   "metadata": {},
   "source": [
    "# Inhibition "
   ]
  },
  {
   "cell_type": "code",
   "execution_count": null,
   "metadata": {},
   "outputs": [],
   "source": [
    "# constant substrate concentration with increasing inhibitor concentration\n",
    "# should be similar to unfolding curves (normalize to 0uM inhibitor and plot y axis in linear scale)\n"
   ]
  },
  {
   "cell_type": "markdown",
   "metadata": {},
   "source": [
    "# Calculate local background ratio\n",
    "Add as a row in the by-chamber, by-substrate concentration dataframe, then squeeze into a list in the MM dataframe "
   ]
  },
  {
   "cell_type": "markdown",
   "metadata": {},
   "source": [
    "Next, iterate row-wise across the dataframe and compute the local background ratio. This algorithm is as follows: \n",
    "    1. for each chamber, store the intial rate for the highest substrate concentration condition\n",
    "    2. coerce all rates below 0.00001 to zero\n",
    "    3. store the rates in the above and below chambers\n",
    "        2.1. \n",
    "        2.2. average rates"
   ]
  },
  {
   "cell_type": "code",
   "execution_count": 32,
   "metadata": {},
   "outputs": [
    {
     "name": "stderr",
     "output_type": "stream",
     "text": [
      "/Users/micaholivas/Desktop/htmek_processing/experiment_processing/processing.py:920: SettingWithCopyWarning: \n",
      "A value is trying to be set on a copy of a slice from a DataFrame.\n",
      "Try using .loc[row_indexer,col_indexer] = value instead\n",
      "\n",
      "See the caveats in the documentation: https://pandas.pydata.org/pandas-docs/stable/user_guide/indexing.html#returning-a-view-versus-a-copy\n",
      "  local_bg_df['index_tuple'] = local_bg_df.apply(lambda row: (row.x, row.y), axis=1)\n"
     ]
    },
    {
     "data": {
      "text/html": [
       "<div>\n",
       "<style scoped>\n",
       "    .dataframe tbody tr th:only-of-type {\n",
       "        vertical-align: middle;\n",
       "    }\n",
       "\n",
       "    .dataframe tbody tr th {\n",
       "        vertical-align: top;\n",
       "    }\n",
       "\n",
       "    .dataframe thead th {\n",
       "        text-align: right;\n",
       "    }\n",
       "</style>\n",
       "<table border=\"1\" class=\"dataframe\">\n",
       "  <thead>\n",
       "    <tr style=\"text-align: right;\">\n",
       "      <th></th>\n",
       "      <th>x</th>\n",
       "      <th>y</th>\n",
       "      <th>Indices</th>\n",
       "      <th>MutantID</th>\n",
       "      <th>substrate</th>\n",
       "      <th>EnzymeConc</th>\n",
       "      <th>egfp_manual_flag</th>\n",
       "      <th>substrate_concs</th>\n",
       "      <th>initial_rates</th>\n",
       "      <th>KM_fit</th>\n",
       "      <th>vmax_fit</th>\n",
       "      <th>kcat_fit</th>\n",
       "      <th>kcat_over_KM_fit</th>\n",
       "      <th>local_bg_ratio</th>\n",
       "    </tr>\n",
       "  </thead>\n",
       "  <tbody>\n",
       "    <tr>\n",
       "      <th>0</th>\n",
       "      <td>1</td>\n",
       "      <td>1</td>\n",
       "      <td>01,01</td>\n",
       "      <td>1C8_phorikoshii_pross_2</td>\n",
       "      <td>PEP</td>\n",
       "      <td>27.811985</td>\n",
       "      <td>False</td>\n",
       "      <td>[0, 50, 250, 500]</td>\n",
       "      <td>[0, -3.956261124814499e-19, -0.000253333333333...</td>\n",
       "      <td>2.606625e+04</td>\n",
       "      <td>0.000788</td>\n",
       "      <td>0.028344</td>\n",
       "      <td>1.087379e+00</td>\n",
       "      <td>0.000000</td>\n",
       "    </tr>\n",
       "    <tr>\n",
       "      <th>1</th>\n",
       "      <td>1</td>\n",
       "      <td>2</td>\n",
       "      <td>01,02</td>\n",
       "      <td>BLANK</td>\n",
       "      <td>PEP</td>\n",
       "      <td>0.102914</td>\n",
       "      <td>False</td>\n",
       "      <td>[0, 50, 250, 500]</td>\n",
       "      <td>[0, 0.0002533333333333329, -6.330017799703199e...</td>\n",
       "      <td>2.606625e+04</td>\n",
       "      <td>0.000295</td>\n",
       "      <td>2.862837</td>\n",
       "      <td>1.098293e+02</td>\n",
       "      <td>0.000000</td>\n",
       "    </tr>\n",
       "    <tr>\n",
       "      <th>2</th>\n",
       "      <td>1</td>\n",
       "      <td>3</td>\n",
       "      <td>01,03</td>\n",
       "      <td>2A4_sbenthica_lowlambda_highid_7</td>\n",
       "      <td>PEP</td>\n",
       "      <td>46.614042</td>\n",
       "      <td>False</td>\n",
       "      <td>[0, 50, 250, 500]</td>\n",
       "      <td>[0, 0.0007600000000000012, 0.00050666666666666...</td>\n",
       "      <td>2.359036e-08</td>\n",
       "      <td>0.000591</td>\n",
       "      <td>0.012681</td>\n",
       "      <td>5.375487e+11</td>\n",
       "      <td>1.000000</td>\n",
       "    </tr>\n",
       "    <tr>\n",
       "      <th>3</th>\n",
       "      <td>1</td>\n",
       "      <td>4</td>\n",
       "      <td>01,04</td>\n",
       "      <td>BLANK</td>\n",
       "      <td>PEP</td>\n",
       "      <td>0.597261</td>\n",
       "      <td>False</td>\n",
       "      <td>[0, 50, 250, 500]</td>\n",
       "      <td>[0, 0.001266666666666666, 0.001266666666666667...</td>\n",
       "      <td>2.973456e-02</td>\n",
       "      <td>0.001267</td>\n",
       "      <td>2.121891</td>\n",
       "      <td>7.136110e+07</td>\n",
       "      <td>1.426966</td>\n",
       "    </tr>\n",
       "    <tr>\n",
       "      <th>4</th>\n",
       "      <td>1</td>\n",
       "      <td>5</td>\n",
       "      <td>01,05</td>\n",
       "      <td>1G1_phorikoshii_lowlambda_lowid_8</td>\n",
       "      <td>PEP</td>\n",
       "      <td>39.964596</td>\n",
       "      <td>False</td>\n",
       "      <td>[0, 50, 250, 500]</td>\n",
       "      <td>[0, 2.3737566748886994e-18, 0.0010133333333333...</td>\n",
       "      <td>5.614250e+02</td>\n",
       "      <td>0.002810</td>\n",
       "      <td>0.070303</td>\n",
       "      <td>1.252232e+02</td>\n",
       "      <td>0.769697</td>\n",
       "    </tr>\n",
       "  </tbody>\n",
       "</table>\n",
       "</div>"
      ],
      "text/plain": [
       "   x  y Indices                           MutantID substrate  EnzymeConc  \\\n",
       "0  1  1   01,01            1C8_phorikoshii_pross_2       PEP   27.811985   \n",
       "1  1  2   01,02                              BLANK       PEP    0.102914   \n",
       "2  1  3   01,03   2A4_sbenthica_lowlambda_highid_7       PEP   46.614042   \n",
       "3  1  4   01,04                              BLANK       PEP    0.597261   \n",
       "4  1  5   01,05  1G1_phorikoshii_lowlambda_lowid_8       PEP   39.964596   \n",
       "\n",
       "   egfp_manual_flag    substrate_concs  \\\n",
       "0             False  [0, 50, 250, 500]   \n",
       "1             False  [0, 50, 250, 500]   \n",
       "2             False  [0, 50, 250, 500]   \n",
       "3             False  [0, 50, 250, 500]   \n",
       "4             False  [0, 50, 250, 500]   \n",
       "\n",
       "                                       initial_rates        KM_fit  vmax_fit  \\\n",
       "0  [0, -3.956261124814499e-19, -0.000253333333333...  2.606625e+04  0.000788   \n",
       "1  [0, 0.0002533333333333329, -6.330017799703199e...  2.606625e+04  0.000295   \n",
       "2  [0, 0.0007600000000000012, 0.00050666666666666...  2.359036e-08  0.000591   \n",
       "3  [0, 0.001266666666666666, 0.001266666666666667...  2.973456e-02  0.001267   \n",
       "4  [0, 2.3737566748886994e-18, 0.0010133333333333...  5.614250e+02  0.002810   \n",
       "\n",
       "   kcat_fit  kcat_over_KM_fit  local_bg_ratio  \n",
       "0  0.028344      1.087379e+00        0.000000  \n",
       "1  2.862837      1.098293e+02        0.000000  \n",
       "2  0.012681      5.375487e+11        1.000000  \n",
       "3  2.121891      7.136110e+07        1.426966  \n",
       "4  0.070303      1.252232e+02        0.769697  "
      ]
     },
     "execution_count": 32,
     "metadata": {},
     "output_type": "execute_result"
    }
   ],
   "source": [
    "squeeze_mm, sq_merged = processing.calculate_local_bg_ratio(squeeze_mm, sq_merged, device_rows=device_rows, exclude_concs=[100, 75])\n",
    "squeeze_mm.head(5)"
   ]
  },
  {
   "cell_type": "markdown",
   "metadata": {},
   "source": [
    "# Print PDFs"
   ]
  },
  {
   "attachments": {},
   "cell_type": "markdown",
   "metadata": {},
   "source": [
    "Generate one experiment-level summary PDF and one PDF per chamber with the following plots:\n",
    "1. **Progress curves** for each substrate condition with linear initial rate fits\n",
    "2. **Standard curve** \n",
    "4. **Michaelis-Menten fits** to each substrate condition\n",
    "\n",
    "PDFs are exported to a `PDF` directory in the specified export directory."
   ]
  },
  {
   "cell_type": "code",
   "execution_count": 35,
   "metadata": {},
   "outputs": [
    {
     "name": "stderr",
     "output_type": "stream",
     "text": [
      "/Users/micaholivas/Desktop/htmek_processing/experiment_processing/processing.py:1063: MatplotlibDeprecationWarning: The 'norm' parameter to Colorbar has no effect because it is overridden by the mappable; it is deprecated since 3.3 and will be removed two minor releases later.\n",
      "  cbar = ax.figure.colorbar(im, ax=ax, norm=norm, **cbar_kw)\n"
     ]
    },
    {
     "data": {
      "image/png": "[encoded data removed]",
      "text/plain": [
       "<Figure size 720x720 with 5 Axes>"
      ]
     },
     "metadata": {
      "needs_background": "light"
     },
     "output_type": "display_data"
    },
    {
     "name": "stderr",
     "output_type": "stream",
     "text": [
      "  0%|          | 0/1792 [00:00<?, ?it/s]/Users/micaholivas/Desktop/htmek_processing/experiment_processing/processing.py:1250: UserWarning: Attempting to set identical bottom == top == 0 results in singular transformations; automatically expanding.\n",
      "  ax_mm_curve.set_ylim([0, max(ydata)*1.2])\n",
      "Processing (4, 1):   9%|▉         | 169/1792 [02:06<15:37,  1.73it/s] /Users/micaholivas/Desktop/htmek_processing/experiment_processing/processing.py:1250: UserWarning: Attempting to set identical bottom == top == 0 results in singular transformations; automatically expanding.\n",
      "  ax_mm_curve.set_ylim([0, max(ydata)*1.2])\n",
      "Processing (4, 56):  12%|█▎        | 224/1792 [02:45<15:09,  1.72it/s]/Users/micaholivas/Desktop/htmek_processing/experiment_processing/processing.py:1250: UserWarning: Attempting to set identical bottom == top == 0 results in singular transformations; automatically expanding.\n",
      "  ax_mm_curve.set_ylim([0, max(ydata)*1.2])\n",
      "Processing (8, 1):  22%|██▏       | 393/1792 [20:54<13:41,  1.70it/s]      /Users/micaholivas/Desktop/htmek_processing/experiment_processing/processing.py:1250: UserWarning: Attempting to set identical bottom == top == 0 results in singular transformations; automatically expanding.\n",
      "  ax_mm_curve.set_ylim([0, max(ydata)*1.2])\n",
      "Processing (10, 53):  31%|███       | 557/1792 [22:51<50:41,  2.46s/it]  \n"
     ]
    },
    {
     "ename": "ValueError",
     "evalue": "x and y must be the same size",
     "output_type": "error",
     "traceback": [
      "\u001b[0;31m---------------------------------------------------------------------------\u001b[0m",
      "\u001b[0;31mValueError\u001b[0m                                Traceback (most recent call last)",
      "\u001b[1;32m/Users/micaholivas/Desktop/htmek_processing/experiment_processing_SFL_203_230419_PEP.ipynb Cell 43\u001b[0m in \u001b[0;36m<cell line: 1>\u001b[0;34m()\u001b[0m\n\u001b[0;32m----> <a href='vscode-notebook-cell:/Users/micaholivas/Desktop/htmek_processing/experiment_processing_SFL_203_230419_PEP.ipynb#X61sZmlsZQ%3D%3D?line=0'>1</a>\u001b[0m processing\u001b[39m.\u001b[39;49mplot_chip_summary(squeeze_mm\u001b[39m=\u001b[39;49msqueeze_mm, sq_merged\u001b[39m=\u001b[39;49msq_merged, squeeze_standards\u001b[39m=\u001b[39;49msqueeze_standards, squeeze_kinetics\u001b[39m=\u001b[39;49msqueeze_kinetics, button_stamps\u001b[39m=\u001b[39;49mbutton_stamps, device_columns\u001b[39m=\u001b[39;49mdevice_columns, device_rows\u001b[39m=\u001b[39;49mdevice_rows, export_path_root\u001b[39m=\u001b[39;49mexport_path_root, experimental_day\u001b[39m=\u001b[39;49mexperimental_day, experiment_name\u001b[39m=\u001b[39;49mexperiment_name, exclude_concs\u001b[39m=\u001b[39;49m[])\n",
      "File \u001b[0;32m~/Desktop/htmek_processing/experiment_processing/processing.py:1267\u001b[0m, in \u001b[0;36mplot_chip_summary\u001b[0;34m(squeeze_mm, sq_merged, squeeze_standards, squeeze_kinetics, button_stamps, device_columns, device_rows, export_path_root, experimental_day, experiment_name, exclude_concs)\u001b[0m\n\u001b[1;32m   1265\u001b[0m \u001b[39mfor\u001b[39;00m ax, conc \u001b[39min\u001b[39;00m \u001b[39menumerate\u001b[39m(\u001b[39msorted\u001b[39m(concs)):\n\u001b[1;32m   1266\u001b[0m     plot_progress_curve(export_kinetic_df, conc\u001b[39m=\u001b[39mconc, ax\u001b[39m=\u001b[39m\u001b[39mglobals\u001b[39m()[\u001b[39m'\u001b[39m\u001b[39max_progress_curve_\u001b[39m\u001b[39m'\u001b[39m \u001b[39m+\u001b[39m \u001b[39mstr\u001b[39m(ax)] , fit_descriptors\u001b[39m=\u001b[39m\u001b[39mTrue\u001b[39;00m, kwargs_for_scatter\u001b[39m=\u001b[39m{\u001b[39m\"\u001b[39m\u001b[39ms\u001b[39m\u001b[39m\"\u001b[39m: \u001b[39m10\u001b[39m, \u001b[39m\"\u001b[39m\u001b[39mc\u001b[39m\u001b[39m\"\u001b[39m: \u001b[39m'\u001b[39m\u001b[39mblue\u001b[39m\u001b[39m'\u001b[39m}, kwargs_for_line\u001b[39m=\u001b[39m{\u001b[39m\"\u001b[39m\u001b[39mc\u001b[39m\u001b[39m\"\u001b[39m: \u001b[39m'\u001b[39m\u001b[39mblue\u001b[39m\u001b[39m'\u001b[39m})\n\u001b[0;32m-> 1267\u001b[0m     plot_progress_curve(local_background_df, conc\u001b[39m=\u001b[39;49mconc, ax\u001b[39m=\u001b[39;49m\u001b[39mglobals\u001b[39;49m()[\u001b[39m'\u001b[39;49m\u001b[39max_progress_curve_\u001b[39;49m\u001b[39m'\u001b[39;49m \u001b[39m+\u001b[39;49m \u001b[39mstr\u001b[39;49m(ax)], kwargs_for_scatter\u001b[39m=\u001b[39;49m{\u001b[39m\"\u001b[39;49m\u001b[39ms\u001b[39;49m\u001b[39m\"\u001b[39;49m: \u001b[39m5\u001b[39;49m, \u001b[39m\"\u001b[39;49m\u001b[39mc\u001b[39;49m\u001b[39m\"\u001b[39;49m: \u001b[39m'\u001b[39;49m\u001b[39mred\u001b[39;49m\u001b[39m'\u001b[39;49m, \u001b[39m'\u001b[39;49m\u001b[39malpha\u001b[39;49m\u001b[39m'\u001b[39;49m: \u001b[39m0.5\u001b[39;49m}, kwargs_for_line\u001b[39m=\u001b[39;49m{\u001b[39m\"\u001b[39;49m\u001b[39mc\u001b[39;49m\u001b[39m\"\u001b[39;49m: \u001b[39m'\u001b[39;49m\u001b[39mred\u001b[39;49m\u001b[39m'\u001b[39;49m, \u001b[39m'\u001b[39;49m\u001b[39malpha\u001b[39;49m\u001b[39m'\u001b[39;49m: \u001b[39m0.5\u001b[39;49m, \u001b[39m'\u001b[39;49m\u001b[39mlinestyle\u001b[39;49m\u001b[39m'\u001b[39;49m: \u001b[39m'\u001b[39;49m\u001b[39mdashed\u001b[39;49m\u001b[39m'\u001b[39;49m})\n\u001b[1;32m   1269\u001b[0m     \u001b[39m# set ylabel on first (left-most) plot\u001b[39;00m\n\u001b[1;32m   1270\u001b[0m     \u001b[39mif\u001b[39;00m ax \u001b[39m==\u001b[39m \u001b[39m0\u001b[39m:\n",
      "File \u001b[0;32m~/Desktop/htmek_processing/experiment_processing/processing.py:998\u001b[0m, in \u001b[0;36mplot_progress_curve\u001b[0;34m(df, conc, ax, kwargs_for_scatter, kwargs_for_line, fit_descriptors, exclude_concs)\u001b[0m\n\u001b[1;32m    995\u001b[0m two_point_fit \u001b[39m=\u001b[39m row[\u001b[39m'\u001b[39m\u001b[39mtwo_point_fit\u001b[39m\u001b[39m'\u001b[39m]\n\u001b[1;32m    997\u001b[0m \u001b[39m# plot data for the current chamber\u001b[39;00m\n\u001b[0;32m--> 998\u001b[0m ax\u001b[39m.\u001b[39;49mscatter(times, product_concs, \u001b[39m*\u001b[39;49m\u001b[39m*\u001b[39;49mkwargs_for_scatter) \u001b[39m# plot progress curve\u001b[39;00m\n\u001b[1;32m    999\u001b[0m ax\u001b[39m.\u001b[39mplot(times, (times\u001b[39m*\u001b[39mvi) \u001b[39m+\u001b[39m intercept, \u001b[39m*\u001b[39m\u001b[39m*\u001b[39mkwargs_for_line) \u001b[39m# plot initial rate line\u001b[39;00m\n\u001b[1;32m   1000\u001b[0m \u001b[39m# ax.set_xticklabels([]) # remove tick labels\u001b[39;00m\n",
      "File \u001b[0;32m/opt/anaconda3/envs/processing/lib/python3.8/site-packages/matplotlib/__init__.py:1447\u001b[0m, in \u001b[0;36m_preprocess_data.<locals>.inner\u001b[0;34m(ax, data, *args, **kwargs)\u001b[0m\n\u001b[1;32m   1444\u001b[0m \u001b[39m@functools\u001b[39m\u001b[39m.\u001b[39mwraps(func)\n\u001b[1;32m   1445\u001b[0m \u001b[39mdef\u001b[39;00m \u001b[39minner\u001b[39m(ax, \u001b[39m*\u001b[39margs, data\u001b[39m=\u001b[39m\u001b[39mNone\u001b[39;00m, \u001b[39m*\u001b[39m\u001b[39m*\u001b[39mkwargs):\n\u001b[1;32m   1446\u001b[0m     \u001b[39mif\u001b[39;00m data \u001b[39mis\u001b[39;00m \u001b[39mNone\u001b[39;00m:\n\u001b[0;32m-> 1447\u001b[0m         \u001b[39mreturn\u001b[39;00m func(ax, \u001b[39m*\u001b[39;49m\u001b[39mmap\u001b[39;49m(sanitize_sequence, args), \u001b[39m*\u001b[39;49m\u001b[39m*\u001b[39;49mkwargs)\n\u001b[1;32m   1449\u001b[0m     bound \u001b[39m=\u001b[39m new_sig\u001b[39m.\u001b[39mbind(ax, \u001b[39m*\u001b[39margs, \u001b[39m*\u001b[39m\u001b[39m*\u001b[39mkwargs)\n\u001b[1;32m   1450\u001b[0m     auto_label \u001b[39m=\u001b[39m (bound\u001b[39m.\u001b[39marguments\u001b[39m.\u001b[39mget(label_namer)\n\u001b[1;32m   1451\u001b[0m                   \u001b[39mor\u001b[39;00m bound\u001b[39m.\u001b[39mkwargs\u001b[39m.\u001b[39mget(label_namer))\n",
      "File \u001b[0;32m/opt/anaconda3/envs/processing/lib/python3.8/site-packages/matplotlib/cbook/deprecation.py:411\u001b[0m, in \u001b[0;36m_delete_parameter.<locals>.wrapper\u001b[0;34m(*inner_args, **inner_kwargs)\u001b[0m\n\u001b[1;32m    401\u001b[0m     deprecation_addendum \u001b[39m=\u001b[39m (\n\u001b[1;32m    402\u001b[0m         \u001b[39mf\u001b[39m\u001b[39m\"\u001b[39m\u001b[39mIf any parameter follows \u001b[39m\u001b[39m{\u001b[39;00mname\u001b[39m!r}\u001b[39;00m\u001b[39m, they should be passed as \u001b[39m\u001b[39m\"\u001b[39m\n\u001b[1;32m    403\u001b[0m         \u001b[39mf\u001b[39m\u001b[39m\"\u001b[39m\u001b[39mkeyword, not positionally.\u001b[39m\u001b[39m\"\u001b[39m)\n\u001b[1;32m    404\u001b[0m     warn_deprecated(\n\u001b[1;32m    405\u001b[0m         since,\n\u001b[1;32m    406\u001b[0m         name\u001b[39m=\u001b[39m\u001b[39mrepr\u001b[39m(name),\n\u001b[0;32m   (...)\u001b[0m\n\u001b[1;32m    409\u001b[0m                  \u001b[39melse\u001b[39;00m deprecation_addendum,\n\u001b[1;32m    410\u001b[0m         \u001b[39m*\u001b[39m\u001b[39m*\u001b[39mkwargs)\n\u001b[0;32m--> 411\u001b[0m \u001b[39mreturn\u001b[39;00m func(\u001b[39m*\u001b[39;49minner_args, \u001b[39m*\u001b[39;49m\u001b[39m*\u001b[39;49minner_kwargs)\n",
      "File \u001b[0;32m/opt/anaconda3/envs/processing/lib/python3.8/site-packages/matplotlib/axes/_axes.py:4441\u001b[0m, in \u001b[0;36mAxes.scatter\u001b[0;34m(self, x, y, s, c, marker, cmap, norm, vmin, vmax, alpha, linewidths, verts, edgecolors, plotnonfinite, **kwargs)\u001b[0m\n\u001b[1;32m   4439\u001b[0m y \u001b[39m=\u001b[39m np\u001b[39m.\u001b[39mma\u001b[39m.\u001b[39mravel(y)\n\u001b[1;32m   4440\u001b[0m \u001b[39mif\u001b[39;00m x\u001b[39m.\u001b[39msize \u001b[39m!=\u001b[39m y\u001b[39m.\u001b[39msize:\n\u001b[0;32m-> 4441\u001b[0m     \u001b[39mraise\u001b[39;00m \u001b[39mValueError\u001b[39;00m(\u001b[39m\"\u001b[39m\u001b[39mx and y must be the same size\u001b[39m\u001b[39m\"\u001b[39m)\n\u001b[1;32m   4443\u001b[0m \u001b[39mif\u001b[39;00m s \u001b[39mis\u001b[39;00m \u001b[39mNone\u001b[39;00m:\n\u001b[1;32m   4444\u001b[0m     s \u001b[39m=\u001b[39m (\u001b[39m20\u001b[39m \u001b[39mif\u001b[39;00m rcParams[\u001b[39m'\u001b[39m\u001b[39m_internal.classic_mode\u001b[39m\u001b[39m'\u001b[39m] \u001b[39melse\u001b[39;00m\n\u001b[1;32m   4445\u001b[0m          rcParams[\u001b[39m'\u001b[39m\u001b[39mlines.markersize\u001b[39m\u001b[39m'\u001b[39m] \u001b[39m*\u001b[39m\u001b[39m*\u001b[39m \u001b[39m2.0\u001b[39m)\n",
      "\u001b[0;31mValueError\u001b[0m: x and y must be the same size"
     ]
    },
    {
     "data": {
      "image/png": "[encoded data removed]",
      "text/plain": [
       "<Figure size 720x720 with 8 Axes>"
      ]
     },
     "metadata": {
      "needs_background": "light"
     },
     "output_type": "display_data"
    }
   ],
   "source": [
    "processing.plot_chip_summary(squeeze_mm=squeeze_mm, sq_merged=sq_merged, squeeze_standards=squeeze_standards, squeeze_kinetics=squeeze_kinetics, button_stamps=button_stamps, device_columns=device_columns, device_rows=device_rows, export_path_root=export_path_root, experimental_day=experimental_day, experiment_name=experiment_name, exclude_concs=[])"
   ]
  },
  {
   "cell_type": "markdown",
   "metadata": {},
   "source": [
    "#### Merge PDFs"
   ]
  },
  {
   "cell_type": "code",
   "execution_count": 36,
   "metadata": {},
   "outputs": [
    {
     "name": "stderr",
     "output_type": "stream",
     "text": [
      "Merging PDFs: 100%|██████████| 557/557 [00:01<00:00, 334.19it/s]\n"
     ]
    },
    {
     "name": "stdout",
     "output_type": "stream",
     "text": [
      "Writing merged pdf to file...\n",
      "Done.\n"
     ]
    }
   ],
   "source": [
    "processing.merge_pdfs(export_path_root=export_path_root)"
   ]
  },
  {
   "cell_type": "markdown",
   "metadata": {},
   "source": [
    "# Export Data"
   ]
  },
  {
   "cell_type": "code",
   "execution_count": null,
   "metadata": {},
   "outputs": [],
   "source": [
    "processing.export_data(sq_merged, sq_merged, export_path_root, experimental_day, setup, device, substrate='Multiple Substrates', experiment_name=experiment_name)"
   ]
  },
  {
   "cell_type": "code",
   "execution_count": null,
   "metadata": {},
   "outputs": [],
   "source": [
    "sq_merged['EDTA_conc_mM'].unique()"
   ]
  },
  {
   "cell_type": "code",
   "execution_count": 12,
   "metadata": {},
   "outputs": [],
   "source": [
    "import pandas as pd\n",
    "\n",
    "# export data to csv\n",
    "sq_merged.to_csv(export_path_root + '/' + experimental_day + '_' + setup + '_' + device + '_' + experiment_name + '_sq_merged.csv')"
   ]
  }
 ],
 "metadata": {
  "kernelspec": {
   "display_name": "Python 3 (ipykernel)",
   "language": "python",
   "name": "python3"
  },
  "language_info": {
   "codemirror_mode": {
    "name": "ipython",
    "version": 3
   },
   "file_extension": ".py",
   "mimetype": "text/x-python",
   "name": "python",
   "nbconvert_exporter": "python",
   "pygments_lexer": "ipython3",
   "version": "3.8.13"
  },
  "vscode": {
   "interpreter": {
    "hash": "7d554d675da1053c03ba9b4c925194630c0caa9904242dfd9f793ca6ca18d72e"
   }
  }
 },
 "nbformat": 4,
 "nbformat_minor": 2
}
